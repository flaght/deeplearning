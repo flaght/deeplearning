{
 "cells": [
  {
   "cell_type": "code",
<<<<<<< HEAD
   "execution_count": 2,
   "metadata": {},
   "outputs": [],
   "source": [
    "#!/usr/bin/env python\n",
    "# -*- coding: utf-8 -*-\n",
    "\n",
    "\"\"\"生成词向量空间\"\"\"\n",
    "\n",
    "from gensim.models import Word2Vec\n",
    "from sklearn.model_selection import train_test_split\n",
    "import numpy as np\n",
    "import logging\n",
    "import os\n",
    "\n",
    "logging.basicConfig(format='%(asctime)s : %(levelname)s : %(message)s', level=logging.INFO)\n",
    "\n",
    "# sentencestest = [['中国', '人'], ['美国', '人']]\n",
    "# # train word2vec on the two sentences\n",
    "# model = gensim.models.Word2Vec(sentences, min_count=1)\n",
    "#\n",
    "# print model[\"中国\"]\n",
    "\n",
    "\n",
    "# class MySentences1(object):\n",
    "#\n",
    "#     def __init__(self, dir_name):\n",
    "#         self.dir_name = dir_name\n",
    "#         self.do()\n",
    "#\n",
    "#     def do(self):\n",
    "#         res = []\n",
    "#         for file_name in os.listdir(self.dir_name):\n",
    "#             for line in open(os.path.join(self.dir_name, file_name)).readlines():\n",
    "#                 res.append(line.strip())\n",
    "#         return res\n",
    "\n",
    "\n",
    "# 读取文件夹中的所有数据\n",
    "# class MySentences(object):\n",
    "#     def __init__(self, dir_name):\n",
    "#         self.dir_name = dir_name\n",
    "#\n",
    "#     def __iter__(self):\n",
    "#         for file_name in os.listdir(self.dir_name):\n",
    "#             for line in open(os.path.join(self.dir_name, file_name)):\n",
    "#                 yield line.split(\",\")\n",
    "\n",
    "# #  a memory-friendly iterator\n",
    "# sentences = MySentences('/Users/li/Kunyan/MyRepository/DeepNaturalLanguageProcessing/DeepNLP/data')\n",
    "# sentences = MySentences('/Users/li/Kunyan/DataSet/trainingSets')  # a memory-friendly iterator\n",
    "\n",
    "\n",
    "# 按照标签读取数据\n",
    "def read_data(pos_file_path,neg_file_path):\n",
    "    with open(pos_file_path, \"r\") as input_file:\n",
    "        pos_file = input_file.readlines()\n",
    "\n",
    "    with open(neg_file_path, 'r') as input_file:\n",
    "        neg_file = input_file.readlines()\n",
    "\n",
    "    res = (pos_file, neg_file)\n",
    "    return res\n",
    "\n",
    "\n",
    "# 数据预处理,设置标签,训练集测试集准备\n",
    "def data_split(pos_file,neg_file):\n",
    "    # 标签\n",
    "    label = np.concatenate((np.ones(len(pos_file)), np.zeros(len(neg_file))))\n",
    "\n",
    "    # 训练集,测试集\n",
    "    x_train, x_test, y_train, y_test = train_test_split(np.concatenate((pos_file, neg_file)), label, test_size=0.1)\n",
    "\n",
    "    res = (x_train, x_test, y_train, y_test)\n",
    "    return res\n",
    "\n",
    "\n",
    "def text_clean(corpus):\n",
    "    corpus = [z.lower().replace('\\n', \" \").split(\" \") for z in corpus]\n",
    "    return corpus"
   ]
  },
  {
   "cell_type": "code",
   "execution_count": 11,
   "metadata": {},
   "outputs": [],
   "source": [
    "pos_file_path = '/Users/li/Kunyan/MyRepository/DeepNaturalLanguageProcessing/DeepNLP/data/test3.txt'\n",
    "neg_file_path = '/Users/li/Kunyan/MyRepository/DeepNaturalLanguageProcessing/DeepNLP/data/test2.txt'\n",
    "\n",
    "tmp = read_data(pos_file_path, neg_file_path)\n",
    "res = data_split(tmp[0], tmp[1])"
   ]
  },
  {
   "cell_type": "code",
   "execution_count": 12,
   "metadata": {},
   "outputs": [
    {
     "name": "stdout",
     "output_type": "stream",
     "text": [
      "批次,产品,重点,纤维,成分,含量,甲醛含量,pH,值,分解,致癌,芳香胺,染料,耐水,色牢度,耐,酸,汗渍,色牢度,耐,碱,汗渍,色牢度,耐,干摩擦,色牢度,耐,洗,色牢度,耐,干洗,色牢度,顶,破,强度等,12,项目,检验,检验,家,企业,生产,批次,产品,不合格,纤维,成分,含量,批次,不合格,耐,碱,汗渍,色牢度,批次,达标\n\n"
     ]
    }
   ],
   "source": [
    "x_train = res[0]\n",
    "# unicode(x_train,'utf-8')\n",
    "print x_train[1]"
   ]
  },
  {
   "cell_type": "code",
   "execution_count": 13,
   "metadata": {},
   "outputs": [
    {
     "name": "stdout",
     "output_type": "stream",
     "text": [
      "中国经济网,北京,9月30日,讯,中国经济网,记者,获悉,质检总局,公布,2015年,网络销售,玩具,服装,鞋类,背,提包,小家电,类,11,电子商务,产品,国家监督,专,项,抽查,情况,通,休闲服装,机织,抽检,合格率,96%,介绍,抽查,45,家,企业,生产,57,批次,产品,重点,甲醛含量,PH,值\n\n"
     ]
    }
   ],
   "source": [
    "x_test = res[1]\n",
    "print x_test[0]"
   ]
  },
  {
   "cell_type": "code",
   "execution_count": 21,
   "metadata": {},
   "outputs": [],
   "source": [
    "label_train = res[2]"
   ]
  },
  {
   "cell_type": "code",
   "execution_count": 22,
   "metadata": {},
   "outputs": [],
   "source": [
    "label_test = res[3]"
   ]
  },
  {
   "cell_type": "code",
   "execution_count": 23,
   "metadata": {},
   "outputs": [
    {
     "data": {
      "text/plain": [
       "['\\xe4\\xb8\\xad\\xe5\\x9b\\xbd\\xe7\\xbb\\x8f\\xe6\\xb5\\x8e\\xe7\\xbd\\x91,\\xe8\\xae\\xb0\\xe8\\x80\\x85,\\xe8\\x8e\\xb7\\xe6\\x82\\x89,\\xe8\\xb4\\xa8\\xe6\\xa3\\x80\\xe6\\x80\\xbb\\xe5\\xb1\\x80,\\xe5\\x85\\xac\\xe5\\xb8\\x83,2015\\xe5\\xb9\\xb4,\\xe7\\xbd\\x91\\xe7\\xbb\\x9c\\xe9\\x94\\x80\\xe5\\x94\\xae,\\xe7\\x8e\\xa9\\xe5\\x85\\xb7,\\xe6\\x9c\\x8d\\xe8\\xa3\\x85,\\xe9\\x9e\\x8b\\xe7\\xb1\\xbb,\\xe8\\x83\\x8c,\\xe6\\x8f\\x90\\xe5\\x8c\\x85,\\xe5\\xb0\\x8f\\xe5\\xae\\xb6\\xe7\\x94\\xb5,\\xe7\\xb1\\xbb,11,\\xe7\\x94\\xb5\\xe5\\xad\\x90\\xe5\\x95\\x86\\xe5\\x8a\\xa1,\\xe4\\xba\\xa7\\xe5\\x93\\x81,\\xe5\\x9b\\xbd\\xe5\\xae\\xb6\\xe7\\x9b\\x91\\xe7\\x9d\\xa3,\\xe4\\xb8\\x93,\\xe9\\xa1\\xb9,\\xe6\\x8a\\xbd\\xe6\\x9f\\xa5,\\xe6\\x83\\x85\\xe5\\x86\\xb5,\\xe9\\x80\\x9a,\\xe7\\xbe\\x8a\\xe7\\xbb\\x92,\\xe9\\x92\\x88\\xe7\\xbb\\x87\\xe6\\x9c\\x8d\\xe8\\xa3\\x85,\\xe6\\x8a\\xbd\\xe6\\xa3\\x80,\\xe5\\x90\\x88\\xe6\\xa0\\xbc\\xe7\\x8e\\x87,65%,\\xe4\\xbb\\x8b\\xe7\\xbb\\x8d,\\xe6\\x8a\\xbd\\xe6\\x9f\\xa5,25,\\xe5\\xae\\xb6,\\xe4\\xbc\\x81\\xe4\\xb8\\x9a,\\xe7\\x94\\x9f\\xe4\\xba\\xa7,26',\n '']"
      ]
     },
     "execution_count": 23,
     "metadata": {},
     "output_type": "execute_result"
    }
   ],
   "source": [
    "x_train = text_clean(x_train)\n",
    "print x_train[0]"
   ]
  },
  {
   "cell_type": "code",
   "execution_count": 14,
   "metadata": {},
   "outputs": [
    {
     "name": "stdout",
     "output_type": "stream",
     "text": [
      "['\\xe4\\xb8\\xad\\xe5\\x9b\\xbd\\xe7\\xbb\\x8f\\xe6\\xb5\\x8e\\xe7\\xbd\\x91,\\xe5\\x8c\\x97\\xe4\\xba\\xac,9\\xe6\\x9c\\x8830\\xe6\\x97\\xa5,\\xe8\\xae\\xaf,\\xe4\\xb8\\xad\\xe5\\x9b\\xbd\\xe7\\xbb\\x8f\\xe6\\xb5\\x8e\\xe7\\xbd\\x91,\\xe8\\xae\\xb0\\xe8\\x80\\x85,\\xe8\\x8e\\xb7\\xe6\\x82\\x89,\\xe8\\xb4\\xa8\\xe6\\xa3\\x80\\xe6\\x80\\xbb\\xe5\\xb1\\x80,\\xe5\\x85\\xac\\xe5\\xb8\\x83,2015\\xe5\\xb9\\xb4,\\xe7\\xbd\\x91\\xe7\\xbb\\x9c\\xe9\\x94\\x80\\xe5\\x94\\xae,\\xe7\\x8e\\xa9\\xe5\\x85\\xb7,\\xe6\\x9c\\x8d\\xe8\\xa3\\x85,\\xe9\\x9e\\x8b\\xe7\\xb1\\xbb,\\xe8\\x83\\x8c,\\xe6\\x8f\\x90\\xe5\\x8c\\x85,\\xe5\\xb0\\x8f\\xe5\\xae\\xb6\\xe7\\x94\\xb5,\\xe7\\xb1\\xbb,11,\\xe7\\x94\\xb5\\xe5\\xad\\x90\\xe5\\x95\\x86\\xe5\\x8a\\xa1,\\xe4\\xba\\xa7\\xe5\\x93\\x81,\\xe5\\x9b\\xbd\\xe5\\xae\\xb6\\xe7\\x9b\\x91\\xe7\\x9d\\xa3,\\xe4\\xb8\\x93,\\xe9\\xa1\\xb9,\\xe6\\x8a\\xbd\\xe6\\x9f\\xa5,\\xe6\\x83\\x85\\xe5\\x86\\xb5,\\xe9\\x80\\x9a,\\xe4\\xbc\\x91\\xe9\\x97\\xb2\\xe6\\x9c\\x8d\\xe8\\xa3\\x85,\\xe6\\x9c\\xba\\xe7\\xbb\\x87,\\xe6\\x8a\\xbd\\xe6\\xa3\\x80,\\xe5\\x90\\x88\\xe6\\xa0\\xbc\\xe7\\x8e\\x87,96%,\\xe4\\xbb\\x8b\\xe7\\xbb\\x8d,\\xe6\\x8a\\xbd\\xe6\\x9f\\xa5,45,\\xe5\\xae\\xb6,\\xe4\\xbc\\x81\\xe4\\xb8\\x9a,\\xe7\\x94\\x9f\\xe4\\xba\\xa7,57,\\xe6\\x89\\xb9\\xe6\\xac\\xa1,\\xe4\\xba\\xa7\\xe5\\x93\\x81,\\xe9\\x87\\x8d\\xe7\\x82\\xb9,\\xe7\\x94\\xb2\\xe9\\x86\\x9b\\xe5\\x90\\xab\\xe9\\x87\\x8f,ph,\\xe5\\x80\\xbc', '']\n"
     ]
    }
   ],
   "source": [
    "x_test = text_clean(x_test)\n",
    "print x_test[0]"
   ]
  },
  {
   "cell_type": "code",
=======
>>>>>>> bf51cc8ae946c0b9dd9a86360e63307b9fb9fce4
   "execution_count": null,
   "metadata": {},
   "outputs": [],
   "source": [
    ""
   ]
<<<<<<< HEAD
  },
  {
   "cell_type": "code",
   "execution_count": null,
   "metadata": {},
   "outputs": [],
   "source": [
    ""
   ]
=======
>>>>>>> bf51cc8ae946c0b9dd9a86360e63307b9fb9fce4
  }
 ],
 "metadata": {
  "kernelspec": {
   "display_name": "Python 2",
   "language": "python",
   "name": "python2"
  },
  "language_info": {
   "codemirror_mode": {
    "name": "ipython",
    "version": 2.0
   },
   "file_extension": ".py",
   "mimetype": "text/x-python",
   "name": "python",
   "nbconvert_exporter": "python",
   "pygments_lexer": "ipython2",
   "version": "2.7.10"
  }
 },
 "nbformat": 4,
 "nbformat_minor": 0
}