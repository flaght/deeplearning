{
 "cells": [
  {
   "cell_type": "code",
   "execution_count": 1,
   "metadata": {
    "collapsed": true
   },
   "outputs": [],
   "source": [
    "import pandas as pd\n",
    "import numpy as np\n",
    "import tensorflow as tf\n",
    "\n",
    "from sklearn.preprocessing import LabelEncoder\n",
    "from sklearn.cross_validation import StratifiedShuffleSplit\n",
    "\n",
    "train = pd.read_csv('train.csv')\n",
    "test = pd.read_csv('test.csv')"
   ]
  },
  {
   "cell_type": "code",
   "execution_count": 3,
   "metadata": {
    "collapsed": false
   },
   "outputs": [
    {
     "data": {
      "text/html": [
       "<div>\n",
       "<table border=\"1\" class=\"dataframe\">\n",
       "  <thead>\n",
       "    <tr style=\"text-align: right;\">\n",
       "      <th></th>\n",
       "      <th>margin1</th>\n",
       "      <th>margin2</th>\n",
       "      <th>margin3</th>\n",
       "      <th>margin4</th>\n",
       "      <th>margin5</th>\n",
       "      <th>margin6</th>\n",
       "      <th>margin7</th>\n",
       "      <th>margin8</th>\n",
       "      <th>margin9</th>\n",
       "      <th>margin10</th>\n",
       "      <th>...</th>\n",
       "      <th>texture56</th>\n",
       "      <th>texture57</th>\n",
       "      <th>texture58</th>\n",
       "      <th>texture59</th>\n",
       "      <th>texture60</th>\n",
       "      <th>texture61</th>\n",
       "      <th>texture62</th>\n",
       "      <th>texture63</th>\n",
       "      <th>texture64</th>\n",
       "      <th>label</th>\n",
       "    </tr>\n",
       "  </thead>\n",
       "  <tbody>\n",
       "    <tr>\n",
       "      <th>0</th>\n",
       "      <td>0.007812</td>\n",
       "      <td>0.023438</td>\n",
       "      <td>0.023438</td>\n",
       "      <td>0.003906</td>\n",
       "      <td>0.011719</td>\n",
       "      <td>0.009766</td>\n",
       "      <td>0.027344</td>\n",
       "      <td>0.0</td>\n",
       "      <td>0.001953</td>\n",
       "      <td>0.033203</td>\n",
       "      <td>...</td>\n",
       "      <td>0.000000</td>\n",
       "      <td>0.002930</td>\n",
       "      <td>0.002930</td>\n",
       "      <td>0.035156</td>\n",
       "      <td>0.0</td>\n",
       "      <td>0.0</td>\n",
       "      <td>0.004883</td>\n",
       "      <td>0.000000</td>\n",
       "      <td>0.025391</td>\n",
       "      <td>3</td>\n",
       "    </tr>\n",
       "    <tr>\n",
       "      <th>1</th>\n",
       "      <td>0.005859</td>\n",
       "      <td>0.000000</td>\n",
       "      <td>0.031250</td>\n",
       "      <td>0.015625</td>\n",
       "      <td>0.025391</td>\n",
       "      <td>0.001953</td>\n",
       "      <td>0.019531</td>\n",
       "      <td>0.0</td>\n",
       "      <td>0.000000</td>\n",
       "      <td>0.007812</td>\n",
       "      <td>...</td>\n",
       "      <td>0.000000</td>\n",
       "      <td>0.000000</td>\n",
       "      <td>0.000977</td>\n",
       "      <td>0.023438</td>\n",
       "      <td>0.0</td>\n",
       "      <td>0.0</td>\n",
       "      <td>0.000977</td>\n",
       "      <td>0.039062</td>\n",
       "      <td>0.022461</td>\n",
       "      <td>49</td>\n",
       "    </tr>\n",
       "    <tr>\n",
       "      <th>2</th>\n",
       "      <td>0.005859</td>\n",
       "      <td>0.009766</td>\n",
       "      <td>0.019531</td>\n",
       "      <td>0.007812</td>\n",
       "      <td>0.003906</td>\n",
       "      <td>0.005859</td>\n",
       "      <td>0.068359</td>\n",
       "      <td>0.0</td>\n",
       "      <td>0.000000</td>\n",
       "      <td>0.044922</td>\n",
       "      <td>...</td>\n",
       "      <td>0.000000</td>\n",
       "      <td>0.005859</td>\n",
       "      <td>0.000977</td>\n",
       "      <td>0.007812</td>\n",
       "      <td>0.0</td>\n",
       "      <td>0.0</td>\n",
       "      <td>0.000000</td>\n",
       "      <td>0.020508</td>\n",
       "      <td>0.002930</td>\n",
       "      <td>65</td>\n",
       "    </tr>\n",
       "    <tr>\n",
       "      <th>3</th>\n",
       "      <td>0.000000</td>\n",
       "      <td>0.003906</td>\n",
       "      <td>0.023438</td>\n",
       "      <td>0.005859</td>\n",
       "      <td>0.021484</td>\n",
       "      <td>0.019531</td>\n",
       "      <td>0.023438</td>\n",
       "      <td>0.0</td>\n",
       "      <td>0.013672</td>\n",
       "      <td>0.017578</td>\n",
       "      <td>...</td>\n",
       "      <td>0.000977</td>\n",
       "      <td>0.000000</td>\n",
       "      <td>0.000000</td>\n",
       "      <td>0.020508</td>\n",
       "      <td>0.0</td>\n",
       "      <td>0.0</td>\n",
       "      <td>0.017578</td>\n",
       "      <td>0.000000</td>\n",
       "      <td>0.047852</td>\n",
       "      <td>94</td>\n",
       "    </tr>\n",
       "    <tr>\n",
       "      <th>4</th>\n",
       "      <td>0.005859</td>\n",
       "      <td>0.003906</td>\n",
       "      <td>0.048828</td>\n",
       "      <td>0.009766</td>\n",
       "      <td>0.013672</td>\n",
       "      <td>0.015625</td>\n",
       "      <td>0.005859</td>\n",
       "      <td>0.0</td>\n",
       "      <td>0.000000</td>\n",
       "      <td>0.005859</td>\n",
       "      <td>...</td>\n",
       "      <td>0.000000</td>\n",
       "      <td>0.021484</td>\n",
       "      <td>0.000000</td>\n",
       "      <td>0.000000</td>\n",
       "      <td>0.0</td>\n",
       "      <td>0.0</td>\n",
       "      <td>0.000000</td>\n",
       "      <td>0.000000</td>\n",
       "      <td>0.031250</td>\n",
       "      <td>84</td>\n",
       "    </tr>\n",
       "  </tbody>\n",
       "</table>\n",
       "<p>5 rows × 193 columns</p>\n",
       "</div>"
      ],
      "text/plain": [
       "    margin1   margin2   margin3   margin4   margin5   margin6   margin7  \\\n",
       "0  0.007812  0.023438  0.023438  0.003906  0.011719  0.009766  0.027344   \n",
       "1  0.005859  0.000000  0.031250  0.015625  0.025391  0.001953  0.019531   \n",
       "2  0.005859  0.009766  0.019531  0.007812  0.003906  0.005859  0.068359   \n",
       "3  0.000000  0.003906  0.023438  0.005859  0.021484  0.019531  0.023438   \n",
       "4  0.005859  0.003906  0.048828  0.009766  0.013672  0.015625  0.005859   \n",
       "\n",
       "   margin8   margin9  margin10  ...    texture56  texture57  texture58  \\\n",
       "0      0.0  0.001953  0.033203  ...     0.000000   0.002930   0.002930   \n",
       "1      0.0  0.000000  0.007812  ...     0.000000   0.000000   0.000977   \n",
       "2      0.0  0.000000  0.044922  ...     0.000000   0.005859   0.000977   \n",
       "3      0.0  0.013672  0.017578  ...     0.000977   0.000000   0.000000   \n",
       "4      0.0  0.000000  0.005859  ...     0.000000   0.021484   0.000000   \n",
       "\n",
       "   texture59  texture60  texture61  texture62  texture63  texture64  label  \n",
       "0   0.035156        0.0        0.0   0.004883   0.000000   0.025391      3  \n",
       "1   0.023438        0.0        0.0   0.000977   0.039062   0.022461     49  \n",
       "2   0.007812        0.0        0.0   0.000000   0.020508   0.002930     65  \n",
       "3   0.020508        0.0        0.0   0.017578   0.000000   0.047852     94  \n",
       "4   0.000000        0.0        0.0   0.000000   0.000000   0.031250     84  \n",
       "\n",
       "[5 rows x 193 columns]"
      ]
     },
     "execution_count": 3,
     "metadata": {},
     "output_type": "execute_result"
    }
   ],
   "source": [
    "# Swiss army knife function to organize the data\n",
    "\n",
    "def encode(train, test):\n",
    "    le = LabelEncoder().fit(train.species) \n",
    "    labels = le.transform(train.species)           # encode species strings\n",
    "    classes = list(le.classes_)                    # save column names for submission\n",
    "    test_ids = test.id                             # save test ids for submission\n",
    "    \n",
    "    train[\"label\"] = labels\n",
    "    train = train.drop(['species', 'id'], axis=1)  \n",
    "    test = test.drop(['id'], axis=1)\n",
    "    \n",
    "    return train, labels, test, test_ids, classes\n",
    "\n",
    "train, labels, test, test_ids, classes = encode(train, test)\n",
    "train.head()"
   ]
  },
  {
   "cell_type": "code",
   "execution_count": 4,
   "metadata": {
    "collapsed": false
   },
   "outputs": [],
   "source": [
    "sss = StratifiedShuffleSplit(labels, 10, test_size=0.2, random_state=23)\n",
    "\n",
    "for train_index, test_index in sss:\n",
    "    X_train, X_test = train.loc[train_index], train.loc[test_index]"
   ]
  },
  {
   "cell_type": "code",
   "execution_count": 5,
   "metadata": {
    "collapsed": false
   },
   "outputs": [
    {
     "data": {
      "text/html": [
       "<div>\n",
       "<table border=\"1\" class=\"dataframe\">\n",
       "  <thead>\n",
       "    <tr style=\"text-align: right;\">\n",
       "      <th></th>\n",
       "      <th>margin1</th>\n",
       "      <th>margin2</th>\n",
       "      <th>margin3</th>\n",
       "      <th>margin4</th>\n",
       "      <th>margin5</th>\n",
       "      <th>margin6</th>\n",
       "      <th>margin7</th>\n",
       "      <th>margin8</th>\n",
       "      <th>margin9</th>\n",
       "      <th>margin10</th>\n",
       "      <th>...</th>\n",
       "      <th>texture56</th>\n",
       "      <th>texture57</th>\n",
       "      <th>texture58</th>\n",
       "      <th>texture59</th>\n",
       "      <th>texture60</th>\n",
       "      <th>texture61</th>\n",
       "      <th>texture62</th>\n",
       "      <th>texture63</th>\n",
       "      <th>texture64</th>\n",
       "      <th>label</th>\n",
       "    </tr>\n",
       "  </thead>\n",
       "  <tbody>\n",
       "    <tr>\n",
       "      <th>638</th>\n",
       "      <td>0.000000</td>\n",
       "      <td>0.000000</td>\n",
       "      <td>0.074219</td>\n",
       "      <td>0.044922</td>\n",
       "      <td>0.003906</td>\n",
       "      <td>0.000000</td>\n",
       "      <td>0.000000</td>\n",
       "      <td>0.0</td>\n",
       "      <td>0.013672</td>\n",
       "      <td>0.000000</td>\n",
       "      <td>...</td>\n",
       "      <td>0.001953</td>\n",
       "      <td>0.018555</td>\n",
       "      <td>0.000977</td>\n",
       "      <td>0.007812</td>\n",
       "      <td>0.000000</td>\n",
       "      <td>0.004883</td>\n",
       "      <td>0.051758</td>\n",
       "      <td>0.000000</td>\n",
       "      <td>0.000977</td>\n",
       "      <td>59</td>\n",
       "    </tr>\n",
       "    <tr>\n",
       "      <th>797</th>\n",
       "      <td>0.017578</td>\n",
       "      <td>0.009766</td>\n",
       "      <td>0.056641</td>\n",
       "      <td>0.029297</td>\n",
       "      <td>0.007812</td>\n",
       "      <td>0.017578</td>\n",
       "      <td>0.037109</td>\n",
       "      <td>0.0</td>\n",
       "      <td>0.005859</td>\n",
       "      <td>0.062500</td>\n",
       "      <td>...</td>\n",
       "      <td>0.000000</td>\n",
       "      <td>0.015625</td>\n",
       "      <td>0.017578</td>\n",
       "      <td>0.026367</td>\n",
       "      <td>0.001953</td>\n",
       "      <td>0.000000</td>\n",
       "      <td>0.022461</td>\n",
       "      <td>0.000000</td>\n",
       "      <td>0.002930</td>\n",
       "      <td>81</td>\n",
       "    </tr>\n",
       "    <tr>\n",
       "      <th>600</th>\n",
       "      <td>0.001953</td>\n",
       "      <td>0.000000</td>\n",
       "      <td>0.003906</td>\n",
       "      <td>0.007812</td>\n",
       "      <td>0.017578</td>\n",
       "      <td>0.000000</td>\n",
       "      <td>0.025391</td>\n",
       "      <td>0.0</td>\n",
       "      <td>0.000000</td>\n",
       "      <td>0.009766</td>\n",
       "      <td>...</td>\n",
       "      <td>0.001953</td>\n",
       "      <td>0.011719</td>\n",
       "      <td>0.006836</td>\n",
       "      <td>0.022461</td>\n",
       "      <td>0.000000</td>\n",
       "      <td>0.000000</td>\n",
       "      <td>0.025391</td>\n",
       "      <td>0.007812</td>\n",
       "      <td>0.048828</td>\n",
       "      <td>12</td>\n",
       "    </tr>\n",
       "    <tr>\n",
       "      <th>908</th>\n",
       "      <td>0.037109</td>\n",
       "      <td>0.017578</td>\n",
       "      <td>0.031250</td>\n",
       "      <td>0.023438</td>\n",
       "      <td>0.001953</td>\n",
       "      <td>0.078125</td>\n",
       "      <td>0.039062</td>\n",
       "      <td>0.0</td>\n",
       "      <td>0.003906</td>\n",
       "      <td>0.042969</td>\n",
       "      <td>...</td>\n",
       "      <td>0.007812</td>\n",
       "      <td>0.000000</td>\n",
       "      <td>0.155270</td>\n",
       "      <td>0.005859</td>\n",
       "      <td>0.087891</td>\n",
       "      <td>0.000000</td>\n",
       "      <td>0.076172</td>\n",
       "      <td>0.000977</td>\n",
       "      <td>0.000000</td>\n",
       "      <td>27</td>\n",
       "    </tr>\n",
       "    <tr>\n",
       "      <th>434</th>\n",
       "      <td>0.000000</td>\n",
       "      <td>0.000000</td>\n",
       "      <td>0.009766</td>\n",
       "      <td>0.021484</td>\n",
       "      <td>0.058594</td>\n",
       "      <td>0.000000</td>\n",
       "      <td>0.009766</td>\n",
       "      <td>0.0</td>\n",
       "      <td>0.011719</td>\n",
       "      <td>0.000000</td>\n",
       "      <td>...</td>\n",
       "      <td>0.049805</td>\n",
       "      <td>0.000977</td>\n",
       "      <td>0.005859</td>\n",
       "      <td>0.008789</td>\n",
       "      <td>0.000000</td>\n",
       "      <td>0.000000</td>\n",
       "      <td>0.041016</td>\n",
       "      <td>0.000000</td>\n",
       "      <td>0.009766</td>\n",
       "      <td>8</td>\n",
       "    </tr>\n",
       "  </tbody>\n",
       "</table>\n",
       "<p>5 rows × 193 columns</p>\n",
       "</div>"
      ],
      "text/plain": [
       "      margin1   margin2   margin3   margin4   margin5   margin6   margin7  \\\n",
       "638  0.000000  0.000000  0.074219  0.044922  0.003906  0.000000  0.000000   \n",
       "797  0.017578  0.009766  0.056641  0.029297  0.007812  0.017578  0.037109   \n",
       "600  0.001953  0.000000  0.003906  0.007812  0.017578  0.000000  0.025391   \n",
       "908  0.037109  0.017578  0.031250  0.023438  0.001953  0.078125  0.039062   \n",
       "434  0.000000  0.000000  0.009766  0.021484  0.058594  0.000000  0.009766   \n",
       "\n",
       "     margin8   margin9  margin10  ...    texture56  texture57  texture58  \\\n",
       "638      0.0  0.013672  0.000000  ...     0.001953   0.018555   0.000977   \n",
       "797      0.0  0.005859  0.062500  ...     0.000000   0.015625   0.017578   \n",
       "600      0.0  0.000000  0.009766  ...     0.001953   0.011719   0.006836   \n",
       "908      0.0  0.003906  0.042969  ...     0.007812   0.000000   0.155270   \n",
       "434      0.0  0.011719  0.000000  ...     0.049805   0.000977   0.005859   \n",
       "\n",
       "     texture59  texture60  texture61  texture62  texture63  texture64  label  \n",
       "638   0.007812   0.000000   0.004883   0.051758   0.000000   0.000977     59  \n",
       "797   0.026367   0.001953   0.000000   0.022461   0.000000   0.002930     81  \n",
       "600   0.022461   0.000000   0.000000   0.025391   0.007812   0.048828     12  \n",
       "908   0.005859   0.087891   0.000000   0.076172   0.000977   0.000000     27  \n",
       "434   0.008789   0.000000   0.000000   0.041016   0.000000   0.009766      8  \n",
       "\n",
       "[5 rows x 193 columns]"
      ]
     },
     "execution_count": 5,
     "metadata": {},
     "output_type": "execute_result"
    }
   ],
   "source": [
    "X_train.head()"
   ]
  },
  {
   "cell_type": "code",
   "execution_count": 6,
   "metadata": {
    "collapsed": false
   },
   "outputs": [
    {
     "data": {
      "text/plain": [
       "Index([u'margin1', u'margin2', u'margin3', u'margin4', u'margin5', u'margin6',\n",
       "       u'margin7', u'margin8', u'margin9', u'margin10',\n",
       "       ...\n",
       "       u'texture55', u'texture56', u'texture57', u'texture58', u'texture59',\n",
       "       u'texture60', u'texture61', u'texture62', u'texture63', u'texture64'],\n",
       "      dtype='object', length=192)"
      ]
     },
     "execution_count": 6,
     "metadata": {},
     "output_type": "execute_result"
    }
   ],
   "source": [
    "FEATURES = test.columns\n",
    "FEATURES"
   ]
  },
  {
   "cell_type": "code",
   "execution_count": 7,
   "metadata": {
    "collapsed": true
   },
   "outputs": [],
   "source": [
    "feature_cols = [tf.contrib.layers.real_valued_column(k) for k in FEATURES]"
   ]
  },
  {
   "cell_type": "code",
   "execution_count": 8,
   "metadata": {
    "collapsed": false
   },
   "outputs": [],
   "source": [
    "#?tf.contrib.learn.DNNClassifier()"
   ]
  },
  {
   "cell_type": "code",
   "execution_count": 10,
   "metadata": {
    "collapsed": false
   },
   "outputs": [
    {
     "name": "stderr",
     "output_type": "stream",
     "text": [
      "WARNING:tensorflow:Using temporary folder as model directory: /var/tmp/tmpk8C3jc\n",
      "WARNING:tensorflow:Using temporary folder as model directory: /var/tmp/tmpQWxvPP\n"
     ]
    }
   ],
   "source": [
    "dnn_classifier = tf.contrib.learn.DNNClassifier(feature_columns=feature_cols, hidden_units=[512, 256],n_classes=99)\n",
    "\n",
    "linear_classifier = tf.contrib.learn.LinearClassifier(feature_columns=feature_cols,n_classes=99)"
   ]
  },
  {
   "cell_type": "code",
   "execution_count": 11,
   "metadata": {
    "collapsed": true
   },
   "outputs": [],
   "source": [
    "def input_fn(df):\n",
    "    feature_cols = {k: tf.constant(df[k].values) for k in FEATURES}\n",
    "    label = tf.constant(df[\"label\"].values)\n",
    "    return feature_cols, label"
   ]
  },
  {
   "cell_type": "code",
   "execution_count": 13,
   "metadata": {
    "collapsed": false
   },
   "outputs": [
    {
     "name": "stderr",
     "output_type": "stream",
     "text": [
      "WARNING:tensorflow:Setting feature info to {'margin27': TensorSignature(dtype=tf.float64, shape=TensorShape([Dimension(792)]), is_sparse=False), 'margin20': TensorSignature(dtype=tf.float64, shape=TensorShape([Dimension(792)]), is_sparse=False), 'margin21': TensorSignature(dtype=tf.float64, shape=TensorShape([Dimension(792)]), is_sparse=False), 'shape35': TensorSignature(dtype=tf.float64, shape=TensorShape([Dimension(792)]), is_sparse=False), 'shape34': TensorSignature(dtype=tf.float64, shape=TensorShape([Dimension(792)]), is_sparse=False), 'shape37': TensorSignature(dtype=tf.float64, shape=TensorShape([Dimension(792)]), is_sparse=False), 'shape36': TensorSignature(dtype=tf.float64, shape=TensorShape([Dimension(792)]), is_sparse=False), 'shape31': TensorSignature(dtype=tf.float64, shape=TensorShape([Dimension(792)]), is_sparse=False), 'shape30': TensorSignature(dtype=tf.float64, shape=TensorShape([Dimension(792)]), is_sparse=False), 'shape33': TensorSignature(dtype=tf.float64, shape=TensorShape([Dimension(792)]), is_sparse=False), 'shape32': TensorSignature(dtype=tf.float64, shape=TensorShape([Dimension(792)]), is_sparse=False), 'shape14': TensorSignature(dtype=tf.float64, shape=TensorShape([Dimension(792)]), is_sparse=False), 'shape39': TensorSignature(dtype=tf.float64, shape=TensorShape([Dimension(792)]), is_sparse=False), 'shape38': TensorSignature(dtype=tf.float64, shape=TensorShape([Dimension(792)]), is_sparse=False), 'texture17': TensorSignature(dtype=tf.float64, shape=TensorShape([Dimension(792)]), is_sparse=False), 'texture16': TensorSignature(dtype=tf.float64, shape=TensorShape([Dimension(792)]), is_sparse=False), 'texture15': TensorSignature(dtype=tf.float64, shape=TensorShape([Dimension(792)]), is_sparse=False), 'texture14': TensorSignature(dtype=tf.float64, shape=TensorShape([Dimension(792)]), is_sparse=False), 'texture13': TensorSignature(dtype=tf.float64, shape=TensorShape([Dimension(792)]), is_sparse=False), 'texture12': TensorSignature(dtype=tf.float64, shape=TensorShape([Dimension(792)]), is_sparse=False), 'texture11': TensorSignature(dtype=tf.float64, shape=TensorShape([Dimension(792)]), is_sparse=False), 'texture10': TensorSignature(dtype=tf.float64, shape=TensorShape([Dimension(792)]), is_sparse=False), 'texture19': TensorSignature(dtype=tf.float64, shape=TensorShape([Dimension(792)]), is_sparse=False), 'texture18': TensorSignature(dtype=tf.float64, shape=TensorShape([Dimension(792)]), is_sparse=False), 'shape3': TensorSignature(dtype=tf.float64, shape=TensorShape([Dimension(792)]), is_sparse=False), 'shape2': TensorSignature(dtype=tf.float64, shape=TensorShape([Dimension(792)]), is_sparse=False), 'shape1': TensorSignature(dtype=tf.float64, shape=TensorShape([Dimension(792)]), is_sparse=False), 'shape7': TensorSignature(dtype=tf.float64, shape=TensorShape([Dimension(792)]), is_sparse=False), 'shape6': TensorSignature(dtype=tf.float64, shape=TensorShape([Dimension(792)]), is_sparse=False), 'shape5': TensorSignature(dtype=tf.float64, shape=TensorShape([Dimension(792)]), is_sparse=False), 'shape4': TensorSignature(dtype=tf.float64, shape=TensorShape([Dimension(792)]), is_sparse=False), 'shape9': TensorSignature(dtype=tf.float64, shape=TensorShape([Dimension(792)]), is_sparse=False), 'shape8': TensorSignature(dtype=tf.float64, shape=TensorShape([Dimension(792)]), is_sparse=False), 'shape22': TensorSignature(dtype=tf.float64, shape=TensorShape([Dimension(792)]), is_sparse=False), 'shape23': TensorSignature(dtype=tf.float64, shape=TensorShape([Dimension(792)]), is_sparse=False), 'shape20': TensorSignature(dtype=tf.float64, shape=TensorShape([Dimension(792)]), is_sparse=False), 'shape21': TensorSignature(dtype=tf.float64, shape=TensorShape([Dimension(792)]), is_sparse=False), 'shape26': TensorSignature(dtype=tf.float64, shape=TensorShape([Dimension(792)]), is_sparse=False), 'shape27': TensorSignature(dtype=tf.float64, shape=TensorShape([Dimension(792)]), is_sparse=False), 'shape24': TensorSignature(dtype=tf.float64, shape=TensorShape([Dimension(792)]), is_sparse=False), 'shape25': TensorSignature(dtype=tf.float64, shape=TensorShape([Dimension(792)]), is_sparse=False), 'shape28': TensorSignature(dtype=tf.float64, shape=TensorShape([Dimension(792)]), is_sparse=False), 'shape29': TensorSignature(dtype=tf.float64, shape=TensorShape([Dimension(792)]), is_sparse=False), 'margin25': TensorSignature(dtype=tf.float64, shape=TensorShape([Dimension(792)]), is_sparse=False), 'margin15': TensorSignature(dtype=tf.float64, shape=TensorShape([Dimension(792)]), is_sparse=False), 'margin14': TensorSignature(dtype=tf.float64, shape=TensorShape([Dimension(792)]), is_sparse=False), 'margin17': TensorSignature(dtype=tf.float64, shape=TensorShape([Dimension(792)]), is_sparse=False), 'margin16': TensorSignature(dtype=tf.float64, shape=TensorShape([Dimension(792)]), is_sparse=False), 'margin11': TensorSignature(dtype=tf.float64, shape=TensorShape([Dimension(792)]), is_sparse=False), 'margin10': TensorSignature(dtype=tf.float64, shape=TensorShape([Dimension(792)]), is_sparse=False), 'margin13': TensorSignature(dtype=tf.float64, shape=TensorShape([Dimension(792)]), is_sparse=False), 'margin12': TensorSignature(dtype=tf.float64, shape=TensorShape([Dimension(792)]), is_sparse=False), 'margin19': TensorSignature(dtype=tf.float64, shape=TensorShape([Dimension(792)]), is_sparse=False), 'margin18': TensorSignature(dtype=tf.float64, shape=TensorShape([Dimension(792)]), is_sparse=False), 'shape13': TensorSignature(dtype=tf.float64, shape=TensorShape([Dimension(792)]), is_sparse=False), 'margin53': TensorSignature(dtype=tf.float64, shape=TensorShape([Dimension(792)]), is_sparse=False), 'texture3': TensorSignature(dtype=tf.float64, shape=TensorShape([Dimension(792)]), is_sparse=False), 'texture2': TensorSignature(dtype=tf.float64, shape=TensorShape([Dimension(792)]), is_sparse=False), 'texture1': TensorSignature(dtype=tf.float64, shape=TensorShape([Dimension(792)]), is_sparse=False), 'texture7': TensorSignature(dtype=tf.float64, shape=TensorShape([Dimension(792)]), is_sparse=False), 'texture6': TensorSignature(dtype=tf.float64, shape=TensorShape([Dimension(792)]), is_sparse=False), 'texture5': TensorSignature(dtype=tf.float64, shape=TensorShape([Dimension(792)]), is_sparse=False), 'texture4': TensorSignature(dtype=tf.float64, shape=TensorShape([Dimension(792)]), is_sparse=False), 'margin55': TensorSignature(dtype=tf.float64, shape=TensorShape([Dimension(792)]), is_sparse=False), 'texture9': TensorSignature(dtype=tf.float64, shape=TensorShape([Dimension(792)]), is_sparse=False), 'texture8': TensorSignature(dtype=tf.float64, shape=TensorShape([Dimension(792)]), is_sparse=False), 'margin54': TensorSignature(dtype=tf.float64, shape=TensorShape([Dimension(792)]), is_sparse=False), 'margin57': TensorSignature(dtype=tf.float64, shape=TensorShape([Dimension(792)]), is_sparse=False), 'margin56': TensorSignature(dtype=tf.float64, shape=TensorShape([Dimension(792)]), is_sparse=False), 'margin38': TensorSignature(dtype=tf.float64, shape=TensorShape([Dimension(792)]), is_sparse=False), 'shape57': TensorSignature(dtype=tf.float64, shape=TensorShape([Dimension(792)]), is_sparse=False), 'shape56': TensorSignature(dtype=tf.float64, shape=TensorShape([Dimension(792)]), is_sparse=False), 'shape55': TensorSignature(dtype=tf.float64, shape=TensorShape([Dimension(792)]), is_sparse=False), 'shape54': TensorSignature(dtype=tf.float64, shape=TensorShape([Dimension(792)]), is_sparse=False), 'shape53': TensorSignature(dtype=tf.float64, shape=TensorShape([Dimension(792)]), is_sparse=False), 'shape52': TensorSignature(dtype=tf.float64, shape=TensorShape([Dimension(792)]), is_sparse=False), 'shape51': TensorSignature(dtype=tf.float64, shape=TensorShape([Dimension(792)]), is_sparse=False), 'shape50': TensorSignature(dtype=tf.float64, shape=TensorShape([Dimension(792)]), is_sparse=False), 'shape59': TensorSignature(dtype=tf.float64, shape=TensorShape([Dimension(792)]), is_sparse=False), 'shape58': TensorSignature(dtype=tf.float64, shape=TensorShape([Dimension(792)]), is_sparse=False), 'margin60': TensorSignature(dtype=tf.float64, shape=TensorShape([Dimension(792)]), is_sparse=False), 'margin61': TensorSignature(dtype=tf.float64, shape=TensorShape([Dimension(792)]), is_sparse=False), 'margin62': TensorSignature(dtype=tf.float64, shape=TensorShape([Dimension(792)]), is_sparse=False), 'margin63': TensorSignature(dtype=tf.float64, shape=TensorShape([Dimension(792)]), is_sparse=False), 'margin64': TensorSignature(dtype=tf.float64, shape=TensorShape([Dimension(792)]), is_sparse=False), 'margin9': TensorSignature(dtype=tf.float64, shape=TensorShape([Dimension(792)]), is_sparse=False), 'margin8': TensorSignature(dtype=tf.float64, shape=TensorShape([Dimension(792)]), is_sparse=False), 'margin1': TensorSignature(dtype=tf.float64, shape=TensorShape([Dimension(792)]), is_sparse=False), 'margin3': TensorSignature(dtype=tf.float64, shape=TensorShape([Dimension(792)]), is_sparse=False), 'margin2': TensorSignature(dtype=tf.float64, shape=TensorShape([Dimension(792)]), is_sparse=False), 'margin5': TensorSignature(dtype=tf.float64, shape=TensorShape([Dimension(792)]), is_sparse=False), 'margin4': TensorSignature(dtype=tf.float64, shape=TensorShape([Dimension(792)]), is_sparse=False), 'margin7': TensorSignature(dtype=tf.float64, shape=TensorShape([Dimension(792)]), is_sparse=False), 'margin6': TensorSignature(dtype=tf.float64, shape=TensorShape([Dimension(792)]), is_sparse=False), 'shape44': TensorSignature(dtype=tf.float64, shape=TensorShape([Dimension(792)]), is_sparse=False), 'shape45': TensorSignature(dtype=tf.float64, shape=TensorShape([Dimension(792)]), is_sparse=False), 'shape46': TensorSignature(dtype=tf.float64, shape=TensorShape([Dimension(792)]), is_sparse=False), 'shape47': TensorSignature(dtype=tf.float64, shape=TensorShape([Dimension(792)]), is_sparse=False), 'shape40': TensorSignature(dtype=tf.float64, shape=TensorShape([Dimension(792)]), is_sparse=False), 'shape41': TensorSignature(dtype=tf.float64, shape=TensorShape([Dimension(792)]), is_sparse=False), 'shape42': TensorSignature(dtype=tf.float64, shape=TensorShape([Dimension(792)]), is_sparse=False), 'shape43': TensorSignature(dtype=tf.float64, shape=TensorShape([Dimension(792)]), is_sparse=False), 'shape48': TensorSignature(dtype=tf.float64, shape=TensorShape([Dimension(792)]), is_sparse=False), 'shape49': TensorSignature(dtype=tf.float64, shape=TensorShape([Dimension(792)]), is_sparse=False), 'texture53': TensorSignature(dtype=tf.float64, shape=TensorShape([Dimension(792)]), is_sparse=False), 'texture52': TensorSignature(dtype=tf.float64, shape=TensorShape([Dimension(792)]), is_sparse=False), 'texture51': TensorSignature(dtype=tf.float64, shape=TensorShape([Dimension(792)]), is_sparse=False), 'texture50': TensorSignature(dtype=tf.float64, shape=TensorShape([Dimension(792)]), is_sparse=False), 'texture57': TensorSignature(dtype=tf.float64, shape=TensorShape([Dimension(792)]), is_sparse=False), 'texture56': TensorSignature(dtype=tf.float64, shape=TensorShape([Dimension(792)]), is_sparse=False), 'texture55': TensorSignature(dtype=tf.float64, shape=TensorShape([Dimension(792)]), is_sparse=False), 'texture54': TensorSignature(dtype=tf.float64, shape=TensorShape([Dimension(792)]), is_sparse=False), 'texture59': TensorSignature(dtype=tf.float64, shape=TensorShape([Dimension(792)]), is_sparse=False), 'texture58': TensorSignature(dtype=tf.float64, shape=TensorShape([Dimension(792)]), is_sparse=False), 'texture64': TensorSignature(dtype=tf.float64, shape=TensorShape([Dimension(792)]), is_sparse=False), 'shape15': TensorSignature(dtype=tf.float64, shape=TensorShape([Dimension(792)]), is_sparse=False), 'texture62': TensorSignature(dtype=tf.float64, shape=TensorShape([Dimension(792)]), is_sparse=False), 'texture63': TensorSignature(dtype=tf.float64, shape=TensorShape([Dimension(792)]), is_sparse=False), 'margin46': TensorSignature(dtype=tf.float64, shape=TensorShape([Dimension(792)]), is_sparse=False), 'margin47': TensorSignature(dtype=tf.float64, shape=TensorShape([Dimension(792)]), is_sparse=False), 'margin44': TensorSignature(dtype=tf.float64, shape=TensorShape([Dimension(792)]), is_sparse=False), 'margin45': TensorSignature(dtype=tf.float64, shape=TensorShape([Dimension(792)]), is_sparse=False), 'margin42': TensorSignature(dtype=tf.float64, shape=TensorShape([Dimension(792)]), is_sparse=False), 'texture60': TensorSignature(dtype=tf.float64, shape=TensorShape([Dimension(792)]), is_sparse=False), 'margin40': TensorSignature(dtype=tf.float64, shape=TensorShape([Dimension(792)]), is_sparse=False), 'margin41': TensorSignature(dtype=tf.float64, shape=TensorShape([Dimension(792)]), is_sparse=False), 'texture61': TensorSignature(dtype=tf.float64, shape=TensorShape([Dimension(792)]), is_sparse=False), 'margin48': TensorSignature(dtype=tf.float64, shape=TensorShape([Dimension(792)]), is_sparse=False), 'margin43': TensorSignature(dtype=tf.float64, shape=TensorShape([Dimension(792)]), is_sparse=False), 'texture44': TensorSignature(dtype=tf.float64, shape=TensorShape([Dimension(792)]), is_sparse=False), 'texture45': TensorSignature(dtype=tf.float64, shape=TensorShape([Dimension(792)]), is_sparse=False), 'texture46': TensorSignature(dtype=tf.float64, shape=TensorShape([Dimension(792)]), is_sparse=False), 'texture47': TensorSignature(dtype=tf.float64, shape=TensorShape([Dimension(792)]), is_sparse=False), 'texture40': TensorSignature(dtype=tf.float64, shape=TensorShape([Dimension(792)]), is_sparse=False), 'texture41': TensorSignature(dtype=tf.float64, shape=TensorShape([Dimension(792)]), is_sparse=False), 'texture42': TensorSignature(dtype=tf.float64, shape=TensorShape([Dimension(792)]), is_sparse=False), 'texture43': TensorSignature(dtype=tf.float64, shape=TensorShape([Dimension(792)]), is_sparse=False), 'texture48': TensorSignature(dtype=tf.float64, shape=TensorShape([Dimension(792)]), is_sparse=False), 'texture49': TensorSignature(dtype=tf.float64, shape=TensorShape([Dimension(792)]), is_sparse=False), 'margin59': TensorSignature(dtype=tf.float64, shape=TensorShape([Dimension(792)]), is_sparse=False), 'margin58': TensorSignature(dtype=tf.float64, shape=TensorShape([Dimension(792)]), is_sparse=False), 'margin39': TensorSignature(dtype=tf.float64, shape=TensorShape([Dimension(792)]), is_sparse=False), 'margin51': TensorSignature(dtype=tf.float64, shape=TensorShape([Dimension(792)]), is_sparse=False), 'margin50': TensorSignature(dtype=tf.float64, shape=TensorShape([Dimension(792)]), is_sparse=False), 'shape64': TensorSignature(dtype=tf.float64, shape=TensorShape([Dimension(792)]), is_sparse=False), 'margin52': TensorSignature(dtype=tf.float64, shape=TensorShape([Dimension(792)]), is_sparse=False), 'shape62': TensorSignature(dtype=tf.float64, shape=TensorShape([Dimension(792)]), is_sparse=False), 'shape63': TensorSignature(dtype=tf.float64, shape=TensorShape([Dimension(792)]), is_sparse=False), 'shape60': TensorSignature(dtype=tf.float64, shape=TensorShape([Dimension(792)]), is_sparse=False), 'shape61': TensorSignature(dtype=tf.float64, shape=TensorShape([Dimension(792)]), is_sparse=False), 'margin49': TensorSignature(dtype=tf.float64, shape=TensorShape([Dimension(792)]), is_sparse=False), 'margin35': TensorSignature(dtype=tf.float64, shape=TensorShape([Dimension(792)]), is_sparse=False), 'margin34': TensorSignature(dtype=tf.float64, shape=TensorShape([Dimension(792)]), is_sparse=False), 'texture31': TensorSignature(dtype=tf.float64, shape=TensorShape([Dimension(792)]), is_sparse=False), 'texture30': TensorSignature(dtype=tf.float64, shape=TensorShape([Dimension(792)]), is_sparse=False), 'shape19': TensorSignature(dtype=tf.float64, shape=TensorShape([Dimension(792)]), is_sparse=False), 'shape18': TensorSignature(dtype=tf.float64, shape=TensorShape([Dimension(792)]), is_sparse=False), 'margin28': TensorSignature(dtype=tf.float64, shape=TensorShape([Dimension(792)]), is_sparse=False), 'margin29': TensorSignature(dtype=tf.float64, shape=TensorShape([Dimension(792)]), is_sparse=False), 'texture37': TensorSignature(dtype=tf.float64, shape=TensorShape([Dimension(792)]), is_sparse=False), 'texture36': TensorSignature(dtype=tf.float64, shape=TensorShape([Dimension(792)]), is_sparse=False), 'texture39': TensorSignature(dtype=tf.float64, shape=TensorShape([Dimension(792)]), is_sparse=False), 'texture38': TensorSignature(dtype=tf.float64, shape=TensorShape([Dimension(792)]), is_sparse=False), 'margin26': TensorSignature(dtype=tf.float64, shape=TensorShape([Dimension(792)]), is_sparse=False), 'shape10': TensorSignature(dtype=tf.float64, shape=TensorShape([Dimension(792)]), is_sparse=False), 'shape17': TensorSignature(dtype=tf.float64, shape=TensorShape([Dimension(792)]), is_sparse=False), 'shape16': TensorSignature(dtype=tf.float64, shape=TensorShape([Dimension(792)]), is_sparse=False), 'margin22': TensorSignature(dtype=tf.float64, shape=TensorShape([Dimension(792)]), is_sparse=False), 'margin23': TensorSignature(dtype=tf.float64, shape=TensorShape([Dimension(792)]), is_sparse=False), 'texture33': TensorSignature(dtype=tf.float64, shape=TensorShape([Dimension(792)]), is_sparse=False), 'texture32': TensorSignature(dtype=tf.float64, shape=TensorShape([Dimension(792)]), is_sparse=False), 'texture35': TensorSignature(dtype=tf.float64, shape=TensorShape([Dimension(792)]), is_sparse=False), 'texture34': TensorSignature(dtype=tf.float64, shape=TensorShape([Dimension(792)]), is_sparse=False), 'texture22': TensorSignature(dtype=tf.float64, shape=TensorShape([Dimension(792)]), is_sparse=False), 'texture23': TensorSignature(dtype=tf.float64, shape=TensorShape([Dimension(792)]), is_sparse=False), 'texture20': TensorSignature(dtype=tf.float64, shape=TensorShape([Dimension(792)]), is_sparse=False), 'texture21': TensorSignature(dtype=tf.float64, shape=TensorShape([Dimension(792)]), is_sparse=False), 'texture26': TensorSignature(dtype=tf.float64, shape=TensorShape([Dimension(792)]), is_sparse=False), 'texture27': TensorSignature(dtype=tf.float64, shape=TensorShape([Dimension(792)]), is_sparse=False), 'texture24': TensorSignature(dtype=tf.float64, shape=TensorShape([Dimension(792)]), is_sparse=False), 'texture25': TensorSignature(dtype=tf.float64, shape=TensorShape([Dimension(792)]), is_sparse=False), 'margin37': TensorSignature(dtype=tf.float64, shape=TensorShape([Dimension(792)]), is_sparse=False), 'margin36': TensorSignature(dtype=tf.float64, shape=TensorShape([Dimension(792)]), is_sparse=False), 'texture28': TensorSignature(dtype=tf.float64, shape=TensorShape([Dimension(792)]), is_sparse=False), 'texture29': TensorSignature(dtype=tf.float64, shape=TensorShape([Dimension(792)]), is_sparse=False), 'margin33': TensorSignature(dtype=tf.float64, shape=TensorShape([Dimension(792)]), is_sparse=False), 'margin32': TensorSignature(dtype=tf.float64, shape=TensorShape([Dimension(792)]), is_sparse=False), 'margin31': TensorSignature(dtype=tf.float64, shape=TensorShape([Dimension(792)]), is_sparse=False), 'margin30': TensorSignature(dtype=tf.float64, shape=TensorShape([Dimension(792)]), is_sparse=False), 'margin24': TensorSignature(dtype=tf.float64, shape=TensorShape([Dimension(792)]), is_sparse=False), 'shape12': TensorSignature(dtype=tf.float64, shape=TensorShape([Dimension(792)]), is_sparse=False), 'shape11': TensorSignature(dtype=tf.float64, shape=TensorShape([Dimension(792)]), is_sparse=False)}\n",
      "WARNING:tensorflow:Setting targets info to TensorSignature(dtype=tf.int64, shape=TensorShape([Dimension(792)]), is_sparse=False)\n"
     ]
    },
    {
     "data": {
      "text/plain": [
       "DNNClassifier(hidden_units=[512, 256], dropout=None, optimizer=None, feature_columns=[_RealValuedColumn(column_name='margin1', dimension=1, default_value=None, dtype=tf.float32), _RealValuedColumn(column_name='margin2', dimension=1, default_value=None, dtype=tf.float32), _RealValuedColumn(column_name='margin3', dimension=1, default_value=None, dtype=tf.float32), _RealValuedColumn(column_name='margin4', dimension=1, default_value=None, dtype=tf.float32), _RealValuedColumn(column_name='margin5', dimension=1, default_value=None, dtype=tf.float32), _RealValuedColumn(column_name='margin6', dimension=1, default_value=None, dtype=tf.float32), _RealValuedColumn(column_name='margin7', dimension=1, default_value=None, dtype=tf.float32), _RealValuedColumn(column_name='margin8', dimension=1, default_value=None, dtype=tf.float32), _RealValuedColumn(column_name='margin9', dimension=1, default_value=None, dtype=tf.float32), _RealValuedColumn(column_name='margin10', dimension=1, default_value=None, dtype=tf.float32), _RealValuedColumn(column_name='margin11', dimension=1, default_value=None, dtype=tf.float32), _RealValuedColumn(column_name='margin12', dimension=1, default_value=None, dtype=tf.float32), _RealValuedColumn(column_name='margin13', dimension=1, default_value=None, dtype=tf.float32), _RealValuedColumn(column_name='margin14', dimension=1, default_value=None, dtype=tf.float32), _RealValuedColumn(column_name='margin15', dimension=1, default_value=None, dtype=tf.float32), _RealValuedColumn(column_name='margin16', dimension=1, default_value=None, dtype=tf.float32), _RealValuedColumn(column_name='margin17', dimension=1, default_value=None, dtype=tf.float32), _RealValuedColumn(column_name='margin18', dimension=1, default_value=None, dtype=tf.float32), _RealValuedColumn(column_name='margin19', dimension=1, default_value=None, dtype=tf.float32), _RealValuedColumn(column_name='margin20', dimension=1, default_value=None, dtype=tf.float32), _RealValuedColumn(column_name='margin21', dimension=1, default_value=None, dtype=tf.float32), _RealValuedColumn(column_name='margin22', dimension=1, default_value=None, dtype=tf.float32), _RealValuedColumn(column_name='margin23', dimension=1, default_value=None, dtype=tf.float32), _RealValuedColumn(column_name='margin24', dimension=1, default_value=None, dtype=tf.float32), _RealValuedColumn(column_name='margin25', dimension=1, default_value=None, dtype=tf.float32), _RealValuedColumn(column_name='margin26', dimension=1, default_value=None, dtype=tf.float32), _RealValuedColumn(column_name='margin27', dimension=1, default_value=None, dtype=tf.float32), _RealValuedColumn(column_name='margin28', dimension=1, default_value=None, dtype=tf.float32), _RealValuedColumn(column_name='margin29', dimension=1, default_value=None, dtype=tf.float32), _RealValuedColumn(column_name='margin30', dimension=1, default_value=None, dtype=tf.float32), _RealValuedColumn(column_name='margin31', dimension=1, default_value=None, dtype=tf.float32), _RealValuedColumn(column_name='margin32', dimension=1, default_value=None, dtype=tf.float32), _RealValuedColumn(column_name='margin33', dimension=1, default_value=None, dtype=tf.float32), _RealValuedColumn(column_name='margin34', dimension=1, default_value=None, dtype=tf.float32), _RealValuedColumn(column_name='margin35', dimension=1, default_value=None, dtype=tf.float32), _RealValuedColumn(column_name='margin36', dimension=1, default_value=None, dtype=tf.float32), _RealValuedColumn(column_name='margin37', dimension=1, default_value=None, dtype=tf.float32), _RealValuedColumn(column_name='margin38', dimension=1, default_value=None, dtype=tf.float32), _RealValuedColumn(column_name='margin39', dimension=1, default_value=None, dtype=tf.float32), _RealValuedColumn(column_name='margin40', dimension=1, default_value=None, dtype=tf.float32), _RealValuedColumn(column_name='margin41', dimension=1, default_value=None, dtype=tf.float32), _RealValuedColumn(column_name='margin42', dimension=1, default_value=None, dtype=tf.float32), _RealValuedColumn(column_name='margin43', dimension=1, default_value=None, dtype=tf.float32), _RealValuedColumn(column_name='margin44', dimension=1, default_value=None, dtype=tf.float32), _RealValuedColumn(column_name='margin45', dimension=1, default_value=None, dtype=tf.float32), _RealValuedColumn(column_name='margin46', dimension=1, default_value=None, dtype=tf.float32), _RealValuedColumn(column_name='margin47', dimension=1, default_value=None, dtype=tf.float32), _RealValuedColumn(column_name='margin48', dimension=1, default_value=None, dtype=tf.float32), _RealValuedColumn(column_name='margin49', dimension=1, default_value=None, dtype=tf.float32), _RealValuedColumn(column_name='margin50', dimension=1, default_value=None, dtype=tf.float32), _RealValuedColumn(column_name='margin51', dimension=1, default_value=None, dtype=tf.float32), _RealValuedColumn(column_name='margin52', dimension=1, default_value=None, dtype=tf.float32), _RealValuedColumn(column_name='margin53', dimension=1, default_value=None, dtype=tf.float32), _RealValuedColumn(column_name='margin54', dimension=1, default_value=None, dtype=tf.float32), _RealValuedColumn(column_name='margin55', dimension=1, default_value=None, dtype=tf.float32), _RealValuedColumn(column_name='margin56', dimension=1, default_value=None, dtype=tf.float32), _RealValuedColumn(column_name='margin57', dimension=1, default_value=None, dtype=tf.float32), _RealValuedColumn(column_name='margin58', dimension=1, default_value=None, dtype=tf.float32), _RealValuedColumn(column_name='margin59', dimension=1, default_value=None, dtype=tf.float32), _RealValuedColumn(column_name='margin60', dimension=1, default_value=None, dtype=tf.float32), _RealValuedColumn(column_name='margin61', dimension=1, default_value=None, dtype=tf.float32), _RealValuedColumn(column_name='margin62', dimension=1, default_value=None, dtype=tf.float32), _RealValuedColumn(column_name='margin63', dimension=1, default_value=None, dtype=tf.float32), _RealValuedColumn(column_name='margin64', dimension=1, default_value=None, dtype=tf.float32), _RealValuedColumn(column_name='shape1', dimension=1, default_value=None, dtype=tf.float32), _RealValuedColumn(column_name='shape2', dimension=1, default_value=None, dtype=tf.float32), _RealValuedColumn(column_name='shape3', dimension=1, default_value=None, dtype=tf.float32), _RealValuedColumn(column_name='shape4', dimension=1, default_value=None, dtype=tf.float32), _RealValuedColumn(column_name='shape5', dimension=1, default_value=None, dtype=tf.float32), _RealValuedColumn(column_name='shape6', dimension=1, default_value=None, dtype=tf.float32), _RealValuedColumn(column_name='shape7', dimension=1, default_value=None, dtype=tf.float32), _RealValuedColumn(column_name='shape8', dimension=1, default_value=None, dtype=tf.float32), _RealValuedColumn(column_name='shape9', dimension=1, default_value=None, dtype=tf.float32), _RealValuedColumn(column_name='shape10', dimension=1, default_value=None, dtype=tf.float32), _RealValuedColumn(column_name='shape11', dimension=1, default_value=None, dtype=tf.float32), _RealValuedColumn(column_name='shape12', dimension=1, default_value=None, dtype=tf.float32), _RealValuedColumn(column_name='shape13', dimension=1, default_value=None, dtype=tf.float32), _RealValuedColumn(column_name='shape14', dimension=1, default_value=None, dtype=tf.float32), _RealValuedColumn(column_name='shape15', dimension=1, default_value=None, dtype=tf.float32), _RealValuedColumn(column_name='shape16', dimension=1, default_value=None, dtype=tf.float32), _RealValuedColumn(column_name='shape17', dimension=1, default_value=None, dtype=tf.float32), _RealValuedColumn(column_name='shape18', dimension=1, default_value=None, dtype=tf.float32), _RealValuedColumn(column_name='shape19', dimension=1, default_value=None, dtype=tf.float32), _RealValuedColumn(column_name='shape20', dimension=1, default_value=None, dtype=tf.float32), _RealValuedColumn(column_name='shape21', dimension=1, default_value=None, dtype=tf.float32), _RealValuedColumn(column_name='shape22', dimension=1, default_value=None, dtype=tf.float32), _RealValuedColumn(column_name='shape23', dimension=1, default_value=None, dtype=tf.float32), _RealValuedColumn(column_name='shape24', dimension=1, default_value=None, dtype=tf.float32), _RealValuedColumn(column_name='shape25', dimension=1, default_value=None, dtype=tf.float32), _RealValuedColumn(column_name='shape26', dimension=1, default_value=None, dtype=tf.float32), _RealValuedColumn(column_name='shape27', dimension=1, default_value=None, dtype=tf.float32), _RealValuedColumn(column_name='shape28', dimension=1, default_value=None, dtype=tf.float32), _RealValuedColumn(column_name='shape29', dimension=1, default_value=None, dtype=tf.float32), _RealValuedColumn(column_name='shape30', dimension=1, default_value=None, dtype=tf.float32), _RealValuedColumn(column_name='shape31', dimension=1, default_value=None, dtype=tf.float32), _RealValuedColumn(column_name='shape32', dimension=1, default_value=None, dtype=tf.float32), _RealValuedColumn(column_name='shape33', dimension=1, default_value=None, dtype=tf.float32), _RealValuedColumn(column_name='shape34', dimension=1, default_value=None, dtype=tf.float32), _RealValuedColumn(column_name='shape35', dimension=1, default_value=None, dtype=tf.float32), _RealValuedColumn(column_name='shape36', dimension=1, default_value=None, dtype=tf.float32), _RealValuedColumn(column_name='shape37', dimension=1, default_value=None, dtype=tf.float32), _RealValuedColumn(column_name='shape38', dimension=1, default_value=None, dtype=tf.float32), _RealValuedColumn(column_name='shape39', dimension=1, default_value=None, dtype=tf.float32), _RealValuedColumn(column_name='shape40', dimension=1, default_value=None, dtype=tf.float32), _RealValuedColumn(column_name='shape41', dimension=1, default_value=None, dtype=tf.float32), _RealValuedColumn(column_name='shape42', dimension=1, default_value=None, dtype=tf.float32), _RealValuedColumn(column_name='shape43', dimension=1, default_value=None, dtype=tf.float32), _RealValuedColumn(column_name='shape44', dimension=1, default_value=None, dtype=tf.float32), _RealValuedColumn(column_name='shape45', dimension=1, default_value=None, dtype=tf.float32), _RealValuedColumn(column_name='shape46', dimension=1, default_value=None, dtype=tf.float32), _RealValuedColumn(column_name='shape47', dimension=1, default_value=None, dtype=tf.float32), _RealValuedColumn(column_name='shape48', dimension=1, default_value=None, dtype=tf.float32), _RealValuedColumn(column_name='shape49', dimension=1, default_value=None, dtype=tf.float32), _RealValuedColumn(column_name='shape50', dimension=1, default_value=None, dtype=tf.float32), _RealValuedColumn(column_name='shape51', dimension=1, default_value=None, dtype=tf.float32), _RealValuedColumn(column_name='shape52', dimension=1, default_value=None, dtype=tf.float32), _RealValuedColumn(column_name='shape53', dimension=1, default_value=None, dtype=tf.float32), _RealValuedColumn(column_name='shape54', dimension=1, default_value=None, dtype=tf.float32), _RealValuedColumn(column_name='shape55', dimension=1, default_value=None, dtype=tf.float32), _RealValuedColumn(column_name='shape56', dimension=1, default_value=None, dtype=tf.float32), _RealValuedColumn(column_name='shape57', dimension=1, default_value=None, dtype=tf.float32), _RealValuedColumn(column_name='shape58', dimension=1, default_value=None, dtype=tf.float32), _RealValuedColumn(column_name='shape59', dimension=1, default_value=None, dtype=tf.float32), _RealValuedColumn(column_name='shape60', dimension=1, default_value=None, dtype=tf.float32), _RealValuedColumn(column_name='shape61', dimension=1, default_value=None, dtype=tf.float32), _RealValuedColumn(column_name='shape62', dimension=1, default_value=None, dtype=tf.float32), _RealValuedColumn(column_name='shape63', dimension=1, default_value=None, dtype=tf.float32), _RealValuedColumn(column_name='shape64', dimension=1, default_value=None, dtype=tf.float32), _RealValuedColumn(column_name='texture1', dimension=1, default_value=None, dtype=tf.float32), _RealValuedColumn(column_name='texture2', dimension=1, default_value=None, dtype=tf.float32), _RealValuedColumn(column_name='texture3', dimension=1, default_value=None, dtype=tf.float32), _RealValuedColumn(column_name='texture4', dimension=1, default_value=None, dtype=tf.float32), _RealValuedColumn(column_name='texture5', dimension=1, default_value=None, dtype=tf.float32), _RealValuedColumn(column_name='texture6', dimension=1, default_value=None, dtype=tf.float32), _RealValuedColumn(column_name='texture7', dimension=1, default_value=None, dtype=tf.float32), _RealValuedColumn(column_name='texture8', dimension=1, default_value=None, dtype=tf.float32), _RealValuedColumn(column_name='texture9', dimension=1, default_value=None, dtype=tf.float32), _RealValuedColumn(column_name='texture10', dimension=1, default_value=None, dtype=tf.float32), _RealValuedColumn(column_name='texture11', dimension=1, default_value=None, dtype=tf.float32), _RealValuedColumn(column_name='texture12', dimension=1, default_value=None, dtype=tf.float32), _RealValuedColumn(column_name='texture13', dimension=1, default_value=None, dtype=tf.float32), _RealValuedColumn(column_name='texture14', dimension=1, default_value=None, dtype=tf.float32), _RealValuedColumn(column_name='texture15', dimension=1, default_value=None, dtype=tf.float32), _RealValuedColumn(column_name='texture16', dimension=1, default_value=None, dtype=tf.float32), _RealValuedColumn(column_name='texture17', dimension=1, default_value=None, dtype=tf.float32), _RealValuedColumn(column_name='texture18', dimension=1, default_value=None, dtype=tf.float32), _RealValuedColumn(column_name='texture19', dimension=1, default_value=None, dtype=tf.float32), _RealValuedColumn(column_name='texture20', dimension=1, default_value=None, dtype=tf.float32), _RealValuedColumn(column_name='texture21', dimension=1, default_value=None, dtype=tf.float32), _RealValuedColumn(column_name='texture22', dimension=1, default_value=None, dtype=tf.float32), _RealValuedColumn(column_name='texture23', dimension=1, default_value=None, dtype=tf.float32), _RealValuedColumn(column_name='texture24', dimension=1, default_value=None, dtype=tf.float32), _RealValuedColumn(column_name='texture25', dimension=1, default_value=None, dtype=tf.float32), _RealValuedColumn(column_name='texture26', dimension=1, default_value=None, dtype=tf.float32), _RealValuedColumn(column_name='texture27', dimension=1, default_value=None, dtype=tf.float32), _RealValuedColumn(column_name='texture28', dimension=1, default_value=None, dtype=tf.float32), _RealValuedColumn(column_name='texture29', dimension=1, default_value=None, dtype=tf.float32), _RealValuedColumn(column_name='texture30', dimension=1, default_value=None, dtype=tf.float32), _RealValuedColumn(column_name='texture31', dimension=1, default_value=None, dtype=tf.float32), _RealValuedColumn(column_name='texture32', dimension=1, default_value=None, dtype=tf.float32), _RealValuedColumn(column_name='texture33', dimension=1, default_value=None, dtype=tf.float32), _RealValuedColumn(column_name='texture34', dimension=1, default_value=None, dtype=tf.float32), _RealValuedColumn(column_name='texture35', dimension=1, default_value=None, dtype=tf.float32), _RealValuedColumn(column_name='texture36', dimension=1, default_value=None, dtype=tf.float32), _RealValuedColumn(column_name='texture37', dimension=1, default_value=None, dtype=tf.float32), _RealValuedColumn(column_name='texture38', dimension=1, default_value=None, dtype=tf.float32), _RealValuedColumn(column_name='texture39', dimension=1, default_value=None, dtype=tf.float32), _RealValuedColumn(column_name='texture40', dimension=1, default_value=None, dtype=tf.float32), _RealValuedColumn(column_name='texture41', dimension=1, default_value=None, dtype=tf.float32), _RealValuedColumn(column_name='texture42', dimension=1, default_value=None, dtype=tf.float32), _RealValuedColumn(column_name='texture43', dimension=1, default_value=None, dtype=tf.float32), _RealValuedColumn(column_name='texture44', dimension=1, default_value=None, dtype=tf.float32), _RealValuedColumn(column_name='texture45', dimension=1, default_value=None, dtype=tf.float32), _RealValuedColumn(column_name='texture46', dimension=1, default_value=None, dtype=tf.float32), _RealValuedColumn(column_name='texture47', dimension=1, default_value=None, dtype=tf.float32), _RealValuedColumn(column_name='texture48', dimension=1, default_value=None, dtype=tf.float32), _RealValuedColumn(column_name='texture49', dimension=1, default_value=None, dtype=tf.float32), _RealValuedColumn(column_name='texture50', dimension=1, default_value=None, dtype=tf.float32), _RealValuedColumn(column_name='texture51', dimension=1, default_value=None, dtype=tf.float32), _RealValuedColumn(column_name='texture52', dimension=1, default_value=None, dtype=tf.float32), _RealValuedColumn(column_name='texture53', dimension=1, default_value=None, dtype=tf.float32), _RealValuedColumn(column_name='texture54', dimension=1, default_value=None, dtype=tf.float32), _RealValuedColumn(column_name='texture55', dimension=1, default_value=None, dtype=tf.float32), _RealValuedColumn(column_name='texture56', dimension=1, default_value=None, dtype=tf.float32), _RealValuedColumn(column_name='texture57', dimension=1, default_value=None, dtype=tf.float32), _RealValuedColumn(column_name='texture58', dimension=1, default_value=None, dtype=tf.float32), _RealValuedColumn(column_name='texture59', dimension=1, default_value=None, dtype=tf.float32), _RealValuedColumn(column_name='texture60', dimension=1, default_value=None, dtype=tf.float32), _RealValuedColumn(column_name='texture61', dimension=1, default_value=None, dtype=tf.float32), _RealValuedColumn(column_name='texture62', dimension=1, default_value=None, dtype=tf.float32), _RealValuedColumn(column_name='texture63', dimension=1, default_value=None, dtype=tf.float32), _RealValuedColumn(column_name='texture64', dimension=1, default_value=None, dtype=tf.float32)])"
      ]
     },
     "execution_count": 13,
     "metadata": {},
     "output_type": "execute_result"
    }
   ],
   "source": [
    "dnn_classifier.fit(input_fn=lambda: input_fn(X_train), steps=2000)"
   ]
  },
  {
   "cell_type": "code",
   "execution_count": 14,
   "metadata": {
    "collapsed": false
   },
   "outputs": [
    {
     "name": "stderr",
     "output_type": "stream",
     "text": [
      "WARNING:tensorflow:Given features: {'shape10': <tf.Tensor 'Const_73:0' shape=(198,) dtype=float64>, 'texture39': <tf.Tensor 'Const_166:0' shape=(198,) dtype=float64>, 'shape17': <tf.Tensor 'Const_80:0' shape=(198,) dtype=float64>, 'shape16': <tf.Tensor 'Const_79:0' shape=(198,) dtype=float64>, 'shape35': <tf.Tensor 'Const_98:0' shape=(198,) dtype=float64>, 'shape34': <tf.Tensor 'Const_97:0' shape=(198,) dtype=float64>, 'shape37': <tf.Tensor 'Const_100:0' shape=(198,) dtype=float64>, 'shape36': <tf.Tensor 'Const_99:0' shape=(198,) dtype=float64>, 'shape31': <tf.Tensor 'Const_94:0' shape=(198,) dtype=float64>, 'margin22': <tf.Tensor 'Const_21:0' shape=(198,) dtype=float64>, 'shape33': <tf.Tensor 'Const_96:0' shape=(198,) dtype=float64>, 'shape32': <tf.Tensor 'Const_95:0' shape=(198,) dtype=float64>, 'margin23': <tf.Tensor 'Const_22:0' shape=(198,) dtype=float64>, 'shape39': <tf.Tensor 'Const_102:0' shape=(198,) dtype=float64>, 'shape38': <tf.Tensor 'Const_101:0' shape=(198,) dtype=float64>, 'texture17': <tf.Tensor 'Const_144:0' shape=(198,) dtype=float64>, 'texture16': <tf.Tensor 'Const_143:0' shape=(198,) dtype=float64>, 'texture15': <tf.Tensor 'Const_142:0' shape=(198,) dtype=float64>, 'texture14': <tf.Tensor 'Const_141:0' shape=(198,) dtype=float64>, 'texture13': <tf.Tensor 'Const_140:0' shape=(198,) dtype=float64>, 'texture12': <tf.Tensor 'Const_139:0' shape=(198,) dtype=float64>, 'texture11': <tf.Tensor 'Const_138:0' shape=(198,) dtype=float64>, 'texture10': <tf.Tensor 'Const_137:0' shape=(198,) dtype=float64>, 'texture19': <tf.Tensor 'Const_146:0' shape=(198,) dtype=float64>, 'texture18': <tf.Tensor 'Const_145:0' shape=(198,) dtype=float64>, 'shape3': <tf.Tensor 'Const_66:0' shape=(198,) dtype=float64>, 'shape2': <tf.Tensor 'Const_65:0' shape=(198,) dtype=float64>, 'shape1': <tf.Tensor 'Const_64:0' shape=(198,) dtype=float64>, 'shape7': <tf.Tensor 'Const_70:0' shape=(198,) dtype=float64>, 'shape6': <tf.Tensor 'Const_69:0' shape=(198,) dtype=float64>, 'shape5': <tf.Tensor 'Const_68:0' shape=(198,) dtype=float64>, 'shape4': <tf.Tensor 'Const_67:0' shape=(198,) dtype=float64>, 'shape9': <tf.Tensor 'Const_72:0' shape=(198,) dtype=float64>, 'shape8': <tf.Tensor 'Const_71:0' shape=(198,) dtype=float64>, 'shape22': <tf.Tensor 'Const_85:0' shape=(198,) dtype=float64>, 'shape23': <tf.Tensor 'Const_86:0' shape=(198,) dtype=float64>, 'shape20': <tf.Tensor 'Const_83:0' shape=(198,) dtype=float64>, 'shape21': <tf.Tensor 'Const_84:0' shape=(198,) dtype=float64>, 'shape26': <tf.Tensor 'Const_89:0' shape=(198,) dtype=float64>, 'shape27': <tf.Tensor 'Const_90:0' shape=(198,) dtype=float64>, 'shape24': <tf.Tensor 'Const_87:0' shape=(198,) dtype=float64>, 'shape25': <tf.Tensor 'Const_88:0' shape=(198,) dtype=float64>, 'shape28': <tf.Tensor 'Const_91:0' shape=(198,) dtype=float64>, 'shape29': <tf.Tensor 'Const_92:0' shape=(198,) dtype=float64>, 'margin15': <tf.Tensor 'Const_14:0' shape=(198,) dtype=float64>, 'margin14': <tf.Tensor 'Const_13:0' shape=(198,) dtype=float64>, 'margin17': <tf.Tensor 'Const_16:0' shape=(198,) dtype=float64>, 'margin16': <tf.Tensor 'Const_15:0' shape=(198,) dtype=float64>, 'margin11': <tf.Tensor 'Const_10:0' shape=(198,) dtype=float64>, 'margin10': <tf.Tensor 'Const_9:0' shape=(198,) dtype=float64>, 'margin13': <tf.Tensor 'Const_12:0' shape=(198,) dtype=float64>, 'margin12': <tf.Tensor 'Const_11:0' shape=(198,) dtype=float64>, 'margin19': <tf.Tensor 'Const_18:0' shape=(198,) dtype=float64>, 'margin18': <tf.Tensor 'Const_17:0' shape=(198,) dtype=float64>, 'texture38': <tf.Tensor 'Const_165:0' shape=(198,) dtype=float64>, 'shape64': <tf.Tensor 'Const_127:0' shape=(198,) dtype=float64>, 'shape30': <tf.Tensor 'Const_93:0' shape=(198,) dtype=float64>, 'texture3': <tf.Tensor 'Const_130:0' shape=(198,) dtype=float64>, 'texture2': <tf.Tensor 'Const_129:0' shape=(198,) dtype=float64>, 'texture1': <tf.Tensor 'Const_128:0' shape=(198,) dtype=float64>, 'texture7': <tf.Tensor 'Const_134:0' shape=(198,) dtype=float64>, 'texture6': <tf.Tensor 'Const_133:0' shape=(198,) dtype=float64>, 'texture5': <tf.Tensor 'Const_132:0' shape=(198,) dtype=float64>, 'texture4': <tf.Tensor 'Const_131:0' shape=(198,) dtype=float64>, 'shape62': <tf.Tensor 'Const_125:0' shape=(198,) dtype=float64>, 'texture9': <tf.Tensor 'Const_136:0' shape=(198,) dtype=float64>, 'texture8': <tf.Tensor 'Const_135:0' shape=(198,) dtype=float64>, 'shape63': <tf.Tensor 'Const_126:0' shape=(198,) dtype=float64>, 'shape60': <tf.Tensor 'Const_123:0' shape=(198,) dtype=float64>, 'shape61': <tf.Tensor 'Const_124:0' shape=(198,) dtype=float64>, 'shape57': <tf.Tensor 'Const_120:0' shape=(198,) dtype=float64>, 'shape56': <tf.Tensor 'Const_119:0' shape=(198,) dtype=float64>, 'shape55': <tf.Tensor 'Const_118:0' shape=(198,) dtype=float64>, 'shape54': <tf.Tensor 'Const_117:0' shape=(198,) dtype=float64>, 'shape53': <tf.Tensor 'Const_116:0' shape=(198,) dtype=float64>, 'shape52': <tf.Tensor 'Const_115:0' shape=(198,) dtype=float64>, 'shape51': <tf.Tensor 'Const_114:0' shape=(198,) dtype=float64>, 'shape50': <tf.Tensor 'Const_113:0' shape=(198,) dtype=float64>, 'shape59': <tf.Tensor 'Const_122:0' shape=(198,) dtype=float64>, 'shape58': <tf.Tensor 'Const_121:0' shape=(198,) dtype=float64>, 'margin60': <tf.Tensor 'Const_59:0' shape=(198,) dtype=float64>, 'margin61': <tf.Tensor 'Const_60:0' shape=(198,) dtype=float64>, 'margin62': <tf.Tensor 'Const_61:0' shape=(198,) dtype=float64>, 'margin63': <tf.Tensor 'Const_62:0' shape=(198,) dtype=float64>, 'margin64': <tf.Tensor 'Const_63:0' shape=(198,) dtype=float64>, 'margin9': <tf.Tensor 'Const_8:0' shape=(198,) dtype=float64>, 'margin8': <tf.Tensor 'Const_7:0' shape=(198,) dtype=float64>, 'margin1': <tf.Tensor 'Const:0' shape=(198,) dtype=float64>, 'margin3': <tf.Tensor 'Const_2:0' shape=(198,) dtype=float64>, 'margin2': <tf.Tensor 'Const_1:0' shape=(198,) dtype=float64>, 'margin5': <tf.Tensor 'Const_4:0' shape=(198,) dtype=float64>, 'margin4': <tf.Tensor 'Const_3:0' shape=(198,) dtype=float64>, 'margin7': <tf.Tensor 'Const_6:0' shape=(198,) dtype=float64>, 'margin6': <tf.Tensor 'Const_5:0' shape=(198,) dtype=float64>, 'shape44': <tf.Tensor 'Const_107:0' shape=(198,) dtype=float64>, 'shape45': <tf.Tensor 'Const_108:0' shape=(198,) dtype=float64>, 'shape46': <tf.Tensor 'Const_109:0' shape=(198,) dtype=float64>, 'shape47': <tf.Tensor 'Const_110:0' shape=(198,) dtype=float64>, 'shape40': <tf.Tensor 'Const_103:0' shape=(198,) dtype=float64>, 'shape41': <tf.Tensor 'Const_104:0' shape=(198,) dtype=float64>, 'shape42': <tf.Tensor 'Const_105:0' shape=(198,) dtype=float64>, 'shape43': <tf.Tensor 'Const_106:0' shape=(198,) dtype=float64>, 'shape48': <tf.Tensor 'Const_111:0' shape=(198,) dtype=float64>, 'shape49': <tf.Tensor 'Const_112:0' shape=(198,) dtype=float64>, 'texture60': <tf.Tensor 'Const_187:0' shape=(198,) dtype=float64>, 'texture53': <tf.Tensor 'Const_180:0' shape=(198,) dtype=float64>, 'texture52': <tf.Tensor 'Const_179:0' shape=(198,) dtype=float64>, 'texture51': <tf.Tensor 'Const_178:0' shape=(198,) dtype=float64>, 'texture50': <tf.Tensor 'Const_177:0' shape=(198,) dtype=float64>, 'texture57': <tf.Tensor 'Const_184:0' shape=(198,) dtype=float64>, 'texture56': <tf.Tensor 'Const_183:0' shape=(198,) dtype=float64>, 'texture55': <tf.Tensor 'Const_182:0' shape=(198,) dtype=float64>, 'texture54': <tf.Tensor 'Const_181:0' shape=(198,) dtype=float64>, 'texture59': <tf.Tensor 'Const_186:0' shape=(198,) dtype=float64>, 'texture58': <tf.Tensor 'Const_185:0' shape=(198,) dtype=float64>, 'texture64': <tf.Tensor 'Const_191:0' shape=(198,) dtype=float64>, 'texture62': <tf.Tensor 'Const_189:0' shape=(198,) dtype=float64>, 'texture63': <tf.Tensor 'Const_190:0' shape=(198,) dtype=float64>, 'margin46': <tf.Tensor 'Const_45:0' shape=(198,) dtype=float64>, 'margin47': <tf.Tensor 'Const_46:0' shape=(198,) dtype=float64>, 'margin44': <tf.Tensor 'Const_43:0' shape=(198,) dtype=float64>, 'margin45': <tf.Tensor 'Const_44:0' shape=(198,) dtype=float64>, 'margin42': <tf.Tensor 'Const_41:0' shape=(198,) dtype=float64>, 'margin43': <tf.Tensor 'Const_42:0' shape=(198,) dtype=float64>, 'margin40': <tf.Tensor 'Const_39:0' shape=(198,) dtype=float64>, 'margin41': <tf.Tensor 'Const_40:0' shape=(198,) dtype=float64>, 'texture61': <tf.Tensor 'Const_188:0' shape=(198,) dtype=float64>, 'margin48': <tf.Tensor 'Const_47:0' shape=(198,) dtype=float64>, 'margin49': <tf.Tensor 'Const_48:0' shape=(198,) dtype=float64>, 'texture44': <tf.Tensor 'Const_171:0' shape=(198,) dtype=float64>, 'texture45': <tf.Tensor 'Const_172:0' shape=(198,) dtype=float64>, 'texture46': <tf.Tensor 'Const_173:0' shape=(198,) dtype=float64>, 'texture47': <tf.Tensor 'Const_174:0' shape=(198,) dtype=float64>, 'texture40': <tf.Tensor 'Const_167:0' shape=(198,) dtype=float64>, 'texture41': <tf.Tensor 'Const_168:0' shape=(198,) dtype=float64>, 'texture42': <tf.Tensor 'Const_169:0' shape=(198,) dtype=float64>, 'texture43': <tf.Tensor 'Const_170:0' shape=(198,) dtype=float64>, 'texture48': <tf.Tensor 'Const_175:0' shape=(198,) dtype=float64>, 'texture49': <tf.Tensor 'Const_176:0' shape=(198,) dtype=float64>, 'margin59': <tf.Tensor 'Const_58:0' shape=(198,) dtype=float64>, 'margin58': <tf.Tensor 'Const_57:0' shape=(198,) dtype=float64>, 'texture24': <tf.Tensor 'Const_151:0' shape=(198,) dtype=float64>, 'margin51': <tf.Tensor 'Const_50:0' shape=(198,) dtype=float64>, 'margin50': <tf.Tensor 'Const_49:0' shape=(198,) dtype=float64>, 'margin53': <tf.Tensor 'Const_52:0' shape=(198,) dtype=float64>, 'margin52': <tf.Tensor 'Const_51:0' shape=(198,) dtype=float64>, 'margin55': <tf.Tensor 'Const_54:0' shape=(198,) dtype=float64>, 'margin54': <tf.Tensor 'Const_53:0' shape=(198,) dtype=float64>, 'margin57': <tf.Tensor 'Const_56:0' shape=(198,) dtype=float64>, 'margin56': <tf.Tensor 'Const_55:0' shape=(198,) dtype=float64>, 'texture28': <tf.Tensor 'Const_155:0' shape=(198,) dtype=float64>, 'texture29': <tf.Tensor 'Const_156:0' shape=(198,) dtype=float64>, 'texture31': <tf.Tensor 'Const_158:0' shape=(198,) dtype=float64>, 'texture30': <tf.Tensor 'Const_157:0' shape=(198,) dtype=float64>, 'shape19': <tf.Tensor 'Const_82:0' shape=(198,) dtype=float64>, 'shape18': <tf.Tensor 'Const_81:0' shape=(198,) dtype=float64>, 'margin28': <tf.Tensor 'Const_27:0' shape=(198,) dtype=float64>, 'margin29': <tf.Tensor 'Const_28:0' shape=(198,) dtype=float64>, 'texture37': <tf.Tensor 'Const_164:0' shape=(198,) dtype=float64>, 'texture36': <tf.Tensor 'Const_163:0' shape=(198,) dtype=float64>, 'margin24': <tf.Tensor 'Const_23:0' shape=(198,) dtype=float64>, 'shape12': <tf.Tensor 'Const_75:0' shape=(198,) dtype=float64>, 'margin26': <tf.Tensor 'Const_25:0' shape=(198,) dtype=float64>, 'margin27': <tf.Tensor 'Const_26:0' shape=(198,) dtype=float64>, 'margin20': <tf.Tensor 'Const_19:0' shape=(198,) dtype=float64>, 'margin21': <tf.Tensor 'Const_20:0' shape=(198,) dtype=float64>, 'shape15': <tf.Tensor 'Const_78:0' shape=(198,) dtype=float64>, 'shape14': <tf.Tensor 'Const_77:0' shape=(198,) dtype=float64>, 'texture25': <tf.Tensor 'Const_152:0' shape=(198,) dtype=float64>, 'texture33': <tf.Tensor 'Const_160:0' shape=(198,) dtype=float64>, 'texture32': <tf.Tensor 'Const_159:0' shape=(198,) dtype=float64>, 'texture35': <tf.Tensor 'Const_162:0' shape=(198,) dtype=float64>, 'texture34': <tf.Tensor 'Const_161:0' shape=(198,) dtype=float64>, 'texture22': <tf.Tensor 'Const_149:0' shape=(198,) dtype=float64>, 'texture23': <tf.Tensor 'Const_150:0' shape=(198,) dtype=float64>, 'texture20': <tf.Tensor 'Const_147:0' shape=(198,) dtype=float64>, 'texture21': <tf.Tensor 'Const_148:0' shape=(198,) dtype=float64>, 'texture26': <tf.Tensor 'Const_153:0' shape=(198,) dtype=float64>, 'texture27': <tf.Tensor 'Const_154:0' shape=(198,) dtype=float64>, 'margin39': <tf.Tensor 'Const_38:0' shape=(198,) dtype=float64>, 'margin38': <tf.Tensor 'Const_37:0' shape=(198,) dtype=float64>, 'margin37': <tf.Tensor 'Const_36:0' shape=(198,) dtype=float64>, 'margin36': <tf.Tensor 'Const_35:0' shape=(198,) dtype=float64>, 'margin35': <tf.Tensor 'Const_34:0' shape=(198,) dtype=float64>, 'margin34': <tf.Tensor 'Const_33:0' shape=(198,) dtype=float64>, 'margin33': <tf.Tensor 'Const_32:0' shape=(198,) dtype=float64>, 'margin32': <tf.Tensor 'Const_31:0' shape=(198,) dtype=float64>, 'margin31': <tf.Tensor 'Const_30:0' shape=(198,) dtype=float64>, 'margin30': <tf.Tensor 'Const_29:0' shape=(198,) dtype=float64>, 'shape13': <tf.Tensor 'Const_76:0' shape=(198,) dtype=float64>, 'margin25': <tf.Tensor 'Const_24:0' shape=(198,) dtype=float64>, 'shape11': <tf.Tensor 'Const_74:0' shape=(198,) dtype=float64>}, required signatures: {'margin27': TensorSignature(dtype=tf.float64, shape=TensorShape([Dimension(792)]), is_sparse=False), 'margin20': TensorSignature(dtype=tf.float64, shape=TensorShape([Dimension(792)]), is_sparse=False), 'margin21': TensorSignature(dtype=tf.float64, shape=TensorShape([Dimension(792)]), is_sparse=False), 'shape35': TensorSignature(dtype=tf.float64, shape=TensorShape([Dimension(792)]), is_sparse=False), 'shape34': TensorSignature(dtype=tf.float64, shape=TensorShape([Dimension(792)]), is_sparse=False), 'shape37': TensorSignature(dtype=tf.float64, shape=TensorShape([Dimension(792)]), is_sparse=False), 'shape36': TensorSignature(dtype=tf.float64, shape=TensorShape([Dimension(792)]), is_sparse=False), 'shape31': TensorSignature(dtype=tf.float64, shape=TensorShape([Dimension(792)]), is_sparse=False), 'shape30': TensorSignature(dtype=tf.float64, shape=TensorShape([Dimension(792)]), is_sparse=False), 'shape33': TensorSignature(dtype=tf.float64, shape=TensorShape([Dimension(792)]), is_sparse=False), 'shape32': TensorSignature(dtype=tf.float64, shape=TensorShape([Dimension(792)]), is_sparse=False), 'shape14': TensorSignature(dtype=tf.float64, shape=TensorShape([Dimension(792)]), is_sparse=False), 'shape39': TensorSignature(dtype=tf.float64, shape=TensorShape([Dimension(792)]), is_sparse=False), 'shape38': TensorSignature(dtype=tf.float64, shape=TensorShape([Dimension(792)]), is_sparse=False), 'texture17': TensorSignature(dtype=tf.float64, shape=TensorShape([Dimension(792)]), is_sparse=False), 'texture16': TensorSignature(dtype=tf.float64, shape=TensorShape([Dimension(792)]), is_sparse=False), 'texture15': TensorSignature(dtype=tf.float64, shape=TensorShape([Dimension(792)]), is_sparse=False), 'texture14': TensorSignature(dtype=tf.float64, shape=TensorShape([Dimension(792)]), is_sparse=False), 'texture13': TensorSignature(dtype=tf.float64, shape=TensorShape([Dimension(792)]), is_sparse=False), 'texture12': TensorSignature(dtype=tf.float64, shape=TensorShape([Dimension(792)]), is_sparse=False), 'texture11': TensorSignature(dtype=tf.float64, shape=TensorShape([Dimension(792)]), is_sparse=False), 'texture10': TensorSignature(dtype=tf.float64, shape=TensorShape([Dimension(792)]), is_sparse=False), 'texture19': TensorSignature(dtype=tf.float64, shape=TensorShape([Dimension(792)]), is_sparse=False), 'texture18': TensorSignature(dtype=tf.float64, shape=TensorShape([Dimension(792)]), is_sparse=False), 'shape3': TensorSignature(dtype=tf.float64, shape=TensorShape([Dimension(792)]), is_sparse=False), 'shape2': TensorSignature(dtype=tf.float64, shape=TensorShape([Dimension(792)]), is_sparse=False), 'shape1': TensorSignature(dtype=tf.float64, shape=TensorShape([Dimension(792)]), is_sparse=False), 'shape7': TensorSignature(dtype=tf.float64, shape=TensorShape([Dimension(792)]), is_sparse=False), 'shape6': TensorSignature(dtype=tf.float64, shape=TensorShape([Dimension(792)]), is_sparse=False), 'shape5': TensorSignature(dtype=tf.float64, shape=TensorShape([Dimension(792)]), is_sparse=False), 'shape4': TensorSignature(dtype=tf.float64, shape=TensorShape([Dimension(792)]), is_sparse=False), 'shape9': TensorSignature(dtype=tf.float64, shape=TensorShape([Dimension(792)]), is_sparse=False), 'shape8': TensorSignature(dtype=tf.float64, shape=TensorShape([Dimension(792)]), is_sparse=False), 'shape22': TensorSignature(dtype=tf.float64, shape=TensorShape([Dimension(792)]), is_sparse=False), 'shape23': TensorSignature(dtype=tf.float64, shape=TensorShape([Dimension(792)]), is_sparse=False), 'shape20': TensorSignature(dtype=tf.float64, shape=TensorShape([Dimension(792)]), is_sparse=False), 'shape21': TensorSignature(dtype=tf.float64, shape=TensorShape([Dimension(792)]), is_sparse=False), 'shape26': TensorSignature(dtype=tf.float64, shape=TensorShape([Dimension(792)]), is_sparse=False), 'shape27': TensorSignature(dtype=tf.float64, shape=TensorShape([Dimension(792)]), is_sparse=False), 'shape24': TensorSignature(dtype=tf.float64, shape=TensorShape([Dimension(792)]), is_sparse=False), 'shape25': TensorSignature(dtype=tf.float64, shape=TensorShape([Dimension(792)]), is_sparse=False), 'shape28': TensorSignature(dtype=tf.float64, shape=TensorShape([Dimension(792)]), is_sparse=False), 'shape29': TensorSignature(dtype=tf.float64, shape=TensorShape([Dimension(792)]), is_sparse=False), 'margin25': TensorSignature(dtype=tf.float64, shape=TensorShape([Dimension(792)]), is_sparse=False), 'margin15': TensorSignature(dtype=tf.float64, shape=TensorShape([Dimension(792)]), is_sparse=False), 'margin14': TensorSignature(dtype=tf.float64, shape=TensorShape([Dimension(792)]), is_sparse=False), 'margin17': TensorSignature(dtype=tf.float64, shape=TensorShape([Dimension(792)]), is_sparse=False), 'margin16': TensorSignature(dtype=tf.float64, shape=TensorShape([Dimension(792)]), is_sparse=False), 'margin11': TensorSignature(dtype=tf.float64, shape=TensorShape([Dimension(792)]), is_sparse=False), 'margin10': TensorSignature(dtype=tf.float64, shape=TensorShape([Dimension(792)]), is_sparse=False), 'margin13': TensorSignature(dtype=tf.float64, shape=TensorShape([Dimension(792)]), is_sparse=False), 'margin12': TensorSignature(dtype=tf.float64, shape=TensorShape([Dimension(792)]), is_sparse=False), 'margin19': TensorSignature(dtype=tf.float64, shape=TensorShape([Dimension(792)]), is_sparse=False), 'margin18': TensorSignature(dtype=tf.float64, shape=TensorShape([Dimension(792)]), is_sparse=False), 'shape13': TensorSignature(dtype=tf.float64, shape=TensorShape([Dimension(792)]), is_sparse=False), 'margin53': TensorSignature(dtype=tf.float64, shape=TensorShape([Dimension(792)]), is_sparse=False), 'texture3': TensorSignature(dtype=tf.float64, shape=TensorShape([Dimension(792)]), is_sparse=False), 'texture2': TensorSignature(dtype=tf.float64, shape=TensorShape([Dimension(792)]), is_sparse=False), 'texture1': TensorSignature(dtype=tf.float64, shape=TensorShape([Dimension(792)]), is_sparse=False), 'texture7': TensorSignature(dtype=tf.float64, shape=TensorShape([Dimension(792)]), is_sparse=False), 'texture6': TensorSignature(dtype=tf.float64, shape=TensorShape([Dimension(792)]), is_sparse=False), 'texture5': TensorSignature(dtype=tf.float64, shape=TensorShape([Dimension(792)]), is_sparse=False), 'texture4': TensorSignature(dtype=tf.float64, shape=TensorShape([Dimension(792)]), is_sparse=False), 'margin55': TensorSignature(dtype=tf.float64, shape=TensorShape([Dimension(792)]), is_sparse=False), 'texture9': TensorSignature(dtype=tf.float64, shape=TensorShape([Dimension(792)]), is_sparse=False), 'texture8': TensorSignature(dtype=tf.float64, shape=TensorShape([Dimension(792)]), is_sparse=False), 'margin54': TensorSignature(dtype=tf.float64, shape=TensorShape([Dimension(792)]), is_sparse=False), 'margin57': TensorSignature(dtype=tf.float64, shape=TensorShape([Dimension(792)]), is_sparse=False), 'margin56': TensorSignature(dtype=tf.float64, shape=TensorShape([Dimension(792)]), is_sparse=False), 'margin38': TensorSignature(dtype=tf.float64, shape=TensorShape([Dimension(792)]), is_sparse=False), 'shape57': TensorSignature(dtype=tf.float64, shape=TensorShape([Dimension(792)]), is_sparse=False), 'shape56': TensorSignature(dtype=tf.float64, shape=TensorShape([Dimension(792)]), is_sparse=False), 'shape55': TensorSignature(dtype=tf.float64, shape=TensorShape([Dimension(792)]), is_sparse=False), 'shape54': TensorSignature(dtype=tf.float64, shape=TensorShape([Dimension(792)]), is_sparse=False), 'shape53': TensorSignature(dtype=tf.float64, shape=TensorShape([Dimension(792)]), is_sparse=False), 'shape52': TensorSignature(dtype=tf.float64, shape=TensorShape([Dimension(792)]), is_sparse=False), 'shape51': TensorSignature(dtype=tf.float64, shape=TensorShape([Dimension(792)]), is_sparse=False), 'shape50': TensorSignature(dtype=tf.float64, shape=TensorShape([Dimension(792)]), is_sparse=False), 'shape59': TensorSignature(dtype=tf.float64, shape=TensorShape([Dimension(792)]), is_sparse=False), 'shape58': TensorSignature(dtype=tf.float64, shape=TensorShape([Dimension(792)]), is_sparse=False), 'margin60': TensorSignature(dtype=tf.float64, shape=TensorShape([Dimension(792)]), is_sparse=False), 'margin61': TensorSignature(dtype=tf.float64, shape=TensorShape([Dimension(792)]), is_sparse=False), 'margin62': TensorSignature(dtype=tf.float64, shape=TensorShape([Dimension(792)]), is_sparse=False), 'margin63': TensorSignature(dtype=tf.float64, shape=TensorShape([Dimension(792)]), is_sparse=False), 'margin64': TensorSignature(dtype=tf.float64, shape=TensorShape([Dimension(792)]), is_sparse=False), 'margin9': TensorSignature(dtype=tf.float64, shape=TensorShape([Dimension(792)]), is_sparse=False), 'margin8': TensorSignature(dtype=tf.float64, shape=TensorShape([Dimension(792)]), is_sparse=False), 'margin1': TensorSignature(dtype=tf.float64, shape=TensorShape([Dimension(792)]), is_sparse=False), 'margin3': TensorSignature(dtype=tf.float64, shape=TensorShape([Dimension(792)]), is_sparse=False), 'margin2': TensorSignature(dtype=tf.float64, shape=TensorShape([Dimension(792)]), is_sparse=False), 'margin5': TensorSignature(dtype=tf.float64, shape=TensorShape([Dimension(792)]), is_sparse=False), 'margin4': TensorSignature(dtype=tf.float64, shape=TensorShape([Dimension(792)]), is_sparse=False), 'margin7': TensorSignature(dtype=tf.float64, shape=TensorShape([Dimension(792)]), is_sparse=False), 'margin6': TensorSignature(dtype=tf.float64, shape=TensorShape([Dimension(792)]), is_sparse=False), 'shape44': TensorSignature(dtype=tf.float64, shape=TensorShape([Dimension(792)]), is_sparse=False), 'shape45': TensorSignature(dtype=tf.float64, shape=TensorShape([Dimension(792)]), is_sparse=False), 'shape46': TensorSignature(dtype=tf.float64, shape=TensorShape([Dimension(792)]), is_sparse=False), 'shape47': TensorSignature(dtype=tf.float64, shape=TensorShape([Dimension(792)]), is_sparse=False), 'shape40': TensorSignature(dtype=tf.float64, shape=TensorShape([Dimension(792)]), is_sparse=False), 'shape41': TensorSignature(dtype=tf.float64, shape=TensorShape([Dimension(792)]), is_sparse=False), 'shape42': TensorSignature(dtype=tf.float64, shape=TensorShape([Dimension(792)]), is_sparse=False), 'shape43': TensorSignature(dtype=tf.float64, shape=TensorShape([Dimension(792)]), is_sparse=False), 'shape48': TensorSignature(dtype=tf.float64, shape=TensorShape([Dimension(792)]), is_sparse=False), 'shape49': TensorSignature(dtype=tf.float64, shape=TensorShape([Dimension(792)]), is_sparse=False), 'texture53': TensorSignature(dtype=tf.float64, shape=TensorShape([Dimension(792)]), is_sparse=False), 'texture52': TensorSignature(dtype=tf.float64, shape=TensorShape([Dimension(792)]), is_sparse=False), 'texture51': TensorSignature(dtype=tf.float64, shape=TensorShape([Dimension(792)]), is_sparse=False), 'texture50': TensorSignature(dtype=tf.float64, shape=TensorShape([Dimension(792)]), is_sparse=False), 'texture57': TensorSignature(dtype=tf.float64, shape=TensorShape([Dimension(792)]), is_sparse=False), 'texture56': TensorSignature(dtype=tf.float64, shape=TensorShape([Dimension(792)]), is_sparse=False), 'texture55': TensorSignature(dtype=tf.float64, shape=TensorShape([Dimension(792)]), is_sparse=False), 'texture54': TensorSignature(dtype=tf.float64, shape=TensorShape([Dimension(792)]), is_sparse=False), 'texture59': TensorSignature(dtype=tf.float64, shape=TensorShape([Dimension(792)]), is_sparse=False), 'texture58': TensorSignature(dtype=tf.float64, shape=TensorShape([Dimension(792)]), is_sparse=False), 'texture64': TensorSignature(dtype=tf.float64, shape=TensorShape([Dimension(792)]), is_sparse=False), 'shape15': TensorSignature(dtype=tf.float64, shape=TensorShape([Dimension(792)]), is_sparse=False), 'texture62': TensorSignature(dtype=tf.float64, shape=TensorShape([Dimension(792)]), is_sparse=False), 'texture63': TensorSignature(dtype=tf.float64, shape=TensorShape([Dimension(792)]), is_sparse=False), 'margin46': TensorSignature(dtype=tf.float64, shape=TensorShape([Dimension(792)]), is_sparse=False), 'margin47': TensorSignature(dtype=tf.float64, shape=TensorShape([Dimension(792)]), is_sparse=False), 'margin44': TensorSignature(dtype=tf.float64, shape=TensorShape([Dimension(792)]), is_sparse=False), 'margin45': TensorSignature(dtype=tf.float64, shape=TensorShape([Dimension(792)]), is_sparse=False), 'margin42': TensorSignature(dtype=tf.float64, shape=TensorShape([Dimension(792)]), is_sparse=False), 'texture60': TensorSignature(dtype=tf.float64, shape=TensorShape([Dimension(792)]), is_sparse=False), 'margin40': TensorSignature(dtype=tf.float64, shape=TensorShape([Dimension(792)]), is_sparse=False), 'margin41': TensorSignature(dtype=tf.float64, shape=TensorShape([Dimension(792)]), is_sparse=False), 'texture61': TensorSignature(dtype=tf.float64, shape=TensorShape([Dimension(792)]), is_sparse=False), 'margin48': TensorSignature(dtype=tf.float64, shape=TensorShape([Dimension(792)]), is_sparse=False), 'margin43': TensorSignature(dtype=tf.float64, shape=TensorShape([Dimension(792)]), is_sparse=False), 'texture44': TensorSignature(dtype=tf.float64, shape=TensorShape([Dimension(792)]), is_sparse=False), 'texture45': TensorSignature(dtype=tf.float64, shape=TensorShape([Dimension(792)]), is_sparse=False), 'texture46': TensorSignature(dtype=tf.float64, shape=TensorShape([Dimension(792)]), is_sparse=False), 'texture47': TensorSignature(dtype=tf.float64, shape=TensorShape([Dimension(792)]), is_sparse=False), 'texture40': TensorSignature(dtype=tf.float64, shape=TensorShape([Dimension(792)]), is_sparse=False), 'texture41': TensorSignature(dtype=tf.float64, shape=TensorShape([Dimension(792)]), is_sparse=False), 'texture42': TensorSignature(dtype=tf.float64, shape=TensorShape([Dimension(792)]), is_sparse=False), 'texture43': TensorSignature(dtype=tf.float64, shape=TensorShape([Dimension(792)]), is_sparse=False), 'texture48': TensorSignature(dtype=tf.float64, shape=TensorShape([Dimension(792)]), is_sparse=False), 'texture49': TensorSignature(dtype=tf.float64, shape=TensorShape([Dimension(792)]), is_sparse=False), 'margin59': TensorSignature(dtype=tf.float64, shape=TensorShape([Dimension(792)]), is_sparse=False), 'margin58': TensorSignature(dtype=tf.float64, shape=TensorShape([Dimension(792)]), is_sparse=False), 'margin39': TensorSignature(dtype=tf.float64, shape=TensorShape([Dimension(792)]), is_sparse=False), 'margin51': TensorSignature(dtype=tf.float64, shape=TensorShape([Dimension(792)]), is_sparse=False), 'margin50': TensorSignature(dtype=tf.float64, shape=TensorShape([Dimension(792)]), is_sparse=False), 'shape64': TensorSignature(dtype=tf.float64, shape=TensorShape([Dimension(792)]), is_sparse=False), 'margin52': TensorSignature(dtype=tf.float64, shape=TensorShape([Dimension(792)]), is_sparse=False), 'shape62': TensorSignature(dtype=tf.float64, shape=TensorShape([Dimension(792)]), is_sparse=False), 'shape63': TensorSignature(dtype=tf.float64, shape=TensorShape([Dimension(792)]), is_sparse=False), 'shape60': TensorSignature(dtype=tf.float64, shape=TensorShape([Dimension(792)]), is_sparse=False), 'shape61': TensorSignature(dtype=tf.float64, shape=TensorShape([Dimension(792)]), is_sparse=False), 'margin49': TensorSignature(dtype=tf.float64, shape=TensorShape([Dimension(792)]), is_sparse=False), 'margin35': TensorSignature(dtype=tf.float64, shape=TensorShape([Dimension(792)]), is_sparse=False), 'margin34': TensorSignature(dtype=tf.float64, shape=TensorShape([Dimension(792)]), is_sparse=False), 'texture31': TensorSignature(dtype=tf.float64, shape=TensorShape([Dimension(792)]), is_sparse=False), 'texture30': TensorSignature(dtype=tf.float64, shape=TensorShape([Dimension(792)]), is_sparse=False), 'shape19': TensorSignature(dtype=tf.float64, shape=TensorShape([Dimension(792)]), is_sparse=False), 'shape18': TensorSignature(dtype=tf.float64, shape=TensorShape([Dimension(792)]), is_sparse=False), 'margin28': TensorSignature(dtype=tf.float64, shape=TensorShape([Dimension(792)]), is_sparse=False), 'margin29': TensorSignature(dtype=tf.float64, shape=TensorShape([Dimension(792)]), is_sparse=False), 'texture37': TensorSignature(dtype=tf.float64, shape=TensorShape([Dimension(792)]), is_sparse=False), 'texture36': TensorSignature(dtype=tf.float64, shape=TensorShape([Dimension(792)]), is_sparse=False), 'texture39': TensorSignature(dtype=tf.float64, shape=TensorShape([Dimension(792)]), is_sparse=False), 'texture38': TensorSignature(dtype=tf.float64, shape=TensorShape([Dimension(792)]), is_sparse=False), 'margin26': TensorSignature(dtype=tf.float64, shape=TensorShape([Dimension(792)]), is_sparse=False), 'shape10': TensorSignature(dtype=tf.float64, shape=TensorShape([Dimension(792)]), is_sparse=False), 'shape17': TensorSignature(dtype=tf.float64, shape=TensorShape([Dimension(792)]), is_sparse=False), 'shape16': TensorSignature(dtype=tf.float64, shape=TensorShape([Dimension(792)]), is_sparse=False), 'margin22': TensorSignature(dtype=tf.float64, shape=TensorShape([Dimension(792)]), is_sparse=False), 'margin23': TensorSignature(dtype=tf.float64, shape=TensorShape([Dimension(792)]), is_sparse=False), 'texture33': TensorSignature(dtype=tf.float64, shape=TensorShape([Dimension(792)]), is_sparse=False), 'texture32': TensorSignature(dtype=tf.float64, shape=TensorShape([Dimension(792)]), is_sparse=False), 'texture35': TensorSignature(dtype=tf.float64, shape=TensorShape([Dimension(792)]), is_sparse=False), 'texture34': TensorSignature(dtype=tf.float64, shape=TensorShape([Dimension(792)]), is_sparse=False), 'texture22': TensorSignature(dtype=tf.float64, shape=TensorShape([Dimension(792)]), is_sparse=False), 'texture23': TensorSignature(dtype=tf.float64, shape=TensorShape([Dimension(792)]), is_sparse=False), 'texture20': TensorSignature(dtype=tf.float64, shape=TensorShape([Dimension(792)]), is_sparse=False), 'texture21': TensorSignature(dtype=tf.float64, shape=TensorShape([Dimension(792)]), is_sparse=False), 'texture26': TensorSignature(dtype=tf.float64, shape=TensorShape([Dimension(792)]), is_sparse=False), 'texture27': TensorSignature(dtype=tf.float64, shape=TensorShape([Dimension(792)]), is_sparse=False), 'texture24': TensorSignature(dtype=tf.float64, shape=TensorShape([Dimension(792)]), is_sparse=False), 'texture25': TensorSignature(dtype=tf.float64, shape=TensorShape([Dimension(792)]), is_sparse=False), 'margin37': TensorSignature(dtype=tf.float64, shape=TensorShape([Dimension(792)]), is_sparse=False), 'margin36': TensorSignature(dtype=tf.float64, shape=TensorShape([Dimension(792)]), is_sparse=False), 'texture28': TensorSignature(dtype=tf.float64, shape=TensorShape([Dimension(792)]), is_sparse=False), 'texture29': TensorSignature(dtype=tf.float64, shape=TensorShape([Dimension(792)]), is_sparse=False), 'margin33': TensorSignature(dtype=tf.float64, shape=TensorShape([Dimension(792)]), is_sparse=False), 'margin32': TensorSignature(dtype=tf.float64, shape=TensorShape([Dimension(792)]), is_sparse=False), 'margin31': TensorSignature(dtype=tf.float64, shape=TensorShape([Dimension(792)]), is_sparse=False), 'margin30': TensorSignature(dtype=tf.float64, shape=TensorShape([Dimension(792)]), is_sparse=False), 'margin24': TensorSignature(dtype=tf.float64, shape=TensorShape([Dimension(792)]), is_sparse=False), 'shape12': TensorSignature(dtype=tf.float64, shape=TensorShape([Dimension(792)]), is_sparse=False), 'shape11': TensorSignature(dtype=tf.float64, shape=TensorShape([Dimension(792)]), is_sparse=False)}.\n",
      "WARNING:tensorflow:Given targets: Tensor(\"Const_192:0\", shape=(198,), dtype=int64), required signatures: TensorSignature(dtype=tf.int64, shape=TensorShape([Dimension(792)]), is_sparse=False).\n"
     ]
    }
   ],
   "source": [
    "dnn_results = dnn_classifier.evaluate(input_fn=lambda: input_fn(X_test), steps=1)"
   ]
  },
  {
   "cell_type": "code",
   "execution_count": 15,
   "metadata": {
    "collapsed": false
   },
   "outputs": [
    {
     "name": "stdout",
     "output_type": "stream",
     "text": [
      "accuracy: 0.843434\n",
      "global_step: 2000\n",
      "loss: 0.817941\n"
     ]
    }
   ],
   "source": [
    "for key in sorted(dnn_results):\n",
    "    print \"%s: %s\" %(key, dnn_results[key])"
   ]
  },
  {
   "cell_type": "code",
   "execution_count": 16,
   "metadata": {
    "collapsed": false
   },
   "outputs": [
    {
     "name": "stderr",
     "output_type": "stream",
     "text": [
      "WARNING:tensorflow:Setting feature info to {'margin27': TensorSignature(dtype=tf.float64, shape=TensorShape([Dimension(792)]), is_sparse=False), 'margin20': TensorSignature(dtype=tf.float64, shape=TensorShape([Dimension(792)]), is_sparse=False), 'margin21': TensorSignature(dtype=tf.float64, shape=TensorShape([Dimension(792)]), is_sparse=False), 'shape35': TensorSignature(dtype=tf.float64, shape=TensorShape([Dimension(792)]), is_sparse=False), 'shape34': TensorSignature(dtype=tf.float64, shape=TensorShape([Dimension(792)]), is_sparse=False), 'shape37': TensorSignature(dtype=tf.float64, shape=TensorShape([Dimension(792)]), is_sparse=False), 'shape36': TensorSignature(dtype=tf.float64, shape=TensorShape([Dimension(792)]), is_sparse=False), 'shape31': TensorSignature(dtype=tf.float64, shape=TensorShape([Dimension(792)]), is_sparse=False), 'shape30': TensorSignature(dtype=tf.float64, shape=TensorShape([Dimension(792)]), is_sparse=False), 'shape33': TensorSignature(dtype=tf.float64, shape=TensorShape([Dimension(792)]), is_sparse=False), 'shape32': TensorSignature(dtype=tf.float64, shape=TensorShape([Dimension(792)]), is_sparse=False), 'shape14': TensorSignature(dtype=tf.float64, shape=TensorShape([Dimension(792)]), is_sparse=False), 'shape39': TensorSignature(dtype=tf.float64, shape=TensorShape([Dimension(792)]), is_sparse=False), 'shape38': TensorSignature(dtype=tf.float64, shape=TensorShape([Dimension(792)]), is_sparse=False), 'texture17': TensorSignature(dtype=tf.float64, shape=TensorShape([Dimension(792)]), is_sparse=False), 'texture16': TensorSignature(dtype=tf.float64, shape=TensorShape([Dimension(792)]), is_sparse=False), 'texture15': TensorSignature(dtype=tf.float64, shape=TensorShape([Dimension(792)]), is_sparse=False), 'texture14': TensorSignature(dtype=tf.float64, shape=TensorShape([Dimension(792)]), is_sparse=False), 'texture13': TensorSignature(dtype=tf.float64, shape=TensorShape([Dimension(792)]), is_sparse=False), 'texture12': TensorSignature(dtype=tf.float64, shape=TensorShape([Dimension(792)]), is_sparse=False), 'texture11': TensorSignature(dtype=tf.float64, shape=TensorShape([Dimension(792)]), is_sparse=False), 'texture10': TensorSignature(dtype=tf.float64, shape=TensorShape([Dimension(792)]), is_sparse=False), 'texture19': TensorSignature(dtype=tf.float64, shape=TensorShape([Dimension(792)]), is_sparse=False), 'texture18': TensorSignature(dtype=tf.float64, shape=TensorShape([Dimension(792)]), is_sparse=False), 'shape3': TensorSignature(dtype=tf.float64, shape=TensorShape([Dimension(792)]), is_sparse=False), 'shape2': TensorSignature(dtype=tf.float64, shape=TensorShape([Dimension(792)]), is_sparse=False), 'shape1': TensorSignature(dtype=tf.float64, shape=TensorShape([Dimension(792)]), is_sparse=False), 'shape7': TensorSignature(dtype=tf.float64, shape=TensorShape([Dimension(792)]), is_sparse=False), 'shape6': TensorSignature(dtype=tf.float64, shape=TensorShape([Dimension(792)]), is_sparse=False), 'shape5': TensorSignature(dtype=tf.float64, shape=TensorShape([Dimension(792)]), is_sparse=False), 'shape4': TensorSignature(dtype=tf.float64, shape=TensorShape([Dimension(792)]), is_sparse=False), 'shape9': TensorSignature(dtype=tf.float64, shape=TensorShape([Dimension(792)]), is_sparse=False), 'shape8': TensorSignature(dtype=tf.float64, shape=TensorShape([Dimension(792)]), is_sparse=False), 'shape22': TensorSignature(dtype=tf.float64, shape=TensorShape([Dimension(792)]), is_sparse=False), 'shape23': TensorSignature(dtype=tf.float64, shape=TensorShape([Dimension(792)]), is_sparse=False), 'shape20': TensorSignature(dtype=tf.float64, shape=TensorShape([Dimension(792)]), is_sparse=False), 'shape21': TensorSignature(dtype=tf.float64, shape=TensorShape([Dimension(792)]), is_sparse=False), 'shape26': TensorSignature(dtype=tf.float64, shape=TensorShape([Dimension(792)]), is_sparse=False), 'shape27': TensorSignature(dtype=tf.float64, shape=TensorShape([Dimension(792)]), is_sparse=False), 'shape24': TensorSignature(dtype=tf.float64, shape=TensorShape([Dimension(792)]), is_sparse=False), 'shape25': TensorSignature(dtype=tf.float64, shape=TensorShape([Dimension(792)]), is_sparse=False), 'shape28': TensorSignature(dtype=tf.float64, shape=TensorShape([Dimension(792)]), is_sparse=False), 'shape29': TensorSignature(dtype=tf.float64, shape=TensorShape([Dimension(792)]), is_sparse=False), 'margin25': TensorSignature(dtype=tf.float64, shape=TensorShape([Dimension(792)]), is_sparse=False), 'margin15': TensorSignature(dtype=tf.float64, shape=TensorShape([Dimension(792)]), is_sparse=False), 'margin14': TensorSignature(dtype=tf.float64, shape=TensorShape([Dimension(792)]), is_sparse=False), 'margin17': TensorSignature(dtype=tf.float64, shape=TensorShape([Dimension(792)]), is_sparse=False), 'margin16': TensorSignature(dtype=tf.float64, shape=TensorShape([Dimension(792)]), is_sparse=False), 'margin11': TensorSignature(dtype=tf.float64, shape=TensorShape([Dimension(792)]), is_sparse=False), 'margin10': TensorSignature(dtype=tf.float64, shape=TensorShape([Dimension(792)]), is_sparse=False), 'margin13': TensorSignature(dtype=tf.float64, shape=TensorShape([Dimension(792)]), is_sparse=False), 'margin12': TensorSignature(dtype=tf.float64, shape=TensorShape([Dimension(792)]), is_sparse=False), 'margin19': TensorSignature(dtype=tf.float64, shape=TensorShape([Dimension(792)]), is_sparse=False), 'margin18': TensorSignature(dtype=tf.float64, shape=TensorShape([Dimension(792)]), is_sparse=False), 'shape13': TensorSignature(dtype=tf.float64, shape=TensorShape([Dimension(792)]), is_sparse=False), 'margin53': TensorSignature(dtype=tf.float64, shape=TensorShape([Dimension(792)]), is_sparse=False), 'texture3': TensorSignature(dtype=tf.float64, shape=TensorShape([Dimension(792)]), is_sparse=False), 'texture2': TensorSignature(dtype=tf.float64, shape=TensorShape([Dimension(792)]), is_sparse=False), 'texture1': TensorSignature(dtype=tf.float64, shape=TensorShape([Dimension(792)]), is_sparse=False), 'texture7': TensorSignature(dtype=tf.float64, shape=TensorShape([Dimension(792)]), is_sparse=False), 'texture6': TensorSignature(dtype=tf.float64, shape=TensorShape([Dimension(792)]), is_sparse=False), 'texture5': TensorSignature(dtype=tf.float64, shape=TensorShape([Dimension(792)]), is_sparse=False), 'texture4': TensorSignature(dtype=tf.float64, shape=TensorShape([Dimension(792)]), is_sparse=False), 'margin55': TensorSignature(dtype=tf.float64, shape=TensorShape([Dimension(792)]), is_sparse=False), 'texture9': TensorSignature(dtype=tf.float64, shape=TensorShape([Dimension(792)]), is_sparse=False), 'texture8': TensorSignature(dtype=tf.float64, shape=TensorShape([Dimension(792)]), is_sparse=False), 'margin54': TensorSignature(dtype=tf.float64, shape=TensorShape([Dimension(792)]), is_sparse=False), 'margin57': TensorSignature(dtype=tf.float64, shape=TensorShape([Dimension(792)]), is_sparse=False), 'margin56': TensorSignature(dtype=tf.float64, shape=TensorShape([Dimension(792)]), is_sparse=False), 'margin38': TensorSignature(dtype=tf.float64, shape=TensorShape([Dimension(792)]), is_sparse=False), 'shape57': TensorSignature(dtype=tf.float64, shape=TensorShape([Dimension(792)]), is_sparse=False), 'shape56': TensorSignature(dtype=tf.float64, shape=TensorShape([Dimension(792)]), is_sparse=False), 'shape55': TensorSignature(dtype=tf.float64, shape=TensorShape([Dimension(792)]), is_sparse=False), 'shape54': TensorSignature(dtype=tf.float64, shape=TensorShape([Dimension(792)]), is_sparse=False), 'shape53': TensorSignature(dtype=tf.float64, shape=TensorShape([Dimension(792)]), is_sparse=False), 'shape52': TensorSignature(dtype=tf.float64, shape=TensorShape([Dimension(792)]), is_sparse=False), 'shape51': TensorSignature(dtype=tf.float64, shape=TensorShape([Dimension(792)]), is_sparse=False), 'shape50': TensorSignature(dtype=tf.float64, shape=TensorShape([Dimension(792)]), is_sparse=False), 'shape59': TensorSignature(dtype=tf.float64, shape=TensorShape([Dimension(792)]), is_sparse=False), 'shape58': TensorSignature(dtype=tf.float64, shape=TensorShape([Dimension(792)]), is_sparse=False), 'margin60': TensorSignature(dtype=tf.float64, shape=TensorShape([Dimension(792)]), is_sparse=False), 'margin61': TensorSignature(dtype=tf.float64, shape=TensorShape([Dimension(792)]), is_sparse=False), 'margin62': TensorSignature(dtype=tf.float64, shape=TensorShape([Dimension(792)]), is_sparse=False), 'margin63': TensorSignature(dtype=tf.float64, shape=TensorShape([Dimension(792)]), is_sparse=False), 'margin64': TensorSignature(dtype=tf.float64, shape=TensorShape([Dimension(792)]), is_sparse=False), 'margin9': TensorSignature(dtype=tf.float64, shape=TensorShape([Dimension(792)]), is_sparse=False), 'margin8': TensorSignature(dtype=tf.float64, shape=TensorShape([Dimension(792)]), is_sparse=False), 'margin1': TensorSignature(dtype=tf.float64, shape=TensorShape([Dimension(792)]), is_sparse=False), 'margin3': TensorSignature(dtype=tf.float64, shape=TensorShape([Dimension(792)]), is_sparse=False), 'margin2': TensorSignature(dtype=tf.float64, shape=TensorShape([Dimension(792)]), is_sparse=False), 'margin5': TensorSignature(dtype=tf.float64, shape=TensorShape([Dimension(792)]), is_sparse=False), 'margin4': TensorSignature(dtype=tf.float64, shape=TensorShape([Dimension(792)]), is_sparse=False), 'margin7': TensorSignature(dtype=tf.float64, shape=TensorShape([Dimension(792)]), is_sparse=False), 'margin6': TensorSignature(dtype=tf.float64, shape=TensorShape([Dimension(792)]), is_sparse=False), 'shape44': TensorSignature(dtype=tf.float64, shape=TensorShape([Dimension(792)]), is_sparse=False), 'shape45': TensorSignature(dtype=tf.float64, shape=TensorShape([Dimension(792)]), is_sparse=False), 'shape46': TensorSignature(dtype=tf.float64, shape=TensorShape([Dimension(792)]), is_sparse=False), 'shape47': TensorSignature(dtype=tf.float64, shape=TensorShape([Dimension(792)]), is_sparse=False), 'shape40': TensorSignature(dtype=tf.float64, shape=TensorShape([Dimension(792)]), is_sparse=False), 'shape41': TensorSignature(dtype=tf.float64, shape=TensorShape([Dimension(792)]), is_sparse=False), 'shape42': TensorSignature(dtype=tf.float64, shape=TensorShape([Dimension(792)]), is_sparse=False), 'shape43': TensorSignature(dtype=tf.float64, shape=TensorShape([Dimension(792)]), is_sparse=False), 'shape48': TensorSignature(dtype=tf.float64, shape=TensorShape([Dimension(792)]), is_sparse=False), 'shape49': TensorSignature(dtype=tf.float64, shape=TensorShape([Dimension(792)]), is_sparse=False), 'texture53': TensorSignature(dtype=tf.float64, shape=TensorShape([Dimension(792)]), is_sparse=False), 'texture52': TensorSignature(dtype=tf.float64, shape=TensorShape([Dimension(792)]), is_sparse=False), 'texture51': TensorSignature(dtype=tf.float64, shape=TensorShape([Dimension(792)]), is_sparse=False), 'texture50': TensorSignature(dtype=tf.float64, shape=TensorShape([Dimension(792)]), is_sparse=False), 'texture57': TensorSignature(dtype=tf.float64, shape=TensorShape([Dimension(792)]), is_sparse=False), 'texture56': TensorSignature(dtype=tf.float64, shape=TensorShape([Dimension(792)]), is_sparse=False), 'texture55': TensorSignature(dtype=tf.float64, shape=TensorShape([Dimension(792)]), is_sparse=False), 'texture54': TensorSignature(dtype=tf.float64, shape=TensorShape([Dimension(792)]), is_sparse=False), 'texture59': TensorSignature(dtype=tf.float64, shape=TensorShape([Dimension(792)]), is_sparse=False), 'texture58': TensorSignature(dtype=tf.float64, shape=TensorShape([Dimension(792)]), is_sparse=False), 'texture64': TensorSignature(dtype=tf.float64, shape=TensorShape([Dimension(792)]), is_sparse=False), 'shape15': TensorSignature(dtype=tf.float64, shape=TensorShape([Dimension(792)]), is_sparse=False), 'texture62': TensorSignature(dtype=tf.float64, shape=TensorShape([Dimension(792)]), is_sparse=False), 'texture63': TensorSignature(dtype=tf.float64, shape=TensorShape([Dimension(792)]), is_sparse=False), 'margin46': TensorSignature(dtype=tf.float64, shape=TensorShape([Dimension(792)]), is_sparse=False), 'margin47': TensorSignature(dtype=tf.float64, shape=TensorShape([Dimension(792)]), is_sparse=False), 'margin44': TensorSignature(dtype=tf.float64, shape=TensorShape([Dimension(792)]), is_sparse=False), 'margin45': TensorSignature(dtype=tf.float64, shape=TensorShape([Dimension(792)]), is_sparse=False), 'margin42': TensorSignature(dtype=tf.float64, shape=TensorShape([Dimension(792)]), is_sparse=False), 'texture60': TensorSignature(dtype=tf.float64, shape=TensorShape([Dimension(792)]), is_sparse=False), 'margin40': TensorSignature(dtype=tf.float64, shape=TensorShape([Dimension(792)]), is_sparse=False), 'margin41': TensorSignature(dtype=tf.float64, shape=TensorShape([Dimension(792)]), is_sparse=False), 'texture61': TensorSignature(dtype=tf.float64, shape=TensorShape([Dimension(792)]), is_sparse=False), 'margin48': TensorSignature(dtype=tf.float64, shape=TensorShape([Dimension(792)]), is_sparse=False), 'margin43': TensorSignature(dtype=tf.float64, shape=TensorShape([Dimension(792)]), is_sparse=False), 'texture44': TensorSignature(dtype=tf.float64, shape=TensorShape([Dimension(792)]), is_sparse=False), 'texture45': TensorSignature(dtype=tf.float64, shape=TensorShape([Dimension(792)]), is_sparse=False), 'texture46': TensorSignature(dtype=tf.float64, shape=TensorShape([Dimension(792)]), is_sparse=False), 'texture47': TensorSignature(dtype=tf.float64, shape=TensorShape([Dimension(792)]), is_sparse=False), 'texture40': TensorSignature(dtype=tf.float64, shape=TensorShape([Dimension(792)]), is_sparse=False), 'texture41': TensorSignature(dtype=tf.float64, shape=TensorShape([Dimension(792)]), is_sparse=False), 'texture42': TensorSignature(dtype=tf.float64, shape=TensorShape([Dimension(792)]), is_sparse=False), 'texture43': TensorSignature(dtype=tf.float64, shape=TensorShape([Dimension(792)]), is_sparse=False), 'texture48': TensorSignature(dtype=tf.float64, shape=TensorShape([Dimension(792)]), is_sparse=False), 'texture49': TensorSignature(dtype=tf.float64, shape=TensorShape([Dimension(792)]), is_sparse=False), 'margin59': TensorSignature(dtype=tf.float64, shape=TensorShape([Dimension(792)]), is_sparse=False), 'margin58': TensorSignature(dtype=tf.float64, shape=TensorShape([Dimension(792)]), is_sparse=False), 'margin39': TensorSignature(dtype=tf.float64, shape=TensorShape([Dimension(792)]), is_sparse=False), 'margin51': TensorSignature(dtype=tf.float64, shape=TensorShape([Dimension(792)]), is_sparse=False), 'margin50': TensorSignature(dtype=tf.float64, shape=TensorShape([Dimension(792)]), is_sparse=False), 'shape64': TensorSignature(dtype=tf.float64, shape=TensorShape([Dimension(792)]), is_sparse=False), 'margin52': TensorSignature(dtype=tf.float64, shape=TensorShape([Dimension(792)]), is_sparse=False), 'shape62': TensorSignature(dtype=tf.float64, shape=TensorShape([Dimension(792)]), is_sparse=False), 'shape63': TensorSignature(dtype=tf.float64, shape=TensorShape([Dimension(792)]), is_sparse=False), 'shape60': TensorSignature(dtype=tf.float64, shape=TensorShape([Dimension(792)]), is_sparse=False), 'shape61': TensorSignature(dtype=tf.float64, shape=TensorShape([Dimension(792)]), is_sparse=False), 'margin49': TensorSignature(dtype=tf.float64, shape=TensorShape([Dimension(792)]), is_sparse=False), 'margin35': TensorSignature(dtype=tf.float64, shape=TensorShape([Dimension(792)]), is_sparse=False), 'margin34': TensorSignature(dtype=tf.float64, shape=TensorShape([Dimension(792)]), is_sparse=False), 'texture31': TensorSignature(dtype=tf.float64, shape=TensorShape([Dimension(792)]), is_sparse=False), 'texture30': TensorSignature(dtype=tf.float64, shape=TensorShape([Dimension(792)]), is_sparse=False), 'shape19': TensorSignature(dtype=tf.float64, shape=TensorShape([Dimension(792)]), is_sparse=False), 'shape18': TensorSignature(dtype=tf.float64, shape=TensorShape([Dimension(792)]), is_sparse=False), 'margin28': TensorSignature(dtype=tf.float64, shape=TensorShape([Dimension(792)]), is_sparse=False), 'margin29': TensorSignature(dtype=tf.float64, shape=TensorShape([Dimension(792)]), is_sparse=False), 'texture37': TensorSignature(dtype=tf.float64, shape=TensorShape([Dimension(792)]), is_sparse=False), 'texture36': TensorSignature(dtype=tf.float64, shape=TensorShape([Dimension(792)]), is_sparse=False), 'texture39': TensorSignature(dtype=tf.float64, shape=TensorShape([Dimension(792)]), is_sparse=False), 'texture38': TensorSignature(dtype=tf.float64, shape=TensorShape([Dimension(792)]), is_sparse=False), 'margin26': TensorSignature(dtype=tf.float64, shape=TensorShape([Dimension(792)]), is_sparse=False), 'shape10': TensorSignature(dtype=tf.float64, shape=TensorShape([Dimension(792)]), is_sparse=False), 'shape17': TensorSignature(dtype=tf.float64, shape=TensorShape([Dimension(792)]), is_sparse=False), 'shape16': TensorSignature(dtype=tf.float64, shape=TensorShape([Dimension(792)]), is_sparse=False), 'margin22': TensorSignature(dtype=tf.float64, shape=TensorShape([Dimension(792)]), is_sparse=False), 'margin23': TensorSignature(dtype=tf.float64, shape=TensorShape([Dimension(792)]), is_sparse=False), 'texture33': TensorSignature(dtype=tf.float64, shape=TensorShape([Dimension(792)]), is_sparse=False), 'texture32': TensorSignature(dtype=tf.float64, shape=TensorShape([Dimension(792)]), is_sparse=False), 'texture35': TensorSignature(dtype=tf.float64, shape=TensorShape([Dimension(792)]), is_sparse=False), 'texture34': TensorSignature(dtype=tf.float64, shape=TensorShape([Dimension(792)]), is_sparse=False), 'texture22': TensorSignature(dtype=tf.float64, shape=TensorShape([Dimension(792)]), is_sparse=False), 'texture23': TensorSignature(dtype=tf.float64, shape=TensorShape([Dimension(792)]), is_sparse=False), 'texture20': TensorSignature(dtype=tf.float64, shape=TensorShape([Dimension(792)]), is_sparse=False), 'texture21': TensorSignature(dtype=tf.float64, shape=TensorShape([Dimension(792)]), is_sparse=False), 'texture26': TensorSignature(dtype=tf.float64, shape=TensorShape([Dimension(792)]), is_sparse=False), 'texture27': TensorSignature(dtype=tf.float64, shape=TensorShape([Dimension(792)]), is_sparse=False), 'texture24': TensorSignature(dtype=tf.float64, shape=TensorShape([Dimension(792)]), is_sparse=False), 'texture25': TensorSignature(dtype=tf.float64, shape=TensorShape([Dimension(792)]), is_sparse=False), 'margin37': TensorSignature(dtype=tf.float64, shape=TensorShape([Dimension(792)]), is_sparse=False), 'margin36': TensorSignature(dtype=tf.float64, shape=TensorShape([Dimension(792)]), is_sparse=False), 'texture28': TensorSignature(dtype=tf.float64, shape=TensorShape([Dimension(792)]), is_sparse=False), 'texture29': TensorSignature(dtype=tf.float64, shape=TensorShape([Dimension(792)]), is_sparse=False), 'margin33': TensorSignature(dtype=tf.float64, shape=TensorShape([Dimension(792)]), is_sparse=False), 'margin32': TensorSignature(dtype=tf.float64, shape=TensorShape([Dimension(792)]), is_sparse=False), 'margin31': TensorSignature(dtype=tf.float64, shape=TensorShape([Dimension(792)]), is_sparse=False), 'margin30': TensorSignature(dtype=tf.float64, shape=TensorShape([Dimension(792)]), is_sparse=False), 'margin24': TensorSignature(dtype=tf.float64, shape=TensorShape([Dimension(792)]), is_sparse=False), 'shape12': TensorSignature(dtype=tf.float64, shape=TensorShape([Dimension(792)]), is_sparse=False), 'shape11': TensorSignature(dtype=tf.float64, shape=TensorShape([Dimension(792)]), is_sparse=False)}\n",
      "WARNING:tensorflow:Setting targets info to TensorSignature(dtype=tf.int64, shape=TensorShape([Dimension(792)]), is_sparse=False)\n"
     ]
    },
    {
     "data": {
      "text/plain": [
       "LinearClassifier()"
      ]
     },
     "execution_count": 16,
     "metadata": {},
     "output_type": "execute_result"
    }
   ],
   "source": [
    "linear_classifier.fit(input_fn=lambda: input_fn(X_train), steps=10000)"
   ]
  },
  {
   "cell_type": "code",
   "execution_count": null,
   "metadata": {
    "collapsed": false
   },
   "outputs": [],
   "source": [
    "lin_results = linear_classifier.evaluate(input_fn=lambda:input_fn(X_test),steps=1)"
   ]
  },
  {
   "cell_type": "code",
   "execution_count": null,
   "metadata": {
    "collapsed": false
   },
   "outputs": [],
   "source": [
    "for key in sorted(lin_results):\n",
    "    print \"%s: %s\" %(key, lin_results[key])"
   ]
  },
  {
   "cell_type": "code",
   "execution_count": null,
   "metadata": {
    "collapsed": true
   },
   "outputs": [],
   "source": []
  }
 ],
 "metadata": {
  "kernelspec": {
   "display_name": "Python [tensor]",
   "language": "python",
   "name": "Python [tensor]"
  },
  "language_info": {
   "codemirror_mode": {
    "name": "ipython",
    "version": 2
   },
   "file_extension": ".py",
   "mimetype": "text/x-python",
   "name": "python",
   "nbconvert_exporter": "python",
   "pygments_lexer": "ipython2",
   "version": "2.7.12"
  }
 },
 "nbformat": 4,
 "nbformat_minor": 0
}
