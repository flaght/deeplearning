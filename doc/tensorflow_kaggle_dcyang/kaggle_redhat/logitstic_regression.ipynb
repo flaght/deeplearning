{
 "cells": [
  {
   "cell_type": "code",
   "execution_count": 1,
   "metadata": {
    "collapsed": true
   },
   "outputs": [],
   "source": [
    "import pandas as pd\n",
    "from sklearn.linear_model import LogisticRegression\n",
    "from sklearn.metrics import roc_auc_score"
   ]
  },
  {
   "cell_type": "code",
   "execution_count": 2,
   "metadata": {
    "collapsed": true
   },
   "outputs": [],
   "source": [
    "def LeaveOneOut(data1, data2, columnName, useLOO=False):\n",
    "    grpOutcomes = data1.groupby(columnName).mean().reset_index()\n",
    "    outcomes = data2['outcome'].values\n",
    "    x = pd.merge(data2[[columnName, 'outcome']], grpOutcomes,\n",
    "                 suffixes=('x_', ''),\n",
    "                 how='left',\n",
    "                 on=columnName,\n",
    "                 left_index=True)['outcome']\n",
    "    if(useLOO):\n",
    "        x = ((x*x.shape[0])-outcomes)/(x.shape[0]-1)\n",
    "    return x.fillna(x.mean())"
   ]
  },
  {
   "cell_type": "code",
   "execution_count": 3,
   "metadata": {
    "collapsed": true
   },
   "outputs": [],
   "source": [
    "directory = 'data/'\n",
    "train = pd.read_csv(directory+'act_train.csv')\n",
    "test = pd.read_csv(directory+'act_test.csv')\n",
    "people = pd.read_csv(directory+'people.csv')"
   ]
  },
  {
   "cell_type": "code",
   "execution_count": 4,
   "metadata": {
    "collapsed": false
   },
   "outputs": [],
   "source": [
    "train = pd.merge(train, people,how='left',on='people_id',left_index=True)\n",
    "train.fillna('-999', inplace=True)"
   ]
  },
  {
   "cell_type": "code",
   "execution_count": 17,
   "metadata": {
    "collapsed": false,
    "scrolled": true
   },
   "outputs": [
    {
     "data": {
      "text/plain": [
       "['date_x',\n",
       " 'activity_category',\n",
       " 'char_1_x',\n",
       " 'char_2_x',\n",
       " 'char_3_x',\n",
       " 'char_4_x',\n",
       " 'char_5_x',\n",
       " 'char_6_x',\n",
       " 'char_7_x',\n",
       " 'char_8_x',\n",
       " 'char_9_x',\n",
       " 'char_10_x',\n",
       " 'outcome',\n",
       " 'char_1_y',\n",
       " 'group_1',\n",
       " 'char_2_y',\n",
       " 'date_y',\n",
       " 'char_3_y',\n",
       " 'char_4_y',\n",
       " 'char_5_y',\n",
       " 'char_6_y',\n",
       " 'char_7_y',\n",
       " 'char_8_y',\n",
       " 'char_9_y',\n",
       " 'char_10_y',\n",
       " 'char_11',\n",
       " 'char_12',\n",
       " 'char_13',\n",
       " 'char_14',\n",
       " 'char_15',\n",
       " 'char_16',\n",
       " 'char_17',\n",
       " 'char_18',\n",
       " 'char_19',\n",
       " 'char_20',\n",
       " 'char_21',\n",
       " 'char_22',\n",
       " 'char_23',\n",
       " 'char_24',\n",
       " 'char_25',\n",
       " 'char_26',\n",
       " 'char_27',\n",
       " 'char_28',\n",
       " 'char_29',\n",
       " 'char_30',\n",
       " 'char_31',\n",
       " 'char_32',\n",
       " 'char_33',\n",
       " 'char_34',\n",
       " 'char_35',\n",
       " 'char_36',\n",
       " 'char_37',\n",
       " 'char_38']"
      ]
     },
     "execution_count": 17,
     "metadata": {},
     "output_type": "execute_result"
    }
   ],
   "source": [
    "features = train.columns.tolist()\n",
    "features.remove('activity_id')\n",
    "features.remove('people_id')\n",
    "features"
   ]
  },
  {
   "cell_type": "code",
   "execution_count": 18,
   "metadata": {
    "collapsed": false,
    "scrolled": true
   },
   "outputs": [
    {
     "name": "stdout",
     "output_type": "stream",
     "text": [
      "date_x\n",
      "activity_category\n",
      "char_1_x\n",
      "char_2_x\n",
      "char_3_x\n",
      "char_4_x\n",
      "char_5_x\n",
      "char_6_x\n",
      "char_7_x\n",
      "char_8_x\n",
      "char_9_x\n",
      "char_10_x\n",
      "char_1_y\n",
      "group_1\n",
      "char_2_y\n",
      "date_y\n",
      "char_3_y\n",
      "char_4_y\n",
      "char_5_y\n",
      "char_6_y\n",
      "char_7_y\n",
      "char_8_y\n",
      "char_9_y\n",
      "char_10_y\n",
      "char_11\n",
      "char_12\n",
      "char_13\n",
      "char_14\n",
      "char_15\n",
      "char_16\n",
      "char_17\n",
      "char_18\n",
      "char_19\n",
      "char_20\n",
      "char_21\n",
      "char_22\n",
      "char_23\n",
      "char_24\n",
      "char_25\n",
      "char_26\n",
      "char_27\n",
      "char_28\n",
      "char_29\n",
      "char_30\n",
      "char_31\n",
      "char_32\n",
      "char_33\n",
      "char_34\n",
      "char_35\n",
      "char_36\n",
      "char_37\n",
      "char_38\n"
     ]
    }
   ],
   "source": [
    "lootrain = pd.DataFrame()\n",
    "for col in features:\n",
    "    if(col != 'outcome'):\n",
    "        print(col)\n",
    "        lootrain[col] = LeaveOneOut(train, train, col, True).values"
   ]
  },
  {
   "cell_type": "code",
   "execution_count": 19,
   "metadata": {
    "collapsed": false
   },
   "outputs": [
    {
     "name": "stdout",
     "output_type": "stream",
     "text": [
      "('roc', 0.99703402430903532)\n"
     ]
    }
   ],
   "source": [
    "lr = LogisticRegression(C=100000.0)\n",
    "lr.fit(lootrain, train['outcome'])\n",
    "preds = lr.predict_proba(lootrain)[:, 1]\n",
    "print('roc', roc_auc_score(train.outcome, preds))"
   ]
  },
  {
   "cell_type": "code",
   "execution_count": 22,
   "metadata": {
    "collapsed": false
   },
   "outputs": [
    {
     "data": {
      "text/html": [
       "<div>\n",
       "<table border=\"1\" class=\"dataframe\">\n",
       "  <thead>\n",
       "    <tr style=\"text-align: right;\">\n",
       "      <th></th>\n",
       "      <th>date_x</th>\n",
       "      <th>activity_category</th>\n",
       "      <th>char_1_x</th>\n",
       "      <th>char_2_x</th>\n",
       "      <th>char_3_x</th>\n",
       "      <th>char_4_x</th>\n",
       "      <th>char_5_x</th>\n",
       "      <th>char_6_x</th>\n",
       "      <th>char_7_x</th>\n",
       "      <th>char_8_x</th>\n",
       "      <th>...</th>\n",
       "      <th>char_29</th>\n",
       "      <th>char_30</th>\n",
       "      <th>char_31</th>\n",
       "      <th>char_32</th>\n",
       "      <th>char_33</th>\n",
       "      <th>char_34</th>\n",
       "      <th>char_35</th>\n",
       "      <th>char_36</th>\n",
       "      <th>char_37</th>\n",
       "      <th>char_38</th>\n",
       "    </tr>\n",
       "  </thead>\n",
       "  <tbody>\n",
       "    <tr>\n",
       "      <th>0</th>\n",
       "      <td>0.443469</td>\n",
       "      <td>0.489206</td>\n",
       "      <td>0.446476</td>\n",
       "      <td>0.446476</td>\n",
       "      <td>0.446476</td>\n",
       "      <td>0.446476</td>\n",
       "      <td>0.446476</td>\n",
       "      <td>0.446476</td>\n",
       "      <td>0.446476</td>\n",
       "      <td>0.446476</td>\n",
       "      <td>...</td>\n",
       "      <td>0.402735</td>\n",
       "      <td>0.650801</td>\n",
       "      <td>0.652109</td>\n",
       "      <td>0.360108</td>\n",
       "      <td>0.388654</td>\n",
       "      <td>0.658206</td>\n",
       "      <td>0.65678</td>\n",
       "      <td>0.668789</td>\n",
       "      <td>0.356352</td>\n",
       "      <td>0.0</td>\n",
       "    </tr>\n",
       "    <tr>\n",
       "      <th>1</th>\n",
       "      <td>0.281099</td>\n",
       "      <td>0.510324</td>\n",
       "      <td>0.446476</td>\n",
       "      <td>0.446476</td>\n",
       "      <td>0.446476</td>\n",
       "      <td>0.446476</td>\n",
       "      <td>0.446476</td>\n",
       "      <td>0.446476</td>\n",
       "      <td>0.446476</td>\n",
       "      <td>0.446476</td>\n",
       "      <td>...</td>\n",
       "      <td>0.402735</td>\n",
       "      <td>0.650801</td>\n",
       "      <td>0.652109</td>\n",
       "      <td>0.360108</td>\n",
       "      <td>0.388654</td>\n",
       "      <td>0.658206</td>\n",
       "      <td>0.65678</td>\n",
       "      <td>0.668789</td>\n",
       "      <td>0.356352</td>\n",
       "      <td>0.0</td>\n",
       "    </tr>\n",
       "    <tr>\n",
       "      <th>2</th>\n",
       "      <td>0.281099</td>\n",
       "      <td>0.510324</td>\n",
       "      <td>0.446476</td>\n",
       "      <td>0.446476</td>\n",
       "      <td>0.446476</td>\n",
       "      <td>0.446476</td>\n",
       "      <td>0.446476</td>\n",
       "      <td>0.446476</td>\n",
       "      <td>0.446476</td>\n",
       "      <td>0.446476</td>\n",
       "      <td>...</td>\n",
       "      <td>0.402735</td>\n",
       "      <td>0.650801</td>\n",
       "      <td>0.652109</td>\n",
       "      <td>0.360108</td>\n",
       "      <td>0.388654</td>\n",
       "      <td>0.658206</td>\n",
       "      <td>0.65678</td>\n",
       "      <td>0.668789</td>\n",
       "      <td>0.356352</td>\n",
       "      <td>0.0</td>\n",
       "    </tr>\n",
       "    <tr>\n",
       "      <th>3</th>\n",
       "      <td>0.442657</td>\n",
       "      <td>0.510324</td>\n",
       "      <td>0.446476</td>\n",
       "      <td>0.446476</td>\n",
       "      <td>0.446476</td>\n",
       "      <td>0.446476</td>\n",
       "      <td>0.446476</td>\n",
       "      <td>0.446476</td>\n",
       "      <td>0.446476</td>\n",
       "      <td>0.446476</td>\n",
       "      <td>...</td>\n",
       "      <td>0.402735</td>\n",
       "      <td>0.650801</td>\n",
       "      <td>0.652109</td>\n",
       "      <td>0.360108</td>\n",
       "      <td>0.388654</td>\n",
       "      <td>0.658206</td>\n",
       "      <td>0.65678</td>\n",
       "      <td>0.668789</td>\n",
       "      <td>0.356352</td>\n",
       "      <td>0.0</td>\n",
       "    </tr>\n",
       "    <tr>\n",
       "      <th>4</th>\n",
       "      <td>0.443469</td>\n",
       "      <td>0.510324</td>\n",
       "      <td>0.446476</td>\n",
       "      <td>0.446476</td>\n",
       "      <td>0.446476</td>\n",
       "      <td>0.446476</td>\n",
       "      <td>0.446476</td>\n",
       "      <td>0.446476</td>\n",
       "      <td>0.446476</td>\n",
       "      <td>0.446476</td>\n",
       "      <td>...</td>\n",
       "      <td>0.402735</td>\n",
       "      <td>0.650801</td>\n",
       "      <td>0.652109</td>\n",
       "      <td>0.360108</td>\n",
       "      <td>0.388654</td>\n",
       "      <td>0.658206</td>\n",
       "      <td>0.65678</td>\n",
       "      <td>0.668789</td>\n",
       "      <td>0.356352</td>\n",
       "      <td>0.0</td>\n",
       "    </tr>\n",
       "  </tbody>\n",
       "</table>\n",
       "<p>5 rows × 52 columns</p>\n",
       "</div>"
      ],
      "text/plain": [
       "     date_x  activity_category  char_1_x  char_2_x  char_3_x  char_4_x  \\\n",
       "0  0.443469           0.489206  0.446476  0.446476  0.446476  0.446476   \n",
       "1  0.281099           0.510324  0.446476  0.446476  0.446476  0.446476   \n",
       "2  0.281099           0.510324  0.446476  0.446476  0.446476  0.446476   \n",
       "3  0.442657           0.510324  0.446476  0.446476  0.446476  0.446476   \n",
       "4  0.443469           0.510324  0.446476  0.446476  0.446476  0.446476   \n",
       "\n",
       "   char_5_x  char_6_x  char_7_x  char_8_x   ...      char_29   char_30  \\\n",
       "0  0.446476  0.446476  0.446476  0.446476   ...     0.402735  0.650801   \n",
       "1  0.446476  0.446476  0.446476  0.446476   ...     0.402735  0.650801   \n",
       "2  0.446476  0.446476  0.446476  0.446476   ...     0.402735  0.650801   \n",
       "3  0.446476  0.446476  0.446476  0.446476   ...     0.402735  0.650801   \n",
       "4  0.446476  0.446476  0.446476  0.446476   ...     0.402735  0.650801   \n",
       "\n",
       "    char_31   char_32   char_33   char_34  char_35   char_36   char_37  \\\n",
       "0  0.652109  0.360108  0.388654  0.658206  0.65678  0.668789  0.356352   \n",
       "1  0.652109  0.360108  0.388654  0.658206  0.65678  0.668789  0.356352   \n",
       "2  0.652109  0.360108  0.388654  0.658206  0.65678  0.668789  0.356352   \n",
       "3  0.652109  0.360108  0.388654  0.658206  0.65678  0.668789  0.356352   \n",
       "4  0.652109  0.360108  0.388654  0.658206  0.65678  0.668789  0.356352   \n",
       "\n",
       "   char_38  \n",
       "0      0.0  \n",
       "1      0.0  \n",
       "2      0.0  \n",
       "3      0.0  \n",
       "4      0.0  \n",
       "\n",
       "[5 rows x 52 columns]"
      ]
     },
     "execution_count": 22,
     "metadata": {},
     "output_type": "execute_result"
    }
   ],
   "source": [
    "lootrain.head()"
   ]
  },
  {
   "cell_type": "code",
   "execution_count": null,
   "metadata": {
    "collapsed": true
   },
   "outputs": [],
   "source": []
  }
 ],
 "metadata": {
  "kernelspec": {
   "display_name": "Python [Root]",
   "language": "python",
   "name": "Python [Root]"
  },
  "language_info": {
   "codemirror_mode": {
    "name": "ipython",
    "version": 2
   },
   "file_extension": ".py",
   "mimetype": "text/x-python",
   "name": "python",
   "nbconvert_exporter": "python",
   "pygments_lexer": "ipython2",
   "version": "2.7.12"
  }
 },
 "nbformat": 4,
 "nbformat_minor": 0
}
