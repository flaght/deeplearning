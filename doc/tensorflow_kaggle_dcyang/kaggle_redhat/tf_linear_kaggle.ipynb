{
 "cells": [
  {
   "cell_type": "code",
   "execution_count": 1,
   "metadata": {
    "collapsed": true
   },
   "outputs": [],
   "source": [
    "import pandas as pd\n",
    "import numpy as np"
   ]
  },
  {
   "cell_type": "code",
   "execution_count": 2,
   "metadata": {
    "collapsed": false,
    "scrolled": true
   },
   "outputs": [],
   "source": [
    "directory = 'data/'\n",
    "train = pd.read_csv(directory+'act_train.csv',parse_dates=['date'])\n",
    "people = pd.read_csv(directory+'people.csv',parse_dates=['date'])\n",
    "#test = pd.read_csv(directory+'act_test.csv',parse_dates=['date'])"
   ]
  },
  {
   "cell_type": "code",
   "execution_count": 3,
   "metadata": {
    "collapsed": true
   },
   "outputs": [],
   "source": [
    "train = pd.merge(train, people,how='left',on='people_id',left_index=True)\n",
    "train.fillna('-999', inplace=True)"
   ]
  },
  {
   "cell_type": "code",
   "execution_count": 4,
   "metadata": {
    "collapsed": false
   },
   "outputs": [
    {
     "data": {
      "text/plain": [
       "(2197291, 55)"
      ]
     },
     "execution_count": 4,
     "metadata": {},
     "output_type": "execute_result"
    }
   ],
   "source": [
    "train.shape"
   ]
  },
  {
   "cell_type": "code",
   "execution_count": 5,
   "metadata": {
    "collapsed": true
   },
   "outputs": [],
   "source": [
    "train['isWeekend_x'] = train['date_x'].dt.weekday >= 5"
   ]
  },
  {
   "cell_type": "code",
   "execution_count": 6,
   "metadata": {
    "collapsed": true
   },
   "outputs": [],
   "source": [
    "train['isWeekend_y'] = train['date_y'].dt.weekday >= 5"
   ]
  },
  {
   "cell_type": "code",
   "execution_count": 7,
   "metadata": {
    "collapsed": false
   },
   "outputs": [],
   "source": [
    "train = train.drop('date_x', axis = 1)\n",
    "train = train.drop('date_y', axis = 1)"
   ]
  },
  {
   "cell_type": "code",
   "execution_count": 8,
   "metadata": {
    "collapsed": true
   },
   "outputs": [],
   "source": [
    "#from sklearn.preprocessing import LabelEncoder"
   ]
  },
  {
   "cell_type": "code",
   "execution_count": 9,
   "metadata": {
    "collapsed": false
   },
   "outputs": [],
   "source": [
    "columns = ['char_10_y','char_11', 'char_12',\n",
    "       'char_13', 'char_14', 'char_15', 'char_16', 'char_17', 'char_18',\n",
    "       'char_19', 'char_20', 'char_21', 'char_22', 'char_23', 'char_24',\n",
    "       'char_25', 'char_26', 'char_27', 'char_28', 'char_29', 'char_30',\n",
    "       'char_31', 'char_32', 'char_33', 'char_34', 'char_35', 'char_36','char_37','isWeekend_x','isWeekend_y']\n",
    "\n",
    "for c in columns:\n",
    "    train[c] = train[c].apply(lambda x: np.int8(x))"
   ]
  },
  {
   "cell_type": "code",
   "execution_count": 10,
   "metadata": {
    "collapsed": true
   },
   "outputs": [],
   "source": [
    "CATEGORICAL_COLUMNS = ['activity_category',\n",
    "       'char_1_x', 'char_2_x', 'char_3_x', 'char_4_x', 'char_5_x',\n",
    "       'char_6_x', 'char_7_x', 'char_8_x', 'char_9_x', 'char_10_x',\n",
    "       'char_1_y', 'group_1', 'char_2_y',\n",
    "       'char_3_y', 'char_4_y', 'char_5_y', 'char_6_y', 'char_7_y',\n",
    "       'char_8_y', 'char_9_y']"
   ]
  },
  {
   "cell_type": "code",
   "execution_count": 11,
   "metadata": {
    "collapsed": false,
    "scrolled": true
   },
   "outputs": [],
   "source": [
    "#CATEGORICAL_COLUMNS"
   ]
  },
  {
   "cell_type": "code",
   "execution_count": 12,
   "metadata": {
    "collapsed": true
   },
   "outputs": [],
   "source": [
    "CONTINUOUS_COLUMNS = ['char_11', 'char_12','char_10_y',\n",
    "       'char_13', 'char_14', 'char_15', 'char_16', 'char_17', 'char_18',\n",
    "       'char_19', 'char_20', 'char_21', 'char_22', 'char_23', 'char_24',\n",
    "       'char_25', 'char_26', 'char_27', 'char_28', 'char_29', 'char_30',\n",
    "       'char_31', 'char_32', 'char_33', 'char_34', 'char_35', 'char_36','char_37','char_38','isWeekend_x','isWeekend_y']"
   ]
  },
  {
   "cell_type": "code",
   "execution_count": 13,
   "metadata": {
    "collapsed": true
   },
   "outputs": [],
   "source": [
    "LABLE_COLUMN = 'outcome'"
   ]
  },
  {
   "cell_type": "code",
   "execution_count": 5,
   "metadata": {
    "collapsed": true
   },
   "outputs": [],
   "source": [
    "import tensorflow as tf"
   ]
  },
  {
   "cell_type": "code",
   "execution_count": 6,
   "metadata": {
    "collapsed": true
   },
   "outputs": [],
   "source": [
    "def input_fn(df):\n",
    "    continuous_cols = {k: tf.constant(df[k].values) for k in CONTINUOUS_COLUMNS}\n",
    "    categorical_cols = {k: tf.SparseTensor(indices=[[i, 0] for i in range(df[k].size)],\n",
    "                                          values=df[k].values,\n",
    "                                          shape=[df[k].size, 1])\n",
    "                       for k in CATEGORICAL_COLUMNS}\n",
    "    feature_cols = dict(continuous_cols.items() + categorical_cols.items())\n",
    "    label = tf.constant(df[LABLE_COLUMN].values)\n",
    "    return feature_cols, label"
   ]
  },
  {
   "cell_type": "code",
   "execution_count": 16,
   "metadata": {
    "collapsed": true
   },
   "outputs": [],
   "source": [
    "activity_category = tf.contrib.layers.sparse_column_with_hash_bucket('activity_category', hash_bucket_size=1000)\n",
    "char_1_x = tf.contrib.layers.sparse_column_with_hash_bucket('char_1_x', hash_bucket_size=1000)\n",
    "char_2_x = tf.contrib.layers.sparse_column_with_hash_bucket('char_2_x', hash_bucket_size=1000)\n",
    "char_3_x = tf.contrib.layers.sparse_column_with_hash_bucket('char_3_x', hash_bucket_size=1000)\n",
    "char_4_x = tf.contrib.layers.sparse_column_with_hash_bucket('char_4_x', hash_bucket_size=1000)\n",
    "char_5_x = tf.contrib.layers.sparse_column_with_hash_bucket('char_5_x', hash_bucket_size=1000)\n",
    "char_6_x = tf.contrib.layers.sparse_column_with_hash_bucket('char_6_x', hash_bucket_size=1000)\n",
    "char_7_x = tf.contrib.layers.sparse_column_with_hash_bucket('char_7_x', hash_bucket_size=1000)\n",
    "char_8_x = tf.contrib.layers.sparse_column_with_hash_bucket('char_8_x', hash_bucket_size=1000)\n",
    "char_9_x = tf.contrib.layers.sparse_column_with_hash_bucket('char_9_x', hash_bucket_size=1000)\n",
    "char_10_x = tf.contrib.layers.sparse_column_with_hash_bucket('char_10_x', hash_bucket_size=1000)\n",
    "char_1_y = tf.contrib.layers.sparse_column_with_hash_bucket('char_1_y', hash_bucket_size=1000)\n",
    "group_1 = tf.contrib.layers.sparse_column_with_hash_bucket('group_1', hash_bucket_size=1000)\n",
    "char_2_y = tf.contrib.layers.sparse_column_with_hash_bucket('char_2_y', hash_bucket_size=1000)\n",
    "char_3_y = tf.contrib.layers.sparse_column_with_hash_bucket('char_3_y', hash_bucket_size=1000)\n",
    "char_4_y = tf.contrib.layers.sparse_column_with_hash_bucket('char_4_y', hash_bucket_size=1000)\n",
    "char_5_y = tf.contrib.layers.sparse_column_with_hash_bucket('char_5_y', hash_bucket_size=1000)\n",
    "char_6_y = tf.contrib.layers.sparse_column_with_hash_bucket('char_6_y', hash_bucket_size=1000)\n",
    "char_7_y = tf.contrib.layers.sparse_column_with_hash_bucket('char_7_y', hash_bucket_size=1000)\n",
    "char_8_y = tf.contrib.layers.sparse_column_with_hash_bucket('char_8_y', hash_bucket_size=1000)\n",
    "char_9_y = tf.contrib.layers.sparse_column_with_hash_bucket('char_9_y', hash_bucket_size=1000)"
   ]
  },
  {
   "cell_type": "code",
   "execution_count": 17,
   "metadata": {
    "collapsed": true
   },
   "outputs": [],
   "source": [
    "char_10_y = tf.contrib.layers.real_valued_column('char_10_y')\n",
    "char_11 = tf.contrib.layers.real_valued_column('char_11')\n",
    "char_12 = tf.contrib.layers.real_valued_column('char_12')\n",
    "char_13 = tf.contrib.layers.real_valued_column('char_13')\n",
    "char_14 = tf.contrib.layers.real_valued_column('char_14')\n",
    "char_15 = tf.contrib.layers.real_valued_column('char_15')\n",
    "char_16 = tf.contrib.layers.real_valued_column('char_16')\n",
    "char_17 = tf.contrib.layers.real_valued_column('char_17')\n",
    "char_18 = tf.contrib.layers.real_valued_column('char_18')\n",
    "char_19 = tf.contrib.layers.real_valued_column('char_19')\n",
    "char_20 = tf.contrib.layers.real_valued_column('char_20')\n",
    "char_21 = tf.contrib.layers.real_valued_column('char_21')\n",
    "char_22 = tf.contrib.layers.real_valued_column('char_22')\n",
    "char_23 = tf.contrib.layers.real_valued_column('char_23')\n",
    "char_24 = tf.contrib.layers.real_valued_column('char_24')\n",
    "char_25 = tf.contrib.layers.real_valued_column('char_25')\n",
    "char_26 = tf.contrib.layers.real_valued_column('char_26')\n",
    "char_27 = tf.contrib.layers.real_valued_column('char_27')\n",
    "char_28 = tf.contrib.layers.real_valued_column('char_28')\n",
    "char_29 = tf.contrib.layers.real_valued_column('char_29')\n",
    "char_30 = tf.contrib.layers.real_valued_column('char_30')\n",
    "char_31 = tf.contrib.layers.real_valued_column('char_31')\n",
    "char_32 = tf.contrib.layers.real_valued_column('char_32')\n",
    "char_33 = tf.contrib.layers.real_valued_column('char_33')\n",
    "char_34 = tf.contrib.layers.real_valued_column('char_34')\n",
    "char_35 = tf.contrib.layers.real_valued_column('char_35')\n",
    "char_36 = tf.contrib.layers.real_valued_column('char_36')\n",
    "char_37 = tf.contrib.layers.real_valued_column('char_37')\n",
    "char_38 = tf.contrib.layers.real_valued_column('char_38')\n",
    "isWeekend_x = tf.contrib.layers.real_valued_column('isWeekend_x')\n",
    "isWeekend_y = tf.contrib.layers.real_valued_column('isWeekend_y')"
   ]
  },
  {
   "cell_type": "code",
   "execution_count": 3,
   "metadata": {
    "collapsed": true
   },
   "outputs": [],
   "source": [
    "import tempfile"
   ]
  },
  {
   "cell_type": "code",
   "execution_count": 7,
   "metadata": {
    "collapsed": false
   },
   "outputs": [
    {
     "ename": "NameError",
     "evalue": "name 'activity_category' is not defined",
     "output_type": "error",
     "traceback": [
      "\u001b[1;31m---------------------------------------------------------------------------\u001b[0m",
      "\u001b[1;31mNameError\u001b[0m                                 Traceback (most recent call last)",
      "\u001b[1;32m<ipython-input-7-30d40c4c63d5>\u001b[0m in \u001b[0;36m<module>\u001b[1;34m()\u001b[0m\n\u001b[0;32m      1\u001b[0m \u001b[0mmodel_dir\u001b[0m \u001b[1;33m=\u001b[0m \u001b[0mtempfile\u001b[0m\u001b[1;33m.\u001b[0m\u001b[0mmkdtemp\u001b[0m\u001b[1;33m(\u001b[0m\u001b[1;33m)\u001b[0m\u001b[1;33m\u001b[0m\u001b[0m\n\u001b[0;32m      2\u001b[0m m = tf.contrib.learn.LinearClassifier(feature_columns=[\n\u001b[1;32m----> 3\u001b[1;33m        \u001b[0mactivity_category\u001b[0m\u001b[1;33m,\u001b[0m\u001b[1;33m\u001b[0m\u001b[0m\n\u001b[0m\u001b[0;32m      4\u001b[0m        \u001b[0mchar_1_x\u001b[0m\u001b[1;33m,\u001b[0m \u001b[0mchar_2_x\u001b[0m\u001b[1;33m,\u001b[0m \u001b[0mchar_3_x\u001b[0m\u001b[1;33m,\u001b[0m \u001b[0mchar_4_x\u001b[0m\u001b[1;33m,\u001b[0m \u001b[0mchar_5_x\u001b[0m\u001b[1;33m,\u001b[0m\u001b[1;33m\u001b[0m\u001b[0m\n\u001b[0;32m      5\u001b[0m        \u001b[0mchar_6_x\u001b[0m\u001b[1;33m,\u001b[0m \u001b[0mchar_7_x\u001b[0m\u001b[1;33m,\u001b[0m \u001b[0mchar_8_x\u001b[0m\u001b[1;33m,\u001b[0m \u001b[0mchar_9_x\u001b[0m\u001b[1;33m,\u001b[0m \u001b[0mchar_10_x\u001b[0m\u001b[1;33m,\u001b[0m\u001b[1;33m\u001b[0m\u001b[0m\n",
      "\u001b[1;31mNameError\u001b[0m: name 'activity_category' is not defined"
     ]
    }
   ],
   "source": [
    "model_dir = tempfile.mkdtemp()\n",
    "m = tf.contrib.learn.LinearClassifier(feature_columns=[\n",
    "       activity_category,\n",
    "       char_1_x, char_2_x, char_3_x, char_4_x, char_5_x,\n",
    "       char_6_x, char_7_x, char_8_x, char_9_x, char_10_x,\n",
    "       char_1_y, group_1, char_2_y,\n",
    "       char_3_y, char_4_y, char_5_y, char_6_y, char_7_y,\n",
    "       char_8_y, char_9_y, char_10_y, char_11, char_12,\n",
    "       char_13, char_14, char_15, char_16, char_17, char_18,\n",
    "       char_19, char_20, char_21, char_22, char_23, char_24,\n",
    "       char_25, char_26, char_27, char_28, char_29, char_30,\n",
    "       char_31, char_32, char_33, char_34, char_35, char_36,char_37,char_38,isWeekend_x,isWeekend_y],\n",
    "  model_dir=model_dir)"
   ]
  },
  {
   "cell_type": "code",
   "execution_count": 20,
   "metadata": {
    "collapsed": false,
    "scrolled": true
   },
   "outputs": [
    {
     "name": "stderr",
     "output_type": "stream",
     "text": [
      "WARNING:tensorflow:Setting feature info to {'isWeekend_y': TensorSignature(dtype=tf.int64, shape=TensorShape([Dimension(500000)]), is_sparse=False), 'isWeekend_x': TensorSignature(dtype=tf.int64, shape=TensorShape([Dimension(500000)]), is_sparse=False), 'char_31': TensorSignature(dtype=tf.int64, shape=TensorShape([Dimension(500000)]), is_sparse=False), 'char_4_y': TensorSignature(dtype=tf.string, shape=None, is_sparse=True), 'group_1': TensorSignature(dtype=tf.string, shape=None, is_sparse=True), 'char_30': TensorSignature(dtype=tf.int64, shape=TensorShape([Dimension(500000)]), is_sparse=False), 'char_29': TensorSignature(dtype=tf.int64, shape=TensorShape([Dimension(500000)]), is_sparse=False), 'char_8_y': TensorSignature(dtype=tf.string, shape=None, is_sparse=True), 'char_38': TensorSignature(dtype=tf.int64, shape=TensorShape([Dimension(500000)]), is_sparse=False), 'char_8_x': TensorSignature(dtype=tf.string, shape=None, is_sparse=True), 'char_1_x': TensorSignature(dtype=tf.string, shape=None, is_sparse=True), 'char_19': TensorSignature(dtype=tf.int64, shape=TensorShape([Dimension(500000)]), is_sparse=False), 'char_18': TensorSignature(dtype=tf.int64, shape=TensorShape([Dimension(500000)]), is_sparse=False), 'char_17': TensorSignature(dtype=tf.int64, shape=TensorShape([Dimension(500000)]), is_sparse=False), 'char_1_y': TensorSignature(dtype=tf.string, shape=None, is_sparse=True), 'char_33': TensorSignature(dtype=tf.int64, shape=TensorShape([Dimension(500000)]), is_sparse=False), 'char_32': TensorSignature(dtype=tf.int64, shape=TensorShape([Dimension(500000)]), is_sparse=False), 'char_13': TensorSignature(dtype=tf.int64, shape=TensorShape([Dimension(500000)]), is_sparse=False), 'char_12': TensorSignature(dtype=tf.int64, shape=TensorShape([Dimension(500000)]), is_sparse=False), 'char_11': TensorSignature(dtype=tf.int64, shape=TensorShape([Dimension(500000)]), is_sparse=False), 'char_36': TensorSignature(dtype=tf.int64, shape=TensorShape([Dimension(500000)]), is_sparse=False), 'char_3_y': TensorSignature(dtype=tf.string, shape=None, is_sparse=True), 'char_3_x': TensorSignature(dtype=tf.string, shape=None, is_sparse=True), 'char_5_y': TensorSignature(dtype=tf.string, shape=None, is_sparse=True), 'char_5_x': TensorSignature(dtype=tf.string, shape=None, is_sparse=True), 'char_25': TensorSignature(dtype=tf.int64, shape=TensorShape([Dimension(500000)]), is_sparse=False), 'char_10_x': TensorSignature(dtype=tf.string, shape=None, is_sparse=True), 'char_10_y': TensorSignature(dtype=tf.int64, shape=TensorShape([Dimension(500000)]), is_sparse=False), 'char_35': TensorSignature(dtype=tf.int64, shape=TensorShape([Dimension(500000)]), is_sparse=False), 'char_16': TensorSignature(dtype=tf.int64, shape=TensorShape([Dimension(500000)]), is_sparse=False), 'char_2_x': TensorSignature(dtype=tf.string, shape=None, is_sparse=True), 'char_2_y': TensorSignature(dtype=tf.string, shape=None, is_sparse=True), 'char_15': TensorSignature(dtype=tf.int64, shape=TensorShape([Dimension(500000)]), is_sparse=False), 'char_26': TensorSignature(dtype=tf.int64, shape=TensorShape([Dimension(500000)]), is_sparse=False), 'char_27': TensorSignature(dtype=tf.int64, shape=TensorShape([Dimension(500000)]), is_sparse=False), 'char_24': TensorSignature(dtype=tf.int64, shape=TensorShape([Dimension(500000)]), is_sparse=False), 'char_14': TensorSignature(dtype=tf.int64, shape=TensorShape([Dimension(500000)]), is_sparse=False), 'char_22': TensorSignature(dtype=tf.int64, shape=TensorShape([Dimension(500000)]), is_sparse=False), 'char_23': TensorSignature(dtype=tf.int64, shape=TensorShape([Dimension(500000)]), is_sparse=False), 'char_20': TensorSignature(dtype=tf.int64, shape=TensorShape([Dimension(500000)]), is_sparse=False), 'char_21': TensorSignature(dtype=tf.int64, shape=TensorShape([Dimension(500000)]), is_sparse=False), 'char_4_x': TensorSignature(dtype=tf.string, shape=None, is_sparse=True), 'char_9_y': TensorSignature(dtype=tf.string, shape=None, is_sparse=True), 'char_28': TensorSignature(dtype=tf.int64, shape=TensorShape([Dimension(500000)]), is_sparse=False), 'char_9_x': TensorSignature(dtype=tf.string, shape=None, is_sparse=True), 'char_37': TensorSignature(dtype=tf.int64, shape=TensorShape([Dimension(500000)]), is_sparse=False), 'char_6_x': TensorSignature(dtype=tf.string, shape=None, is_sparse=True), 'char_6_y': TensorSignature(dtype=tf.string, shape=None, is_sparse=True), 'char_34': TensorSignature(dtype=tf.int64, shape=TensorShape([Dimension(500000)]), is_sparse=False), 'activity_category': TensorSignature(dtype=tf.string, shape=None, is_sparse=True), 'char_7_y': TensorSignature(dtype=tf.string, shape=None, is_sparse=True), 'char_7_x': TensorSignature(dtype=tf.string, shape=None, is_sparse=True)}\n",
      "WARNING:tensorflow:Setting targets info to TensorSignature(dtype=tf.int64, shape=TensorShape([Dimension(500000)]), is_sparse=False)\n"
     ]
    },
    {
     "data": {
      "text/plain": [
       "LinearClassifier()"
      ]
     },
     "execution_count": 20,
     "metadata": {},
     "output_type": "execute_result"
    }
   ],
   "source": [
    "m.fit(input_fn=lambda: input_fn(train[:500000]), steps=200)"
   ]
  },
  {
   "cell_type": "code",
   "execution_count": 21,
   "metadata": {
    "collapsed": false,
    "scrolled": true
   },
   "outputs": [
    {
     "name": "stderr",
     "output_type": "stream",
     "text": [
      "WARNING:tensorflow:Given features: {'isWeekend_y': <tf.Tensor 'Const_30:0' shape=(500000,) dtype=int64>, 'isWeekend_x': <tf.Tensor 'Const_29:0' shape=(500000,) dtype=int64>, 'char_9_x': <tensorflow.python.framework.ops.SparseTensor object at 0x7f114a737310>, 'char_8_x': <tensorflow.python.framework.ops.SparseTensor object at 0x7f1175747d10>, 'char_3_y': <tensorflow.python.framework.ops.SparseTensor object at 0x7f117749f5d0>, 'char_14': <tf.Tensor 'Const_4:0' shape=(500000,) dtype=int64>, 'char_9_y': <tensorflow.python.framework.ops.SparseTensor object at 0x7f1177443d50>, 'char_7_y': <tensorflow.python.framework.ops.SparseTensor object at 0x7f1176dfdf10>, 'char_5_x': <tensorflow.python.framework.ops.SparseTensor object at 0x7f1175747f50>, 'char_38': <tf.Tensor 'Const_28:0' shape=(500000,) dtype=int64>, 'char_1_y': <tensorflow.python.framework.ops.SparseTensor object at 0x7f1176e63f10>, 'char_1_x': <tensorflow.python.framework.ops.SparseTensor object at 0x7f1175747310>, 'char_19': <tf.Tensor 'Const_9:0' shape=(500000,) dtype=int64>, 'char_18': <tf.Tensor 'Const_8:0' shape=(500000,) dtype=int64>, 'char_17': <tf.Tensor 'Const_7:0' shape=(500000,) dtype=int64>, 'char_16': <tf.Tensor 'Const_6:0' shape=(500000,) dtype=int64>, 'char_33': <tf.Tensor 'Const_23:0' shape=(500000,) dtype=int64>, 'char_32': <tf.Tensor 'Const_22:0' shape=(500000,) dtype=int64>, 'char_13': <tf.Tensor 'Const_3:0' shape=(500000,) dtype=int64>, 'char_12': <tf.Tensor 'Const_1:0' shape=(500000,) dtype=int64>, 'char_11': <tf.Tensor 'Const:0' shape=(500000,) dtype=int64>, 'char_36': <tf.Tensor 'Const_26:0' shape=(500000,) dtype=int64>, 'group_1': <tensorflow.python.framework.ops.SparseTensor object at 0x7f11a53ac090>, 'char_3_x': <tensorflow.python.framework.ops.SparseTensor object at 0x7f1175747cd0>, 'char_6_y': <tensorflow.python.framework.ops.SparseTensor object at 0x7f117749f410>, 'char_5_y': <tensorflow.python.framework.ops.SparseTensor object at 0x7f11774fa6d0>, 'char_31': <tf.Tensor 'Const_21:0' shape=(500000,) dtype=int64>, 'char_10_x': <tensorflow.python.framework.ops.SparseTensor object at 0x7f1176dc9a50>, 'char_10_y': <tf.Tensor 'Const_2:0' shape=(500000,) dtype=int64>, 'char_30': <tf.Tensor 'Const_20:0' shape=(500000,) dtype=int64>, 'char_2_x': <tensorflow.python.framework.ops.SparseTensor object at 0x7f1175747d90>, 'char_2_y': <tensorflow.python.framework.ops.SparseTensor object at 0x7f1176dc9310>, 'char_15': <tf.Tensor 'Const_5:0' shape=(500000,) dtype=int64>, 'char_26': <tf.Tensor 'Const_16:0' shape=(500000,) dtype=int64>, 'char_27': <tf.Tensor 'Const_17:0' shape=(500000,) dtype=int64>, 'char_24': <tf.Tensor 'Const_14:0' shape=(500000,) dtype=int64>, 'char_25': <tf.Tensor 'Const_15:0' shape=(500000,) dtype=int64>, 'char_22': <tf.Tensor 'Const_12:0' shape=(500000,) dtype=int64>, 'char_23': <tf.Tensor 'Const_13:0' shape=(500000,) dtype=int64>, 'char_20': <tf.Tensor 'Const_10:0' shape=(500000,) dtype=int64>, 'char_21': <tf.Tensor 'Const_11:0' shape=(500000,) dtype=int64>, 'char_4_x': <tensorflow.python.framework.ops.SparseTensor object at 0x7f1175747690>, 'char_35': <tf.Tensor 'Const_25:0' shape=(500000,) dtype=int64>, 'char_28': <tf.Tensor 'Const_18:0' shape=(500000,) dtype=int64>, 'char_29': <tf.Tensor 'Const_19:0' shape=(500000,) dtype=int64>, 'char_37': <tf.Tensor 'Const_27:0' shape=(500000,) dtype=int64>, 'char_6_x': <tensorflow.python.framework.ops.SparseTensor object at 0x7f1176d280d0>, 'char_4_y': <tensorflow.python.framework.ops.SparseTensor object at 0x7f1175747e10>, 'char_34': <tf.Tensor 'Const_24:0' shape=(500000,) dtype=int64>, 'activity_category': <tensorflow.python.framework.ops.SparseTensor object at 0x7f11c8f64a50>, 'char_8_y': <tensorflow.python.framework.ops.SparseTensor object at 0x7f11774c8110>, 'char_7_x': <tensorflow.python.framework.ops.SparseTensor object at 0x7f1149319a90>}, required signatures: {'isWeekend_y': TensorSignature(dtype=tf.int64, shape=TensorShape([Dimension(500000)]), is_sparse=False), 'isWeekend_x': TensorSignature(dtype=tf.int64, shape=TensorShape([Dimension(500000)]), is_sparse=False), 'char_31': TensorSignature(dtype=tf.int64, shape=TensorShape([Dimension(500000)]), is_sparse=False), 'char_4_y': TensorSignature(dtype=tf.string, shape=None, is_sparse=True), 'group_1': TensorSignature(dtype=tf.string, shape=None, is_sparse=True), 'char_30': TensorSignature(dtype=tf.int64, shape=TensorShape([Dimension(500000)]), is_sparse=False), 'char_29': TensorSignature(dtype=tf.int64, shape=TensorShape([Dimension(500000)]), is_sparse=False), 'char_8_y': TensorSignature(dtype=tf.string, shape=None, is_sparse=True), 'char_38': TensorSignature(dtype=tf.int64, shape=TensorShape([Dimension(500000)]), is_sparse=False), 'char_8_x': TensorSignature(dtype=tf.string, shape=None, is_sparse=True), 'char_1_x': TensorSignature(dtype=tf.string, shape=None, is_sparse=True), 'char_19': TensorSignature(dtype=tf.int64, shape=TensorShape([Dimension(500000)]), is_sparse=False), 'char_18': TensorSignature(dtype=tf.int64, shape=TensorShape([Dimension(500000)]), is_sparse=False), 'char_17': TensorSignature(dtype=tf.int64, shape=TensorShape([Dimension(500000)]), is_sparse=False), 'char_1_y': TensorSignature(dtype=tf.string, shape=None, is_sparse=True), 'char_33': TensorSignature(dtype=tf.int64, shape=TensorShape([Dimension(500000)]), is_sparse=False), 'char_32': TensorSignature(dtype=tf.int64, shape=TensorShape([Dimension(500000)]), is_sparse=False), 'char_13': TensorSignature(dtype=tf.int64, shape=TensorShape([Dimension(500000)]), is_sparse=False), 'char_12': TensorSignature(dtype=tf.int64, shape=TensorShape([Dimension(500000)]), is_sparse=False), 'char_11': TensorSignature(dtype=tf.int64, shape=TensorShape([Dimension(500000)]), is_sparse=False), 'char_36': TensorSignature(dtype=tf.int64, shape=TensorShape([Dimension(500000)]), is_sparse=False), 'char_3_y': TensorSignature(dtype=tf.string, shape=None, is_sparse=True), 'char_3_x': TensorSignature(dtype=tf.string, shape=None, is_sparse=True), 'char_5_y': TensorSignature(dtype=tf.string, shape=None, is_sparse=True), 'char_5_x': TensorSignature(dtype=tf.string, shape=None, is_sparse=True), 'char_25': TensorSignature(dtype=tf.int64, shape=TensorShape([Dimension(500000)]), is_sparse=False), 'char_10_x': TensorSignature(dtype=tf.string, shape=None, is_sparse=True), 'char_10_y': TensorSignature(dtype=tf.int64, shape=TensorShape([Dimension(500000)]), is_sparse=False), 'char_35': TensorSignature(dtype=tf.int64, shape=TensorShape([Dimension(500000)]), is_sparse=False), 'char_16': TensorSignature(dtype=tf.int64, shape=TensorShape([Dimension(500000)]), is_sparse=False), 'char_2_x': TensorSignature(dtype=tf.string, shape=None, is_sparse=True), 'char_2_y': TensorSignature(dtype=tf.string, shape=None, is_sparse=True), 'char_15': TensorSignature(dtype=tf.int64, shape=TensorShape([Dimension(500000)]), is_sparse=False), 'char_26': TensorSignature(dtype=tf.int64, shape=TensorShape([Dimension(500000)]), is_sparse=False), 'char_27': TensorSignature(dtype=tf.int64, shape=TensorShape([Dimension(500000)]), is_sparse=False), 'char_24': TensorSignature(dtype=tf.int64, shape=TensorShape([Dimension(500000)]), is_sparse=False), 'char_14': TensorSignature(dtype=tf.int64, shape=TensorShape([Dimension(500000)]), is_sparse=False), 'char_22': TensorSignature(dtype=tf.int64, shape=TensorShape([Dimension(500000)]), is_sparse=False), 'char_23': TensorSignature(dtype=tf.int64, shape=TensorShape([Dimension(500000)]), is_sparse=False), 'char_20': TensorSignature(dtype=tf.int64, shape=TensorShape([Dimension(500000)]), is_sparse=False), 'char_21': TensorSignature(dtype=tf.int64, shape=TensorShape([Dimension(500000)]), is_sparse=False), 'char_4_x': TensorSignature(dtype=tf.string, shape=None, is_sparse=True), 'char_9_y': TensorSignature(dtype=tf.string, shape=None, is_sparse=True), 'char_28': TensorSignature(dtype=tf.int64, shape=TensorShape([Dimension(500000)]), is_sparse=False), 'char_9_x': TensorSignature(dtype=tf.string, shape=None, is_sparse=True), 'char_37': TensorSignature(dtype=tf.int64, shape=TensorShape([Dimension(500000)]), is_sparse=False), 'char_6_x': TensorSignature(dtype=tf.string, shape=None, is_sparse=True), 'char_6_y': TensorSignature(dtype=tf.string, shape=None, is_sparse=True), 'char_34': TensorSignature(dtype=tf.int64, shape=TensorShape([Dimension(500000)]), is_sparse=False), 'activity_category': TensorSignature(dtype=tf.string, shape=None, is_sparse=True), 'char_7_y': TensorSignature(dtype=tf.string, shape=None, is_sparse=True), 'char_7_x': TensorSignature(dtype=tf.string, shape=None, is_sparse=True)}.\n",
      "WARNING:tensorflow:Given targets: Tensor(\"Const_31:0\", shape=(500000,), dtype=int64), required signatures: TensorSignature(dtype=tf.int64, shape=TensorShape([Dimension(500000)]), is_sparse=False).\n"
     ]
    },
    {
     "data": {
      "text/plain": [
       "LinearClassifier()"
      ]
     },
     "execution_count": 21,
     "metadata": {},
     "output_type": "execute_result"
    }
   ],
   "source": [
    "m.fit(input_fn=lambda: input_fn(train[500000:1000000]), steps=200)"
   ]
  },
  {
   "cell_type": "code",
   "execution_count": 22,
   "metadata": {
    "collapsed": false,
    "scrolled": true
   },
   "outputs": [
    {
     "name": "stderr",
     "output_type": "stream",
     "text": [
      "WARNING:tensorflow:Given features: {'isWeekend_y': <tf.Tensor 'Const_30:0' shape=(500000,) dtype=int64>, 'isWeekend_x': <tf.Tensor 'Const_29:0' shape=(500000,) dtype=int64>, 'char_9_x': <tensorflow.python.framework.ops.SparseTensor object at 0x7f1149c04350>, 'char_8_x': <tensorflow.python.framework.ops.SparseTensor object at 0x7f1177c13050>, 'char_3_y': <tensorflow.python.framework.ops.SparseTensor object at 0x7f118c1ba1d0>, 'char_14': <tf.Tensor 'Const_4:0' shape=(500000,) dtype=int64>, 'char_9_y': <tensorflow.python.framework.ops.SparseTensor object at 0x7f118c45da50>, 'char_7_y': <tensorflow.python.framework.ops.SparseTensor object at 0x7f118c269310>, 'char_5_x': <tensorflow.python.framework.ops.SparseTensor object at 0x7f1177c13710>, 'char_38': <tf.Tensor 'Const_28:0' shape=(500000,) dtype=int64>, 'char_1_y': <tensorflow.python.framework.ops.SparseTensor object at 0x7f1177f17ed0>, 'char_1_x': <tensorflow.python.framework.ops.SparseTensor object at 0x7f1177c13910>, 'char_19': <tf.Tensor 'Const_9:0' shape=(500000,) dtype=int64>, 'char_18': <tf.Tensor 'Const_8:0' shape=(500000,) dtype=int64>, 'char_17': <tf.Tensor 'Const_7:0' shape=(500000,) dtype=int64>, 'char_16': <tf.Tensor 'Const_6:0' shape=(500000,) dtype=int64>, 'char_33': <tf.Tensor 'Const_23:0' shape=(500000,) dtype=int64>, 'char_32': <tf.Tensor 'Const_22:0' shape=(500000,) dtype=int64>, 'char_13': <tf.Tensor 'Const_3:0' shape=(500000,) dtype=int64>, 'char_12': <tf.Tensor 'Const_1:0' shape=(500000,) dtype=int64>, 'char_11': <tf.Tensor 'Const:0' shape=(500000,) dtype=int64>, 'char_36': <tf.Tensor 'Const_26:0' shape=(500000,) dtype=int64>, 'group_1': <tensorflow.python.framework.ops.SparseTensor object at 0x7f118c3b1310>, 'char_3_x': <tensorflow.python.framework.ops.SparseTensor object at 0x7f1177c13150>, 'char_6_y': <tensorflow.python.framework.ops.SparseTensor object at 0x7f118c1ec390>, 'char_5_y': <tensorflow.python.framework.ops.SparseTensor object at 0x7f118c269590>, 'char_31': <tf.Tensor 'Const_21:0' shape=(500000,) dtype=int64>, 'char_10_x': <tensorflow.python.framework.ops.SparseTensor object at 0x7f1177b8a310>, 'char_10_y': <tf.Tensor 'Const_2:0' shape=(500000,) dtype=int64>, 'char_30': <tf.Tensor 'Const_20:0' shape=(500000,) dtype=int64>, 'char_2_x': <tensorflow.python.framework.ops.SparseTensor object at 0x7f1177c13cd0>, 'char_2_y': <tensorflow.python.framework.ops.SparseTensor object at 0x7f118c3981d0>, 'char_15': <tf.Tensor 'Const_5:0' shape=(500000,) dtype=int64>, 'char_26': <tf.Tensor 'Const_16:0' shape=(500000,) dtype=int64>, 'char_27': <tf.Tensor 'Const_17:0' shape=(500000,) dtype=int64>, 'char_24': <tf.Tensor 'Const_14:0' shape=(500000,) dtype=int64>, 'char_25': <tf.Tensor 'Const_15:0' shape=(500000,) dtype=int64>, 'char_22': <tf.Tensor 'Const_12:0' shape=(500000,) dtype=int64>, 'char_23': <tf.Tensor 'Const_13:0' shape=(500000,) dtype=int64>, 'char_20': <tf.Tensor 'Const_10:0' shape=(500000,) dtype=int64>, 'char_21': <tf.Tensor 'Const_11:0' shape=(500000,) dtype=int64>, 'char_4_x': <tensorflow.python.framework.ops.SparseTensor object at 0x7f1177c13fd0>, 'char_35': <tf.Tensor 'Const_25:0' shape=(500000,) dtype=int64>, 'char_28': <tf.Tensor 'Const_18:0' shape=(500000,) dtype=int64>, 'char_29': <tf.Tensor 'Const_19:0' shape=(500000,) dtype=int64>, 'char_37': <tf.Tensor 'Const_27:0' shape=(500000,) dtype=int64>, 'char_6_x': <tensorflow.python.framework.ops.SparseTensor object at 0x7f1177b8a210>, 'char_4_y': <tensorflow.python.framework.ops.SparseTensor object at 0x7f1177f17050>, 'char_34': <tf.Tensor 'Const_24:0' shape=(500000,) dtype=int64>, 'activity_category': <tensorflow.python.framework.ops.SparseTensor object at 0x7f1149c04890>, 'char_8_y': <tensorflow.python.framework.ops.SparseTensor object at 0x7f118c168fd0>, 'char_7_x': <tensorflow.python.framework.ops.SparseTensor object at 0x7f1177c13d50>}, required signatures: {'isWeekend_y': TensorSignature(dtype=tf.int64, shape=TensorShape([Dimension(500000)]), is_sparse=False), 'isWeekend_x': TensorSignature(dtype=tf.int64, shape=TensorShape([Dimension(500000)]), is_sparse=False), 'char_31': TensorSignature(dtype=tf.int64, shape=TensorShape([Dimension(500000)]), is_sparse=False), 'char_4_y': TensorSignature(dtype=tf.string, shape=None, is_sparse=True), 'group_1': TensorSignature(dtype=tf.string, shape=None, is_sparse=True), 'char_30': TensorSignature(dtype=tf.int64, shape=TensorShape([Dimension(500000)]), is_sparse=False), 'char_29': TensorSignature(dtype=tf.int64, shape=TensorShape([Dimension(500000)]), is_sparse=False), 'char_8_y': TensorSignature(dtype=tf.string, shape=None, is_sparse=True), 'char_38': TensorSignature(dtype=tf.int64, shape=TensorShape([Dimension(500000)]), is_sparse=False), 'char_8_x': TensorSignature(dtype=tf.string, shape=None, is_sparse=True), 'char_1_x': TensorSignature(dtype=tf.string, shape=None, is_sparse=True), 'char_19': TensorSignature(dtype=tf.int64, shape=TensorShape([Dimension(500000)]), is_sparse=False), 'char_18': TensorSignature(dtype=tf.int64, shape=TensorShape([Dimension(500000)]), is_sparse=False), 'char_17': TensorSignature(dtype=tf.int64, shape=TensorShape([Dimension(500000)]), is_sparse=False), 'char_1_y': TensorSignature(dtype=tf.string, shape=None, is_sparse=True), 'char_33': TensorSignature(dtype=tf.int64, shape=TensorShape([Dimension(500000)]), is_sparse=False), 'char_32': TensorSignature(dtype=tf.int64, shape=TensorShape([Dimension(500000)]), is_sparse=False), 'char_13': TensorSignature(dtype=tf.int64, shape=TensorShape([Dimension(500000)]), is_sparse=False), 'char_12': TensorSignature(dtype=tf.int64, shape=TensorShape([Dimension(500000)]), is_sparse=False), 'char_11': TensorSignature(dtype=tf.int64, shape=TensorShape([Dimension(500000)]), is_sparse=False), 'char_36': TensorSignature(dtype=tf.int64, shape=TensorShape([Dimension(500000)]), is_sparse=False), 'char_3_y': TensorSignature(dtype=tf.string, shape=None, is_sparse=True), 'char_3_x': TensorSignature(dtype=tf.string, shape=None, is_sparse=True), 'char_5_y': TensorSignature(dtype=tf.string, shape=None, is_sparse=True), 'char_5_x': TensorSignature(dtype=tf.string, shape=None, is_sparse=True), 'char_25': TensorSignature(dtype=tf.int64, shape=TensorShape([Dimension(500000)]), is_sparse=False), 'char_10_x': TensorSignature(dtype=tf.string, shape=None, is_sparse=True), 'char_10_y': TensorSignature(dtype=tf.int64, shape=TensorShape([Dimension(500000)]), is_sparse=False), 'char_35': TensorSignature(dtype=tf.int64, shape=TensorShape([Dimension(500000)]), is_sparse=False), 'char_16': TensorSignature(dtype=tf.int64, shape=TensorShape([Dimension(500000)]), is_sparse=False), 'char_2_x': TensorSignature(dtype=tf.string, shape=None, is_sparse=True), 'char_2_y': TensorSignature(dtype=tf.string, shape=None, is_sparse=True), 'char_15': TensorSignature(dtype=tf.int64, shape=TensorShape([Dimension(500000)]), is_sparse=False), 'char_26': TensorSignature(dtype=tf.int64, shape=TensorShape([Dimension(500000)]), is_sparse=False), 'char_27': TensorSignature(dtype=tf.int64, shape=TensorShape([Dimension(500000)]), is_sparse=False), 'char_24': TensorSignature(dtype=tf.int64, shape=TensorShape([Dimension(500000)]), is_sparse=False), 'char_14': TensorSignature(dtype=tf.int64, shape=TensorShape([Dimension(500000)]), is_sparse=False), 'char_22': TensorSignature(dtype=tf.int64, shape=TensorShape([Dimension(500000)]), is_sparse=False), 'char_23': TensorSignature(dtype=tf.int64, shape=TensorShape([Dimension(500000)]), is_sparse=False), 'char_20': TensorSignature(dtype=tf.int64, shape=TensorShape([Dimension(500000)]), is_sparse=False), 'char_21': TensorSignature(dtype=tf.int64, shape=TensorShape([Dimension(500000)]), is_sparse=False), 'char_4_x': TensorSignature(dtype=tf.string, shape=None, is_sparse=True), 'char_9_y': TensorSignature(dtype=tf.string, shape=None, is_sparse=True), 'char_28': TensorSignature(dtype=tf.int64, shape=TensorShape([Dimension(500000)]), is_sparse=False), 'char_9_x': TensorSignature(dtype=tf.string, shape=None, is_sparse=True), 'char_37': TensorSignature(dtype=tf.int64, shape=TensorShape([Dimension(500000)]), is_sparse=False), 'char_6_x': TensorSignature(dtype=tf.string, shape=None, is_sparse=True), 'char_6_y': TensorSignature(dtype=tf.string, shape=None, is_sparse=True), 'char_34': TensorSignature(dtype=tf.int64, shape=TensorShape([Dimension(500000)]), is_sparse=False), 'activity_category': TensorSignature(dtype=tf.string, shape=None, is_sparse=True), 'char_7_y': TensorSignature(dtype=tf.string, shape=None, is_sparse=True), 'char_7_x': TensorSignature(dtype=tf.string, shape=None, is_sparse=True)}.\n",
      "WARNING:tensorflow:Given targets: Tensor(\"Const_31:0\", shape=(500000,), dtype=int64), required signatures: TensorSignature(dtype=tf.int64, shape=TensorShape([Dimension(500000)]), is_sparse=False).\n"
     ]
    },
    {
     "data": {
      "text/plain": [
       "LinearClassifier()"
      ]
     },
     "execution_count": 22,
     "metadata": {},
     "output_type": "execute_result"
    }
   ],
   "source": [
    "m.fit(input_fn=lambda: input_fn(train[1000000:1500000]), steps=200)"
   ]
  },
  {
   "cell_type": "code",
   "execution_count": 23,
   "metadata": {
    "collapsed": false,
    "scrolled": true
   },
   "outputs": [
    {
     "name": "stderr",
     "output_type": "stream",
     "text": [
      "WARNING:tensorflow:Given features: {'isWeekend_y': <tf.Tensor 'Const_30:0' shape=(697291,) dtype=int64>, 'isWeekend_x': <tf.Tensor 'Const_29:0' shape=(697291,) dtype=int64>, 'char_9_x': <tensorflow.python.framework.ops.SparseTensor object at 0x7f118c29aed0>, 'char_8_x': <tensorflow.python.framework.ops.SparseTensor object at 0x7f117583f950>, 'char_3_y': <tensorflow.python.framework.ops.SparseTensor object at 0x7f118c29ab90>, 'char_14': <tf.Tensor 'Const_4:0' shape=(697291,) dtype=int64>, 'char_9_y': <tensorflow.python.framework.ops.SparseTensor object at 0x7f114a1e35d0>, 'char_7_y': <tensorflow.python.framework.ops.SparseTensor object at 0x7f118c882b90>, 'char_5_x': <tensorflow.python.framework.ops.SparseTensor object at 0x7f117583f750>, 'char_38': <tf.Tensor 'Const_28:0' shape=(697291,) dtype=int64>, 'char_1_y': <tensorflow.python.framework.ops.SparseTensor object at 0x7f118c0b3190>, 'char_1_x': <tensorflow.python.framework.ops.SparseTensor object at 0x7f117583fcd0>, 'char_19': <tf.Tensor 'Const_9:0' shape=(697291,) dtype=int64>, 'char_18': <tf.Tensor 'Const_8:0' shape=(697291,) dtype=int64>, 'char_17': <tf.Tensor 'Const_7:0' shape=(697291,) dtype=int64>, 'char_16': <tf.Tensor 'Const_6:0' shape=(697291,) dtype=int64>, 'char_33': <tf.Tensor 'Const_23:0' shape=(697291,) dtype=int64>, 'char_32': <tf.Tensor 'Const_22:0' shape=(697291,) dtype=int64>, 'char_13': <tf.Tensor 'Const_3:0' shape=(697291,) dtype=int64>, 'char_12': <tf.Tensor 'Const_1:0' shape=(697291,) dtype=int64>, 'char_11': <tf.Tensor 'Const:0' shape=(697291,) dtype=int64>, 'char_36': <tf.Tensor 'Const_26:0' shape=(697291,) dtype=int64>, 'group_1': <tensorflow.python.framework.ops.SparseTensor object at 0x7f117583f350>, 'char_3_x': <tensorflow.python.framework.ops.SparseTensor object at 0x7f117583f710>, 'char_6_y': <tensorflow.python.framework.ops.SparseTensor object at 0x7f1143631790>, 'char_5_y': <tensorflow.python.framework.ops.SparseTensor object at 0x7f1177080190>, 'char_31': <tf.Tensor 'Const_21:0' shape=(697291,) dtype=int64>, 'char_10_x': <tensorflow.python.framework.ops.SparseTensor object at 0x7f118c2b4250>, 'char_10_y': <tf.Tensor 'Const_2:0' shape=(697291,) dtype=int64>, 'char_30': <tf.Tensor 'Const_20:0' shape=(697291,) dtype=int64>, 'char_2_x': <tensorflow.python.framework.ops.SparseTensor object at 0x7f117583f810>, 'char_2_y': <tensorflow.python.framework.ops.SparseTensor object at 0x7f1176db6410>, 'char_15': <tf.Tensor 'Const_5:0' shape=(697291,) dtype=int64>, 'char_26': <tf.Tensor 'Const_16:0' shape=(697291,) dtype=int64>, 'char_27': <tf.Tensor 'Const_17:0' shape=(697291,) dtype=int64>, 'char_24': <tf.Tensor 'Const_14:0' shape=(697291,) dtype=int64>, 'char_25': <tf.Tensor 'Const_15:0' shape=(697291,) dtype=int64>, 'char_22': <tf.Tensor 'Const_12:0' shape=(697291,) dtype=int64>, 'char_23': <tf.Tensor 'Const_13:0' shape=(697291,) dtype=int64>, 'char_20': <tf.Tensor 'Const_10:0' shape=(697291,) dtype=int64>, 'char_21': <tf.Tensor 'Const_11:0' shape=(697291,) dtype=int64>, 'char_4_x': <tensorflow.python.framework.ops.SparseTensor object at 0x7f117583f510>, 'char_35': <tf.Tensor 'Const_25:0' shape=(697291,) dtype=int64>, 'char_28': <tf.Tensor 'Const_18:0' shape=(697291,) dtype=int64>, 'char_29': <tf.Tensor 'Const_19:0' shape=(697291,) dtype=int64>, 'char_37': <tf.Tensor 'Const_27:0' shape=(697291,) dtype=int64>, 'char_6_x': <tensorflow.python.framework.ops.SparseTensor object at 0x7f1176db6b90>, 'char_4_y': <tensorflow.python.framework.ops.SparseTensor object at 0x7f114a1e3b10>, 'char_34': <tf.Tensor 'Const_24:0' shape=(697291,) dtype=int64>, 'activity_category': <tensorflow.python.framework.ops.SparseTensor object at 0x7f117583fbd0>, 'char_8_y': <tensorflow.python.framework.ops.SparseTensor object at 0x7f1177080410>, 'char_7_x': <tensorflow.python.framework.ops.SparseTensor object at 0x7f11498b46d0>}, required signatures: {'isWeekend_y': TensorSignature(dtype=tf.int64, shape=TensorShape([Dimension(500000)]), is_sparse=False), 'isWeekend_x': TensorSignature(dtype=tf.int64, shape=TensorShape([Dimension(500000)]), is_sparse=False), 'char_31': TensorSignature(dtype=tf.int64, shape=TensorShape([Dimension(500000)]), is_sparse=False), 'char_4_y': TensorSignature(dtype=tf.string, shape=None, is_sparse=True), 'group_1': TensorSignature(dtype=tf.string, shape=None, is_sparse=True), 'char_30': TensorSignature(dtype=tf.int64, shape=TensorShape([Dimension(500000)]), is_sparse=False), 'char_29': TensorSignature(dtype=tf.int64, shape=TensorShape([Dimension(500000)]), is_sparse=False), 'char_8_y': TensorSignature(dtype=tf.string, shape=None, is_sparse=True), 'char_38': TensorSignature(dtype=tf.int64, shape=TensorShape([Dimension(500000)]), is_sparse=False), 'char_8_x': TensorSignature(dtype=tf.string, shape=None, is_sparse=True), 'char_1_x': TensorSignature(dtype=tf.string, shape=None, is_sparse=True), 'char_19': TensorSignature(dtype=tf.int64, shape=TensorShape([Dimension(500000)]), is_sparse=False), 'char_18': TensorSignature(dtype=tf.int64, shape=TensorShape([Dimension(500000)]), is_sparse=False), 'char_17': TensorSignature(dtype=tf.int64, shape=TensorShape([Dimension(500000)]), is_sparse=False), 'char_1_y': TensorSignature(dtype=tf.string, shape=None, is_sparse=True), 'char_33': TensorSignature(dtype=tf.int64, shape=TensorShape([Dimension(500000)]), is_sparse=False), 'char_32': TensorSignature(dtype=tf.int64, shape=TensorShape([Dimension(500000)]), is_sparse=False), 'char_13': TensorSignature(dtype=tf.int64, shape=TensorShape([Dimension(500000)]), is_sparse=False), 'char_12': TensorSignature(dtype=tf.int64, shape=TensorShape([Dimension(500000)]), is_sparse=False), 'char_11': TensorSignature(dtype=tf.int64, shape=TensorShape([Dimension(500000)]), is_sparse=False), 'char_36': TensorSignature(dtype=tf.int64, shape=TensorShape([Dimension(500000)]), is_sparse=False), 'char_3_y': TensorSignature(dtype=tf.string, shape=None, is_sparse=True), 'char_3_x': TensorSignature(dtype=tf.string, shape=None, is_sparse=True), 'char_5_y': TensorSignature(dtype=tf.string, shape=None, is_sparse=True), 'char_5_x': TensorSignature(dtype=tf.string, shape=None, is_sparse=True), 'char_25': TensorSignature(dtype=tf.int64, shape=TensorShape([Dimension(500000)]), is_sparse=False), 'char_10_x': TensorSignature(dtype=tf.string, shape=None, is_sparse=True), 'char_10_y': TensorSignature(dtype=tf.int64, shape=TensorShape([Dimension(500000)]), is_sparse=False), 'char_35': TensorSignature(dtype=tf.int64, shape=TensorShape([Dimension(500000)]), is_sparse=False), 'char_16': TensorSignature(dtype=tf.int64, shape=TensorShape([Dimension(500000)]), is_sparse=False), 'char_2_x': TensorSignature(dtype=tf.string, shape=None, is_sparse=True), 'char_2_y': TensorSignature(dtype=tf.string, shape=None, is_sparse=True), 'char_15': TensorSignature(dtype=tf.int64, shape=TensorShape([Dimension(500000)]), is_sparse=False), 'char_26': TensorSignature(dtype=tf.int64, shape=TensorShape([Dimension(500000)]), is_sparse=False), 'char_27': TensorSignature(dtype=tf.int64, shape=TensorShape([Dimension(500000)]), is_sparse=False), 'char_24': TensorSignature(dtype=tf.int64, shape=TensorShape([Dimension(500000)]), is_sparse=False), 'char_14': TensorSignature(dtype=tf.int64, shape=TensorShape([Dimension(500000)]), is_sparse=False), 'char_22': TensorSignature(dtype=tf.int64, shape=TensorShape([Dimension(500000)]), is_sparse=False), 'char_23': TensorSignature(dtype=tf.int64, shape=TensorShape([Dimension(500000)]), is_sparse=False), 'char_20': TensorSignature(dtype=tf.int64, shape=TensorShape([Dimension(500000)]), is_sparse=False), 'char_21': TensorSignature(dtype=tf.int64, shape=TensorShape([Dimension(500000)]), is_sparse=False), 'char_4_x': TensorSignature(dtype=tf.string, shape=None, is_sparse=True), 'char_9_y': TensorSignature(dtype=tf.string, shape=None, is_sparse=True), 'char_28': TensorSignature(dtype=tf.int64, shape=TensorShape([Dimension(500000)]), is_sparse=False), 'char_9_x': TensorSignature(dtype=tf.string, shape=None, is_sparse=True), 'char_37': TensorSignature(dtype=tf.int64, shape=TensorShape([Dimension(500000)]), is_sparse=False), 'char_6_x': TensorSignature(dtype=tf.string, shape=None, is_sparse=True), 'char_6_y': TensorSignature(dtype=tf.string, shape=None, is_sparse=True), 'char_34': TensorSignature(dtype=tf.int64, shape=TensorShape([Dimension(500000)]), is_sparse=False), 'activity_category': TensorSignature(dtype=tf.string, shape=None, is_sparse=True), 'char_7_y': TensorSignature(dtype=tf.string, shape=None, is_sparse=True), 'char_7_x': TensorSignature(dtype=tf.string, shape=None, is_sparse=True)}.\n",
      "WARNING:tensorflow:Given targets: Tensor(\"Const_31:0\", shape=(697291,), dtype=int64), required signatures: TensorSignature(dtype=tf.int64, shape=TensorShape([Dimension(500000)]), is_sparse=False).\n"
     ]
    },
    {
     "data": {
      "text/plain": [
       "LinearClassifier()"
      ]
     },
     "execution_count": 23,
     "metadata": {},
     "output_type": "execute_result"
    }
   ],
   "source": [
    "m.fit(input_fn=lambda: input_fn(train[1500000:]), steps=200)"
   ]
  },
  {
   "cell_type": "code",
   "execution_count": 1,
   "metadata": {
    "collapsed": false,
    "scrolled": true
   },
   "outputs": [
    {
     "ename": "NameError",
     "evalue": "name 'm' is not defined",
     "output_type": "error",
     "traceback": [
      "\u001b[1;31m---------------------------------------------------------------------------\u001b[0m",
      "\u001b[1;31mNameError\u001b[0m                                 Traceback (most recent call last)",
      "\u001b[1;32m<ipython-input-1-90ae9235b2e1>\u001b[0m in \u001b[0;36m<module>\u001b[1;34m()\u001b[0m\n\u001b[1;32m----> 1\u001b[1;33m \u001b[0mresults\u001b[0m \u001b[1;33m=\u001b[0m \u001b[0mm\u001b[0m\u001b[1;33m.\u001b[0m\u001b[0mevaluate\u001b[0m\u001b[1;33m(\u001b[0m\u001b[0minput_fn\u001b[0m\u001b[1;33m=\u001b[0m\u001b[1;32mlambda\u001b[0m\u001b[1;33m:\u001b[0m \u001b[0minput_fn\u001b[0m\u001b[1;33m(\u001b[0m\u001b[0mtrain\u001b[0m\u001b[1;33m[\u001b[0m\u001b[1;33m:\u001b[0m\u001b[1;36m50000\u001b[0m\u001b[1;33m]\u001b[0m\u001b[1;33m)\u001b[0m\u001b[1;33m,\u001b[0m \u001b[0msteps\u001b[0m\u001b[1;33m=\u001b[0m\u001b[1;36m1\u001b[0m\u001b[1;33m)\u001b[0m\u001b[1;33m\u001b[0m\u001b[0m\n\u001b[0m\u001b[0;32m      2\u001b[0m \u001b[1;32mfor\u001b[0m \u001b[0mkey\u001b[0m \u001b[1;32min\u001b[0m \u001b[0msorted\u001b[0m\u001b[1;33m(\u001b[0m\u001b[0mresults\u001b[0m\u001b[1;33m)\u001b[0m\u001b[1;33m:\u001b[0m\u001b[1;33m\u001b[0m\u001b[0m\n\u001b[0;32m      3\u001b[0m     \u001b[1;32mprint\u001b[0m \u001b[1;34m\"%s: %s\"\u001b[0m \u001b[1;33m%\u001b[0m\u001b[1;33m(\u001b[0m\u001b[0mkey\u001b[0m\u001b[1;33m,\u001b[0m \u001b[0mresults\u001b[0m\u001b[1;33m[\u001b[0m\u001b[0mkey\u001b[0m\u001b[1;33m]\u001b[0m\u001b[1;33m)\u001b[0m\u001b[1;33m\u001b[0m\u001b[0m\n",
      "\u001b[1;31mNameError\u001b[0m: name 'm' is not defined"
     ]
    }
   ],
   "source": [
    "results = m.evaluate(input_fn=lambda: input_fn(train[:50000]), steps=1)\n",
    "for key in sorted(results):\n",
    "    print \"%s: %s\" %(key, results[key])"
   ]
  },
  {
   "cell_type": "code",
   "execution_count": null,
   "metadata": {
    "collapsed": true
   },
   "outputs": [],
   "source": []
  }
 ],
 "metadata": {
  "kernelspec": {
   "display_name": "Python [tensor]",
   "language": "python",
   "name": "Python [tensor]"
  },
  "language_info": {
   "codemirror_mode": {
    "name": "ipython",
    "version": 2
   },
   "file_extension": ".py",
   "mimetype": "text/x-python",
   "name": "python",
   "nbconvert_exporter": "python",
   "pygments_lexer": "ipython2",
   "version": "2.7.12"
  }
 },
 "nbformat": 4,
 "nbformat_minor": 0
}
