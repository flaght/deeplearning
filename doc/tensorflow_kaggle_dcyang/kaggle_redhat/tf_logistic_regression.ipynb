{
 "cells": [
  {
   "cell_type": "code",
   "execution_count": 1,
   "metadata": {
    "collapsed": true
   },
   "outputs": [],
   "source": [
    "import tensorflow as tf\n",
    "import numpy as np\n",
    "import pandas as pd"
   ]
  },
  {
   "cell_type": "code",
   "execution_count": 2,
   "metadata": {
    "collapsed": true
   },
   "outputs": [],
   "source": [
    "def init_weights(shape):\n",
    "    return tf.Variable(tf.random_normal(shape, stddev=0.01))"
   ]
  },
  {
   "cell_type": "code",
   "execution_count": 3,
   "metadata": {
    "collapsed": true
   },
   "outputs": [],
   "source": [
    "def model(X, w):\n",
    "    return tf.matmul(X, w)"
   ]
  },
  {
   "cell_type": "code",
   "execution_count": 30,
   "metadata": {
    "collapsed": true
   },
   "outputs": [],
   "source": [
    "X = tf.placeholder(\"float\", [None, 52])\n",
    "Y = tf.placeholder(\"float\", [None, 2])\n",
    "\n",
    "w = init_weights([52, 2])"
   ]
  },
  {
   "cell_type": "code",
   "execution_count": 5,
   "metadata": {
    "collapsed": false
   },
   "outputs": [],
   "source": [
    "py_x = model(X, w)"
   ]
  },
  {
   "cell_type": "code",
   "execution_count": 6,
   "metadata": {
    "collapsed": false
   },
   "outputs": [],
   "source": [
    "cost = tf.reduce_mean(tf.nn.softmax_cross_entropy_with_logits(py_x, Y))\n",
    "train_op = tf.train.GradientDescentOptimizer(0.05).minimize(cost)\n",
    "predict_op = tf.argmax(py_x, 1)"
   ]
  },
  {
   "cell_type": "code",
   "execution_count": 7,
   "metadata": {
    "collapsed": true
   },
   "outputs": [],
   "source": [
    "def LeaveOneOut(data1, data2, columnName, useLOO=False):\n",
    "    grpOutcomes = data1.groupby(columnName).mean().reset_index()\n",
    "    outcomes = data2['outcome'].values\n",
    "    x = pd.merge(data2[[columnName, 'outcome']], grpOutcomes,\n",
    "                 suffixes=('x_', ''),\n",
    "                 how='left',\n",
    "                 on=columnName,\n",
    "                 left_index=True)['outcome']\n",
    "    if(useLOO):\n",
    "        x = ((x*x.shape[0])-outcomes)/(x.shape[0]-1)\n",
    "    return x.fillna(x.mean())"
   ]
  },
  {
   "cell_type": "code",
   "execution_count": 8,
   "metadata": {
    "collapsed": false
   },
   "outputs": [],
   "source": [
    "directory = 'data/'\n",
    "train = pd.read_csv(directory+'act_train.csv',parse_dates=['date'])\n",
    "people = pd.read_csv(directory+'people.csv',parse_dates=['date'])"
   ]
  },
  {
   "cell_type": "code",
   "execution_count": null,
   "metadata": {
    "collapsed": true
   },
   "outputs": [],
   "source": []
  },
  {
   "cell_type": "code",
   "execution_count": 9,
   "metadata": {
    "collapsed": true
   },
   "outputs": [],
   "source": [
    "train = pd.merge(train, people,how='left',on='people_id',left_index=True)\n",
    "train.fillna('-999', inplace=True)"
   ]
  },
  {
   "cell_type": "code",
   "execution_count": 10,
   "metadata": {
    "collapsed": false,
    "scrolled": true
   },
   "outputs": [
    {
     "name": "stdout",
     "output_type": "stream",
     "text": [
      "date_x\n",
      "activity_category\n",
      "char_1_x\n",
      "char_2_x\n",
      "char_3_x\n",
      "char_4_x\n",
      "char_5_x\n",
      "char_6_x\n",
      "char_7_x\n",
      "char_8_x\n",
      "char_9_x\n",
      "char_10_x\n",
      "char_1_y\n",
      "group_1\n",
      "char_2_y\n",
      "date_y\n",
      "char_3_y\n",
      "char_4_y\n",
      "char_5_y\n",
      "char_6_y\n",
      "char_7_y\n",
      "char_8_y\n",
      "char_9_y\n",
      "char_10_y\n",
      "char_11\n",
      "char_12\n",
      "char_13\n",
      "char_14\n",
      "char_15\n",
      "char_16\n",
      "char_17\n",
      "char_18\n",
      "char_19\n",
      "char_20\n",
      "char_21\n",
      "char_22\n",
      "char_23\n",
      "char_24\n",
      "char_25\n",
      "char_26\n",
      "char_27\n",
      "char_28\n",
      "char_29\n",
      "char_30\n",
      "char_31\n",
      "char_32\n",
      "char_33\n",
      "char_34\n",
      "char_35\n",
      "char_36\n",
      "char_37\n",
      "char_38\n"
     ]
    }
   ],
   "source": [
    "features = train.columns.tolist()\n",
    "features.remove('activity_id')\n",
    "features.remove('people_id')\n",
    "lootrain = pd.DataFrame()\n",
    "for col in features:\n",
    "    if(col != 'outcome'):\n",
    "        print(col)\n",
    "        lootrain[col] = LeaveOneOut(train, train, col, True).values"
   ]
  },
  {
   "cell_type": "code",
   "execution_count": 11,
   "metadata": {
    "collapsed": false
   },
   "outputs": [
    {
     "data": {
      "text/html": [
       "<div>\n",
       "<table border=\"1\" class=\"dataframe\">\n",
       "  <thead>\n",
       "    <tr style=\"text-align: right;\">\n",
       "      <th></th>\n",
       "      <th>date_x</th>\n",
       "      <th>activity_category</th>\n",
       "      <th>char_1_x</th>\n",
       "      <th>char_2_x</th>\n",
       "      <th>char_3_x</th>\n",
       "      <th>char_4_x</th>\n",
       "      <th>char_5_x</th>\n",
       "      <th>char_6_x</th>\n",
       "      <th>char_7_x</th>\n",
       "      <th>char_8_x</th>\n",
       "      <th>...</th>\n",
       "      <th>char_29</th>\n",
       "      <th>char_30</th>\n",
       "      <th>char_31</th>\n",
       "      <th>char_32</th>\n",
       "      <th>char_33</th>\n",
       "      <th>char_34</th>\n",
       "      <th>char_35</th>\n",
       "      <th>char_36</th>\n",
       "      <th>char_37</th>\n",
       "      <th>char_38</th>\n",
       "    </tr>\n",
       "  </thead>\n",
       "  <tbody>\n",
       "    <tr>\n",
       "      <th>0</th>\n",
       "      <td>0.443469</td>\n",
       "      <td>0.489206</td>\n",
       "      <td>0.446476</td>\n",
       "      <td>0.446476</td>\n",
       "      <td>0.446476</td>\n",
       "      <td>0.446476</td>\n",
       "      <td>0.446476</td>\n",
       "      <td>0.446476</td>\n",
       "      <td>0.446476</td>\n",
       "      <td>0.446476</td>\n",
       "      <td>...</td>\n",
       "      <td>0.402735</td>\n",
       "      <td>0.650801</td>\n",
       "      <td>0.652109</td>\n",
       "      <td>0.360108</td>\n",
       "      <td>0.388654</td>\n",
       "      <td>0.658206</td>\n",
       "      <td>0.65678</td>\n",
       "      <td>0.668789</td>\n",
       "      <td>0.356352</td>\n",
       "      <td>0.0</td>\n",
       "    </tr>\n",
       "    <tr>\n",
       "      <th>1</th>\n",
       "      <td>0.281099</td>\n",
       "      <td>0.510324</td>\n",
       "      <td>0.446476</td>\n",
       "      <td>0.446476</td>\n",
       "      <td>0.446476</td>\n",
       "      <td>0.446476</td>\n",
       "      <td>0.446476</td>\n",
       "      <td>0.446476</td>\n",
       "      <td>0.446476</td>\n",
       "      <td>0.446476</td>\n",
       "      <td>...</td>\n",
       "      <td>0.402735</td>\n",
       "      <td>0.650801</td>\n",
       "      <td>0.652109</td>\n",
       "      <td>0.360108</td>\n",
       "      <td>0.388654</td>\n",
       "      <td>0.658206</td>\n",
       "      <td>0.65678</td>\n",
       "      <td>0.668789</td>\n",
       "      <td>0.356352</td>\n",
       "      <td>0.0</td>\n",
       "    </tr>\n",
       "    <tr>\n",
       "      <th>2</th>\n",
       "      <td>0.281099</td>\n",
       "      <td>0.510324</td>\n",
       "      <td>0.446476</td>\n",
       "      <td>0.446476</td>\n",
       "      <td>0.446476</td>\n",
       "      <td>0.446476</td>\n",
       "      <td>0.446476</td>\n",
       "      <td>0.446476</td>\n",
       "      <td>0.446476</td>\n",
       "      <td>0.446476</td>\n",
       "      <td>...</td>\n",
       "      <td>0.402735</td>\n",
       "      <td>0.650801</td>\n",
       "      <td>0.652109</td>\n",
       "      <td>0.360108</td>\n",
       "      <td>0.388654</td>\n",
       "      <td>0.658206</td>\n",
       "      <td>0.65678</td>\n",
       "      <td>0.668789</td>\n",
       "      <td>0.356352</td>\n",
       "      <td>0.0</td>\n",
       "    </tr>\n",
       "    <tr>\n",
       "      <th>3</th>\n",
       "      <td>0.442657</td>\n",
       "      <td>0.510324</td>\n",
       "      <td>0.446476</td>\n",
       "      <td>0.446476</td>\n",
       "      <td>0.446476</td>\n",
       "      <td>0.446476</td>\n",
       "      <td>0.446476</td>\n",
       "      <td>0.446476</td>\n",
       "      <td>0.446476</td>\n",
       "      <td>0.446476</td>\n",
       "      <td>...</td>\n",
       "      <td>0.402735</td>\n",
       "      <td>0.650801</td>\n",
       "      <td>0.652109</td>\n",
       "      <td>0.360108</td>\n",
       "      <td>0.388654</td>\n",
       "      <td>0.658206</td>\n",
       "      <td>0.65678</td>\n",
       "      <td>0.668789</td>\n",
       "      <td>0.356352</td>\n",
       "      <td>0.0</td>\n",
       "    </tr>\n",
       "    <tr>\n",
       "      <th>4</th>\n",
       "      <td>0.443469</td>\n",
       "      <td>0.510324</td>\n",
       "      <td>0.446476</td>\n",
       "      <td>0.446476</td>\n",
       "      <td>0.446476</td>\n",
       "      <td>0.446476</td>\n",
       "      <td>0.446476</td>\n",
       "      <td>0.446476</td>\n",
       "      <td>0.446476</td>\n",
       "      <td>0.446476</td>\n",
       "      <td>...</td>\n",
       "      <td>0.402735</td>\n",
       "      <td>0.650801</td>\n",
       "      <td>0.652109</td>\n",
       "      <td>0.360108</td>\n",
       "      <td>0.388654</td>\n",
       "      <td>0.658206</td>\n",
       "      <td>0.65678</td>\n",
       "      <td>0.668789</td>\n",
       "      <td>0.356352</td>\n",
       "      <td>0.0</td>\n",
       "    </tr>\n",
       "  </tbody>\n",
       "</table>\n",
       "<p>5 rows × 52 columns</p>\n",
       "</div>"
      ],
      "text/plain": [
       "     date_x  activity_category  char_1_x  char_2_x  char_3_x  char_4_x  \\\n",
       "0  0.443469           0.489206  0.446476  0.446476  0.446476  0.446476   \n",
       "1  0.281099           0.510324  0.446476  0.446476  0.446476  0.446476   \n",
       "2  0.281099           0.510324  0.446476  0.446476  0.446476  0.446476   \n",
       "3  0.442657           0.510324  0.446476  0.446476  0.446476  0.446476   \n",
       "4  0.443469           0.510324  0.446476  0.446476  0.446476  0.446476   \n",
       "\n",
       "   char_5_x  char_6_x  char_7_x  char_8_x   ...      char_29   char_30  \\\n",
       "0  0.446476  0.446476  0.446476  0.446476   ...     0.402735  0.650801   \n",
       "1  0.446476  0.446476  0.446476  0.446476   ...     0.402735  0.650801   \n",
       "2  0.446476  0.446476  0.446476  0.446476   ...     0.402735  0.650801   \n",
       "3  0.446476  0.446476  0.446476  0.446476   ...     0.402735  0.650801   \n",
       "4  0.446476  0.446476  0.446476  0.446476   ...     0.402735  0.650801   \n",
       "\n",
       "    char_31   char_32   char_33   char_34  char_35   char_36   char_37  \\\n",
       "0  0.652109  0.360108  0.388654  0.658206  0.65678  0.668789  0.356352   \n",
       "1  0.652109  0.360108  0.388654  0.658206  0.65678  0.668789  0.356352   \n",
       "2  0.652109  0.360108  0.388654  0.658206  0.65678  0.668789  0.356352   \n",
       "3  0.652109  0.360108  0.388654  0.658206  0.65678  0.668789  0.356352   \n",
       "4  0.652109  0.360108  0.388654  0.658206  0.65678  0.668789  0.356352   \n",
       "\n",
       "   char_38  \n",
       "0      0.0  \n",
       "1      0.0  \n",
       "2      0.0  \n",
       "3      0.0  \n",
       "4      0.0  \n",
       "\n",
       "[5 rows x 52 columns]"
      ]
     },
     "execution_count": 11,
     "metadata": {},
     "output_type": "execute_result"
    }
   ],
   "source": [
    "lootrain.head()"
   ]
  },
  {
   "cell_type": "code",
   "execution_count": 18,
   "metadata": {
    "collapsed": false
   },
   "outputs": [],
   "source": [
    "y_train = map(lambda x: [1,0] if x==0 else [0,1], train.outcome.as_matrix())"
   ]
  },
  {
   "cell_type": "code",
   "execution_count": 23,
   "metadata": {
    "collapsed": false
   },
   "outputs": [],
   "source": [
    "y_train = np.matrix(y_train)"
   ]
  },
  {
   "cell_type": "code",
   "execution_count": 19,
   "metadata": {
    "collapsed": true
   },
   "outputs": [],
   "source": [
    "label = train['outcome'].values"
   ]
  },
  {
   "cell_type": "code",
   "execution_count": 28,
   "metadata": {
    "collapsed": true
   },
   "outputs": [],
   "source": [
    "from sklearn.metrics import roc_auc_score"
   ]
  },
  {
   "cell_type": "code",
   "execution_count": 29,
   "metadata": {
    "collapsed": false,
    "scrolled": true
   },
   "outputs": [
    {
     "name": "stdout",
     "output_type": "stream",
     "text": [
      "(0, 0.97033711056023075)\n",
      "(0, 0.97106473101634716)\n",
      "(1, 0.97034757799490368)\n",
      "(1, 0.97094922354151791)\n",
      "(2, 0.97045316255334413)\n",
      "(2, 0.9709970497199728)\n",
      "(3, 0.97049912824473406)\n",
      "(3, 0.97102216036623978)\n",
      "(4, 0.97055647158250768)\n",
      "(4, 0.97106938423890443)\n",
      "(5, 0.9705919698392248)\n",
      "(5, 0.97110171781331356)\n",
      "(6, 0.97065568465897323)\n",
      "(6, 0.97117161625769399)\n",
      "(7, 0.97068208079858331)\n",
      "(7, 0.97120093139376151)\n",
      "(8, 0.97069527886838836)\n",
      "(8, 0.97121713883603211)\n",
      "(9, 0.97069436865667769)\n",
      "(9, 0.97121973009077356)\n",
      "(10, 0.97068299101029409)\n",
      "(10, 0.97121352890654189)\n",
      "(11, 0.97069300333911168)\n",
      "(11, 0.97122811160817291)\n",
      "(12, 0.97072167500799844)\n",
      "(12, 0.97126474248809536)\n",
      "(13, 0.97072030969043244)\n",
      "(13, 0.97127064420671572)\n",
      "(14, 0.9707248607489859)\n",
      "(14, 0.97127793962303766)\n",
      "(15, 0.9707134831026023)\n",
      "(15, 0.9712663655414514)\n",
      "(16, 0.97070574630306139)\n",
      "(16, 0.97126240498204774)\n",
      "(17, 0.97073032201925002)\n",
      "(17, 0.97129080645559951)\n",
      "(18, 0.97072713627826268)\n",
      "(18, 0.97128907839001055)\n",
      "(19, 0.97073168733681614)\n",
      "(19, 0.97129627048138356)\n",
      "(20, 0.97074488540662118)\n",
      "(20, 0.9713115479991119)\n",
      "(21, 0.97075171199445132)\n",
      "(21, 0.97132057961203633)\n",
      "(22, 0.97073805881879094)\n",
      "(22, 0.97130675270910216)\n",
      "(23, 0.97075626305300478)\n",
      "(23, 0.97132673845391782)\n",
      "(24, 0.9707603590057029)\n",
      "(24, 0.97133124816212002)\n",
      "(25, 0.97076764069938848)\n",
      "(25, 0.97134172225882542)\n",
      "(26, 0.97076718559353314)\n",
      "(26, 0.97134461942290773)\n",
      "(27, 0.97077401218136328)\n",
      "(27, 0.97135282443623883)\n",
      "(28, 0.97077492239307406)\n",
      "(28, 0.97135498612915727)\n",
      "(29, 0.97077128154623127)\n",
      "(29, 0.97135150560493966)\n",
      "(30, 0.97077719792235073)\n",
      "(30, 0.97135837552494542)\n",
      "(31, 0.97077446728721872)\n",
      "(31, 0.97135736666849393)\n",
      "(32, 0.97076764069938848)\n",
      "(32, 0.97134998825475583)\n",
      "(33, 0.97077310196965261)\n",
      "(33, 0.97135644894047168)\n",
      "(34, 0.97076582027596714)\n",
      "(34, 0.97134948789203657)\n",
      "(35, 0.97076673048767781)\n",
      "(35, 0.97135020303566721)\n",
      "(36, 0.9707589936881369)\n",
      "(36, 0.97134169617850186)\n",
      "(37, 0.97075580794714944)\n",
      "(37, 0.9713389348634216)\n",
      "(38, 0.9707589936881369)\n",
      "(38, 0.97134221280324762)\n",
      "(39, 0.97075717326471556)\n",
      "(39, 0.97134005924134226)\n",
      "(40, 0.97076126921741357)\n",
      "(40, 0.97134363902500231)\n",
      "(41, 0.97075535284129411)\n",
      "(41, 0.97133738905469136)\n",
      "(42, 0.97074352008905507)\n",
      "(42, 0.97132447581427306)\n",
      "(43, 0.97075080178274065)\n",
      "(43, 0.97133236678725021)\n",
      "(44, 0.97075171199445132)\n",
      "(44, 0.97133380520552481)\n",
      "(45, 0.97075535284129411)\n",
      "(45, 0.97133759570458966)\n",
      "(46, 0.97076172432326902)\n",
      "(46, 0.97134415158424126)\n",
      "(47, 0.97076673048767781)\n",
      "(47, 0.97134989306081976)\n",
      "(48, 0.97076491006425636)\n",
      "(48, 0.97134711954921971)\n",
      "(49, 0.97076718559353314)\n",
      "(49, 0.97135009564521146)\n"
     ]
    }
   ],
   "source": [
    "with tf.Session() as sess:\n",
    "    tf.initialize_all_variables().run()\n",
    "    \n",
    "    \n",
    "    for i in range(50):\n",
    "\n",
    "        for start, end in zip(range(0, len(train), 500), range(500, len(train)+1,500)):\n",
    "            sess.run(train_op, feed_dict={X: lootrain[start:end], Y: y_train[start:end]})\n",
    "        predict = sess.run(predict_op, feed_dict={X: lootrain, Y: y_train})\n",
    "        print(i, np.mean(label == predict))\n",
    "        print(i, roc_auc_score(label, predict))\n",
    "        \n",
    "        \n",
    "        #print(i, sess.run(predict_op, feed_dict={X: train, Y: y_train}) )\n",
    "    \n"
   ]
  },
  {
   "cell_type": "code",
   "execution_count": null,
   "metadata": {
    "collapsed": true
   },
   "outputs": [],
   "source": []
  }
 ],
 "metadata": {
  "kernelspec": {
   "display_name": "Python [tensor]",
   "language": "python",
   "name": "Python [tensor]"
  },
  "language_info": {
   "codemirror_mode": {
    "name": "ipython",
    "version": 2
   },
   "file_extension": ".py",
   "mimetype": "text/x-python",
   "name": "python",
   "nbconvert_exporter": "python",
   "pygments_lexer": "ipython2",
   "version": "2.7.12"
  }
 },
 "nbformat": 4,
 "nbformat_minor": 0
}
