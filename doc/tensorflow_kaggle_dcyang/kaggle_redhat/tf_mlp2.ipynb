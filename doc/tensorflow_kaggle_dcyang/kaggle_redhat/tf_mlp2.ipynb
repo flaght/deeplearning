{
 "cells": [
  {
   "cell_type": "code",
   "execution_count": 1,
   "metadata": {
    "collapsed": true
   },
   "outputs": [],
   "source": [
    "import tensorflow as tf\n",
    "import numpy as np\n",
    "import pandas as pd"
   ]
  },
  {
   "cell_type": "code",
   "execution_count": 2,
   "metadata": {
    "collapsed": true
   },
   "outputs": [],
   "source": [
    "def init_weights(shape):\n",
    "    return tf.Variable(tf.random_normal(shape, stddev=0.01))"
   ]
  },
  {
   "cell_type": "code",
   "execution_count": 3,
   "metadata": {
    "collapsed": true
   },
   "outputs": [],
   "source": [
    "def model(X, w_h, w_h2, w_o, p_keep_input, p_keep_hidden): # this network is the same as the previous one except with an extra hidden layer + dropout\n",
    "    X = tf.nn.dropout(X, p_keep_input)\n",
    "    h = tf.nn.relu(tf.matmul(X, w_h))\n",
    "\n",
    "    h = tf.nn.dropout(h, p_keep_hidden)\n",
    "    h2 = tf.nn.relu(tf.matmul(h, w_h2))\n",
    "\n",
    "    h2 = tf.nn.dropout(h2, p_keep_hidden)\n",
    "\n",
    "    return tf.matmul(h2, w_o)"
   ]
  },
  {
   "cell_type": "code",
   "execution_count": 4,
   "metadata": {
    "collapsed": true
   },
   "outputs": [],
   "source": [
    "X = tf.placeholder('float', [None, 52])\n",
    "Y = tf.placeholder('float', [None, 2])\n",
    "\n",
    "w_h = init_weights([52, 40])\n",
    "w_h2 = init_weights([40, 30])\n",
    "w_o = init_weights([30, 2])\n",
    "\n",
    "p_keep_input = tf.placeholder('float')\n",
    "p_keep_hidden = tf.placeholder('float')"
   ]
  },
  {
   "cell_type": "code",
   "execution_count": 5,
   "metadata": {
    "collapsed": true
   },
   "outputs": [],
   "source": [
    "py_x = model(X, w_h, w_h2, w_o, p_keep_input, p_keep_hidden)"
   ]
  },
  {
   "cell_type": "code",
   "execution_count": 6,
   "metadata": {
    "collapsed": true
   },
   "outputs": [],
   "source": [
    "cost = tf.reduce_mean(tf.nn.softmax_cross_entropy_with_logits(py_x, Y))\n",
    "train_op = tf.train.RMSPropOptimizer(0.001, 0.9).minimize(cost)\n",
    "predict_op = tf.argmax(py_x, 1)"
   ]
  },
  {
   "cell_type": "code",
   "execution_count": 7,
   "metadata": {
    "collapsed": true
   },
   "outputs": [],
   "source": [
    "def LeaveOneOut(data1, data2, columnName, useLOO=False):\n",
    "    grpOutcomes = data1.groupby(columnName).mean().reset_index()\n",
    "    outcomes = data2['outcome'].values\n",
    "    x = pd.merge(data2[[columnName, 'outcome']], grpOutcomes,\n",
    "                 suffixes=('x_', ''),\n",
    "                 how='left',\n",
    "                 on=columnName,\n",
    "                 left_index=True)['outcome']\n",
    "    if(useLOO):\n",
    "        x = ((x*x.shape[0])-outcomes)/(x.shape[0]-1)\n",
    "    return x.fillna(x.mean())"
   ]
  },
  {
   "cell_type": "code",
   "execution_count": 8,
   "metadata": {
    "collapsed": true
   },
   "outputs": [],
   "source": [
    "directory = 'data/'\n",
    "train = pd.read_csv(directory+'act_train.csv')\n",
    "people = pd.read_csv(directory+'people.csv')"
   ]
  },
  {
   "cell_type": "code",
   "execution_count": 9,
   "metadata": {
    "collapsed": true
   },
   "outputs": [],
   "source": [
    "train = pd.merge(train, people,how='left',on='people_id',left_index=True)\n",
    "train.fillna('-999', inplace=True)"
   ]
  },
  {
   "cell_type": "code",
   "execution_count": 10,
   "metadata": {
    "collapsed": false,
    "scrolled": true
   },
   "outputs": [
    {
     "name": "stdout",
     "output_type": "stream",
     "text": [
      "date_x\n",
      "activity_category\n",
      "char_1_x\n",
      "char_2_x\n",
      "char_3_x\n",
      "char_4_x\n",
      "char_5_x\n",
      "char_6_x\n",
      "char_7_x\n",
      "char_8_x\n",
      "char_9_x\n",
      "char_10_x\n",
      "char_1_y\n",
      "group_1\n",
      "char_2_y\n",
      "date_y\n",
      "char_3_y\n",
      "char_4_y\n",
      "char_5_y\n",
      "char_6_y\n",
      "char_7_y\n",
      "char_8_y\n",
      "char_9_y\n",
      "char_10_y\n",
      "char_11\n",
      "char_12\n",
      "char_13\n",
      "char_14\n",
      "char_15\n",
      "char_16\n",
      "char_17\n",
      "char_18\n",
      "char_19\n",
      "char_20\n",
      "char_21\n",
      "char_22\n",
      "char_23\n",
      "char_24\n",
      "char_25\n",
      "char_26\n",
      "char_27\n",
      "char_28\n",
      "char_29\n",
      "char_30\n",
      "char_31\n",
      "char_32\n",
      "char_33\n",
      "char_34\n",
      "char_35\n",
      "char_36\n",
      "char_37\n",
      "char_38\n"
     ]
    }
   ],
   "source": [
    "features = train.columns.tolist()\n",
    "features.remove('activity_id')\n",
    "features.remove('people_id')\n",
    "lootrain = pd.DataFrame()\n",
    "for col in features:\n",
    "    if(col != 'outcome'):\n",
    "        print(col)\n",
    "        lootrain[col] = LeaveOneOut(train, train, col, True).values"
   ]
  },
  {
   "cell_type": "code",
   "execution_count": 11,
   "metadata": {
    "collapsed": true
   },
   "outputs": [],
   "source": [
    "y_train = map(lambda x: [1,0] if x==0 else [0,1], train.outcome.as_matrix())\n",
    "y_train = np.matrix(y_train)\n",
    "label = train['outcome'].values"
   ]
  },
  {
   "cell_type": "code",
   "execution_count": 12,
   "metadata": {
    "collapsed": true
   },
   "outputs": [],
   "source": [
    "from sklearn.metrics import roc_auc_score"
   ]
  },
  {
   "cell_type": "code",
   "execution_count": 13,
   "metadata": {
    "collapsed": false
   },
   "outputs": [
    {
     "name": "stdout",
     "output_type": "stream",
     "text": [
      "(0, 0.96898590127570727)\n",
      "(0, 0.96807035546066555)\n",
      "(1, 0.96740440842837838)\n",
      "(1, 0.96585039104607062)\n",
      "(2, 0.9699707503466769)\n",
      "(2, 0.96988937605445313)\n",
      "(3, 0.96320651201866303)\n",
      "(3, 0.96047232072035038)\n",
      "(4, 0.96644504528530817)\n",
      "(4, 0.96461399882195098)\n",
      "(5, 0.96623069042743992)\n",
      "(5, 0.96427979761604765)\n",
      "(6, 0.96732795064468025)\n",
      "(6, 0.96575704834747378)\n",
      "(7, 0.96823452150853029)\n",
      "(7, 0.96698295972575288)\n",
      "(8, 0.96714545319668632)\n",
      "(8, 0.96549158362212628)\n",
      "(9, 0.96989884362153211)\n",
      "(9, 0.96962302673594791)\n",
      "(10, 0.96968357855195331)\n",
      "(10, 0.96923727451144226)\n",
      "(11, 0.96787589809451724)\n",
      "(11, 0.9664857606163304)\n",
      "(12, 0.96327022683841146)\n",
      "(12, 0.96052775367185272)\n",
      "(13, 0.96874833601921639)\n",
      "(13, 0.9677151799810283)\n",
      "(14, 0.97012230059650728)\n",
      "(14, 0.97000260960933549)\n",
      "(15, 0.9685116809744363)\n",
      "(15, 0.96737322196386621)\n",
      "(16, 0.96874105432553081)\n",
      "(16, 0.9677386997925862)\n",
      "(17, 0.96987062705850069)\n",
      "(17, 0.96967545789666798)\n",
      "(18, 0.96943873160177696)\n",
      "(18, 0.96890375899427894)\n",
      "(19, 0.96966537431773947)\n",
      "(19, 0.96921894196581282)\n",
      "(20, 0.96731884852757322)\n",
      "(20, 0.96580930875691617)\n",
      "(21, 0.96956024486515446)\n",
      "(21, 0.96905125478086129)\n",
      "(22, 0.96934907574827367)\n",
      "(22, 0.96871072229451505)\n",
      "(23, 0.96809844485778174)\n",
      "(23, 0.96681699554453882)\n",
      "(24, 0.97034484735977167)\n",
      "(24, 0.97096009705421593)\n",
      "(25, 0.96995209100660773)\n",
      "(25, 0.96971296040216226)\n",
      "(26, 0.96525812921456466)\n",
      "(26, 0.96307369417676536)\n",
      "(27, 0.9662379721211255)\n",
      "(27, 0.96432199247213579)\n",
      "(28, 0.97003218963714866)\n",
      "(28, 0.9698609294747953)\n",
      "(29, 0.96933087151405983)\n",
      "(29, 0.96874043585023051)\n",
      "(30, 0.96944646840131776)\n",
      "(30, 0.96893169094188059)\n",
      "(31, 0.96643230232135846)\n",
      "(31, 0.96459892388861401)\n",
      "(32, 0.96908056329361925)\n",
      "(32, 0.96825983439158625)\n",
      "(33, 0.97015324779467083)\n",
      "(33, 0.97018160194162506)\n",
      "(34, 0.96884982462495861)\n",
      "(34, 0.96790800765267093)\n",
      "(35, 0.96798648881736649)\n",
      "(35, 0.96666404148496288)\n",
      "(36, 0.96875652792461264)\n",
      "(36, 0.96776067310447522)\n",
      "(37, 0.96972362786722377)\n",
      "(37, 0.96937857525211679)\n",
      "(38, 0.96902731590854374)\n",
      "(38, 0.96819655856224718)\n",
      "(39, 0.96826046254228504)\n",
      "(39, 0.96704668613538702)\n",
      "(40, 0.96891126391543037)\n",
      "(40, 0.96802648915067535)\n",
      "(41, 0.97037533945207988)\n",
      "(41, 0.97074532207088071)\n",
      "(42, 0.9704213051434698)\n",
      "(42, 0.97067268731527168)\n",
      "(43, 0.96945557051842468)\n",
      "(43, 0.96891156459161731)\n",
      "(44, 0.96969131535149422)\n",
      "(44, 0.96925849033735056)\n",
      "(45, 0.96694748214961057)\n",
      "(45, 0.9652352463945777)\n",
      "(46, 0.96863911061393326)\n",
      "(46, 0.9675827631932894)\n",
      "(47, 0.9685649283595118)\n",
      "(47, 0.96747018172662169)\n",
      "(48, 0.96477435169033143)\n",
      "(48, 0.96245527634189232)\n",
      "(49, 0.96957708378180218)\n",
      "(49, 0.9690754890451112)\n"
     ]
    }
   ],
   "source": [
    "with tf.Session() as sess:\n",
    "    tf.initialize_all_variables().run()\n",
    "    \n",
    "    \n",
    "    for i in range(50):\n",
    "\n",
    "        for start, end in zip(range(0, len(train), 500), range(500, len(train)+1,500)):\n",
    "            sess.run(train_op, feed_dict={X: lootrain[start:end], Y: y_train[start:end], \n",
    "                                          p_keep_input: 0.8, p_keep_hidden: 0.5})\n",
    "        predict = sess.run(predict_op, feed_dict={X: lootrain, Y: y_train,\n",
    "                                                 p_keep_input: 1.0, p_keep_hidden: 1.0})\n",
    "        print(i, np.mean(label == predict))\n",
    "        print(i, roc_auc_score(label, predict))\n",
    "        \n",
    "        \n",
    "        #print(i, sess.run(predict_op, feed_dict={X: train, Y: y_train}) )\n",
    "    \n"
   ]
  },
  {
   "cell_type": "code",
   "execution_count": null,
   "metadata": {
    "collapsed": true
   },
   "outputs": [],
   "source": []
  }
 ],
 "metadata": {
  "kernelspec": {
   "display_name": "Python [tensor]",
   "language": "python",
   "name": "Python [tensor]"
  },
  "language_info": {
   "codemirror_mode": {
    "name": "ipython",
    "version": 2
   },
   "file_extension": ".py",
   "mimetype": "text/x-python",
   "name": "python",
   "nbconvert_exporter": "python",
   "pygments_lexer": "ipython2",
   "version": "2.7.12"
  }
 },
 "nbformat": 4,
 "nbformat_minor": 0
}
