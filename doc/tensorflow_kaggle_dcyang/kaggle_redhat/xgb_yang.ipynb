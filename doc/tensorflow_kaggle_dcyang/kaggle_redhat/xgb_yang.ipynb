{
 "cells": [
  {
   "cell_type": "code",
   "execution_count": 1,
   "metadata": {
    "collapsed": true
   },
   "outputs": [],
   "source": [
    "import numpy as np\n",
    "import pandas as pd\n",
    "import xgboost as xgb"
   ]
  },
  {
   "cell_type": "code",
   "execution_count": 2,
   "metadata": {
    "collapsed": true
   },
   "outputs": [],
   "source": [
    "from sklearn.preprocessing import LabelEncoder,LabelBinarizer,MinMaxScaler,OneHotEncoder"
   ]
  },
  {
   "cell_type": "code",
   "execution_count": 39,
   "metadata": {
    "collapsed": false
   },
   "outputs": [],
   "source": [
    "act_train_data = pd.read_csv(\"data/act_train.csv\",dtype={'people_id': np.str, 'activity_id': np.str, 'outcome': np.int8}, parse_dates=['date'])\n",
    "act_test_data  = pd.read_csv(\"data/act_test.csv\", dtype={'people_id': np.str, 'activity_id': np.str}, parse_dates=['date'])"
   ]
  },
  {
   "cell_type": "code",
   "execution_count": 4,
   "metadata": {
    "collapsed": true
   },
   "outputs": [],
   "source": [
    "people_data    = pd.read_csv(\"data/people.csv\", dtype={'people_id': np.str, 'activity_id': np.str, 'char_38': np.int32}, parse_dates=['date'])"
   ]
  },
  {
   "cell_type": "code",
   "execution_count": 5,
   "metadata": {
    "collapsed": false,
    "scrolled": true
   },
   "outputs": [],
   "source": [
    "# people_data['date'].dt.year"
   ]
  },
  {
   "cell_type": "code",
   "execution_count": 6,
   "metadata": {
    "collapsed": true
   },
   "outputs": [],
   "source": [
    "act_train_data = act_train_data.drop('char_10', axis = 1)\n",
    "act_test_data=act_test_data.drop('char_10',axis=1)"
   ]
  },
  {
   "cell_type": "code",
   "execution_count": 7,
   "metadata": {
    "collapsed": false
   },
   "outputs": [],
   "source": [
    "y_train = act_train_data.outcome\n",
    "act_train_data = act_train_data.drop('outcome',axis=1)"
   ]
  },
  {
   "cell_type": "code",
   "execution_count": 40,
   "metadata": {
    "collapsed": false
   },
   "outputs": [],
   "source": [
    "train_num = act_train_data.shape[0]\n",
    "test_activity_id = act_test_data['activity_id'].values"
   ]
  },
  {
   "cell_type": "code",
   "execution_count": 41,
   "metadata": {
    "collapsed": false
   },
   "outputs": [
    {
     "data": {
      "text/plain": [
       "array(['act1_249281', 'act2_230855', 'act1_240724', ..., 'act2_448830',\n",
       "       'act2_450133', 'act2_847967'], dtype=object)"
      ]
     },
     "execution_count": 41,
     "metadata": {},
     "output_type": "execute_result"
    }
   ],
   "source": [
    "test_activity_id"
   ]
  },
  {
   "cell_type": "code",
   "execution_count": 9,
   "metadata": {
    "collapsed": false
   },
   "outputs": [
    {
     "data": {
      "text/html": [
       "<div>\n",
       "<table border=\"1\" class=\"dataframe\">\n",
       "  <thead>\n",
       "    <tr style=\"text-align: right;\">\n",
       "      <th></th>\n",
       "      <th>people_id</th>\n",
       "      <th>activity_id</th>\n",
       "      <th>date</th>\n",
       "      <th>activity_category</th>\n",
       "      <th>char_1</th>\n",
       "      <th>char_2</th>\n",
       "      <th>char_3</th>\n",
       "      <th>char_4</th>\n",
       "      <th>char_5</th>\n",
       "      <th>char_6</th>\n",
       "      <th>char_7</th>\n",
       "      <th>char_8</th>\n",
       "      <th>char_9</th>\n",
       "    </tr>\n",
       "  </thead>\n",
       "  <tbody>\n",
       "    <tr>\n",
       "      <th>0</th>\n",
       "      <td>ppl_100</td>\n",
       "      <td>act2_1734928</td>\n",
       "      <td>2023-08-26</td>\n",
       "      <td>type 4</td>\n",
       "      <td>NaN</td>\n",
       "      <td>NaN</td>\n",
       "      <td>NaN</td>\n",
       "      <td>NaN</td>\n",
       "      <td>NaN</td>\n",
       "      <td>NaN</td>\n",
       "      <td>NaN</td>\n",
       "      <td>NaN</td>\n",
       "      <td>NaN</td>\n",
       "    </tr>\n",
       "    <tr>\n",
       "      <th>1</th>\n",
       "      <td>ppl_100</td>\n",
       "      <td>act2_2434093</td>\n",
       "      <td>2022-09-27</td>\n",
       "      <td>type 2</td>\n",
       "      <td>NaN</td>\n",
       "      <td>NaN</td>\n",
       "      <td>NaN</td>\n",
       "      <td>NaN</td>\n",
       "      <td>NaN</td>\n",
       "      <td>NaN</td>\n",
       "      <td>NaN</td>\n",
       "      <td>NaN</td>\n",
       "      <td>NaN</td>\n",
       "    </tr>\n",
       "    <tr>\n",
       "      <th>2</th>\n",
       "      <td>ppl_100</td>\n",
       "      <td>act2_3404049</td>\n",
       "      <td>2022-09-27</td>\n",
       "      <td>type 2</td>\n",
       "      <td>NaN</td>\n",
       "      <td>NaN</td>\n",
       "      <td>NaN</td>\n",
       "      <td>NaN</td>\n",
       "      <td>NaN</td>\n",
       "      <td>NaN</td>\n",
       "      <td>NaN</td>\n",
       "      <td>NaN</td>\n",
       "      <td>NaN</td>\n",
       "    </tr>\n",
       "    <tr>\n",
       "      <th>3</th>\n",
       "      <td>ppl_100</td>\n",
       "      <td>act2_3651215</td>\n",
       "      <td>2023-08-04</td>\n",
       "      <td>type 2</td>\n",
       "      <td>NaN</td>\n",
       "      <td>NaN</td>\n",
       "      <td>NaN</td>\n",
       "      <td>NaN</td>\n",
       "      <td>NaN</td>\n",
       "      <td>NaN</td>\n",
       "      <td>NaN</td>\n",
       "      <td>NaN</td>\n",
       "      <td>NaN</td>\n",
       "    </tr>\n",
       "    <tr>\n",
       "      <th>4</th>\n",
       "      <td>ppl_100</td>\n",
       "      <td>act2_4109017</td>\n",
       "      <td>2023-08-26</td>\n",
       "      <td>type 2</td>\n",
       "      <td>NaN</td>\n",
       "      <td>NaN</td>\n",
       "      <td>NaN</td>\n",
       "      <td>NaN</td>\n",
       "      <td>NaN</td>\n",
       "      <td>NaN</td>\n",
       "      <td>NaN</td>\n",
       "      <td>NaN</td>\n",
       "      <td>NaN</td>\n",
       "    </tr>\n",
       "  </tbody>\n",
       "</table>\n",
       "</div>"
      ],
      "text/plain": [
       "  people_id   activity_id       date activity_category char_1 char_2 char_3  \\\n",
       "0   ppl_100  act2_1734928 2023-08-26            type 4    NaN    NaN    NaN   \n",
       "1   ppl_100  act2_2434093 2022-09-27            type 2    NaN    NaN    NaN   \n",
       "2   ppl_100  act2_3404049 2022-09-27            type 2    NaN    NaN    NaN   \n",
       "3   ppl_100  act2_3651215 2023-08-04            type 2    NaN    NaN    NaN   \n",
       "4   ppl_100  act2_4109017 2023-08-26            type 2    NaN    NaN    NaN   \n",
       "\n",
       "  char_4 char_5 char_6 char_7 char_8 char_9  \n",
       "0    NaN    NaN    NaN    NaN    NaN    NaN  \n",
       "1    NaN    NaN    NaN    NaN    NaN    NaN  \n",
       "2    NaN    NaN    NaN    NaN    NaN    NaN  \n",
       "3    NaN    NaN    NaN    NaN    NaN    NaN  \n",
       "4    NaN    NaN    NaN    NaN    NaN    NaN  "
      ]
     },
     "execution_count": 9,
     "metadata": {},
     "output_type": "execute_result"
    }
   ],
   "source": [
    "act_train_data.head()"
   ]
  },
  {
   "cell_type": "code",
   "execution_count": 10,
   "metadata": {
    "collapsed": true
   },
   "outputs": [],
   "source": [
    "data = pd.concat([act_train_data, act_test_data])"
   ]
  },
  {
   "cell_type": "code",
   "execution_count": 11,
   "metadata": {
    "collapsed": true
   },
   "outputs": [],
   "source": [
    "data = pd.merge(data, people_data, how='left',on='people_id').fillna('missing')"
   ]
  },
  {
   "cell_type": "code",
   "execution_count": 12,
   "metadata": {
    "collapsed": true
   },
   "outputs": [],
   "source": [
    "del act_train_data\n",
    "del act_test_data\n",
    "del people_data"
   ]
  },
  {
   "cell_type": "code",
   "execution_count": 13,
   "metadata": {
    "collapsed": false
   },
   "outputs": [],
   "source": [
    "data['year_x'] = data['date_x'].dt.year\n",
    "data['month_x'] = data['date_x'].dt.month\n",
    "data['day_x'] = data['date_x'].dt.day\n",
    "data['isWeekend_x'] = data['date_x'].dt.weekday >= 5"
   ]
  },
  {
   "cell_type": "code",
   "execution_count": 14,
   "metadata": {
    "collapsed": true
   },
   "outputs": [],
   "source": [
    "data['year_y'] = data['date_y'].dt.year\n",
    "data['month_y'] = data['date_y'].dt.month\n",
    "data['day_y'] = data['date_y'].dt.day\n",
    "data['isWeekend_y'] = data['date_y'].dt.weekday >= 5"
   ]
  },
  {
   "cell_type": "code",
   "execution_count": 15,
   "metadata": {
    "collapsed": false,
    "scrolled": true
   },
   "outputs": [],
   "source": [
    "# data['isWeekend_y']"
   ]
  },
  {
   "cell_type": "code",
   "execution_count": 16,
   "metadata": {
    "collapsed": false
   },
   "outputs": [],
   "source": [
    "data = data.drop('date_x', axis = 1)"
   ]
  },
  {
   "cell_type": "code",
   "execution_count": 17,
   "metadata": {
    "collapsed": false
   },
   "outputs": [],
   "source": [
    "data = data.drop('date_y', axis = 1)"
   ]
  },
  {
   "cell_type": "code",
   "execution_count": 18,
   "metadata": {
    "collapsed": false
   },
   "outputs": [
    {
     "data": {
      "text/plain": [
       "Index([u'people_id', u'activity_id', u'activity_category', u'char_1_x',\n",
       "       u'char_2_x', u'char_3_x', u'char_4_x', u'char_5_x', u'char_6_x',\n",
       "       u'char_7_x', u'char_8_x', u'char_9_x', u'char_1_y', u'group_1',\n",
       "       u'char_2_y', u'char_3_y', u'char_4_y', u'char_5_y', u'char_6_y',\n",
       "       u'char_7_y', u'char_8_y', u'char_9_y', u'char_10', u'char_11',\n",
       "       u'char_12', u'char_13', u'char_14', u'char_15', u'char_16', u'char_17',\n",
       "       u'char_18', u'char_19', u'char_20', u'char_21', u'char_22', u'char_23',\n",
       "       u'char_24', u'char_25', u'char_26', u'char_27', u'char_28', u'char_29',\n",
       "       u'char_30', u'char_31', u'char_32', u'char_33', u'char_34', u'char_35',\n",
       "       u'char_36', u'char_37', u'char_38', u'year_x', u'month_x', u'day_x',\n",
       "       u'isWeekend_x', u'year_y', u'month_y', u'day_y', u'isWeekend_y'],\n",
       "      dtype='object')"
      ]
     },
     "execution_count": 18,
     "metadata": {},
     "output_type": "execute_result"
    }
   ],
   "source": [
    "data.columns"
   ]
  },
  {
   "cell_type": "code",
   "execution_count": 19,
   "metadata": {
    "collapsed": false
   },
   "outputs": [
    {
     "data": {
      "text/html": [
       "<div>\n",
       "<table border=\"1\" class=\"dataframe\">\n",
       "  <thead>\n",
       "    <tr style=\"text-align: right;\">\n",
       "      <th></th>\n",
       "      <th>people_id</th>\n",
       "      <th>activity_id</th>\n",
       "      <th>activity_category</th>\n",
       "      <th>char_1_x</th>\n",
       "      <th>char_2_x</th>\n",
       "      <th>char_3_x</th>\n",
       "      <th>char_4_x</th>\n",
       "      <th>char_5_x</th>\n",
       "      <th>char_6_x</th>\n",
       "      <th>char_7_x</th>\n",
       "      <th>...</th>\n",
       "      <th>char_37</th>\n",
       "      <th>char_38</th>\n",
       "      <th>year_x</th>\n",
       "      <th>month_x</th>\n",
       "      <th>day_x</th>\n",
       "      <th>isWeekend_x</th>\n",
       "      <th>year_y</th>\n",
       "      <th>month_y</th>\n",
       "      <th>day_y</th>\n",
       "      <th>isWeekend_y</th>\n",
       "    </tr>\n",
       "  </thead>\n",
       "  <tbody>\n",
       "    <tr>\n",
       "      <th>0</th>\n",
       "      <td>ppl_100</td>\n",
       "      <td>act2_1734928</td>\n",
       "      <td>type 4</td>\n",
       "      <td>missing</td>\n",
       "      <td>missing</td>\n",
       "      <td>missing</td>\n",
       "      <td>missing</td>\n",
       "      <td>missing</td>\n",
       "      <td>missing</td>\n",
       "      <td>missing</td>\n",
       "      <td>...</td>\n",
       "      <td>False</td>\n",
       "      <td>36</td>\n",
       "      <td>2023</td>\n",
       "      <td>8</td>\n",
       "      <td>26</td>\n",
       "      <td>True</td>\n",
       "      <td>2021</td>\n",
       "      <td>6</td>\n",
       "      <td>29</td>\n",
       "      <td>False</td>\n",
       "    </tr>\n",
       "    <tr>\n",
       "      <th>1</th>\n",
       "      <td>ppl_100</td>\n",
       "      <td>act2_2434093</td>\n",
       "      <td>type 2</td>\n",
       "      <td>missing</td>\n",
       "      <td>missing</td>\n",
       "      <td>missing</td>\n",
       "      <td>missing</td>\n",
       "      <td>missing</td>\n",
       "      <td>missing</td>\n",
       "      <td>missing</td>\n",
       "      <td>...</td>\n",
       "      <td>False</td>\n",
       "      <td>36</td>\n",
       "      <td>2022</td>\n",
       "      <td>9</td>\n",
       "      <td>27</td>\n",
       "      <td>False</td>\n",
       "      <td>2021</td>\n",
       "      <td>6</td>\n",
       "      <td>29</td>\n",
       "      <td>False</td>\n",
       "    </tr>\n",
       "    <tr>\n",
       "      <th>2</th>\n",
       "      <td>ppl_100</td>\n",
       "      <td>act2_3404049</td>\n",
       "      <td>type 2</td>\n",
       "      <td>missing</td>\n",
       "      <td>missing</td>\n",
       "      <td>missing</td>\n",
       "      <td>missing</td>\n",
       "      <td>missing</td>\n",
       "      <td>missing</td>\n",
       "      <td>missing</td>\n",
       "      <td>...</td>\n",
       "      <td>False</td>\n",
       "      <td>36</td>\n",
       "      <td>2022</td>\n",
       "      <td>9</td>\n",
       "      <td>27</td>\n",
       "      <td>False</td>\n",
       "      <td>2021</td>\n",
       "      <td>6</td>\n",
       "      <td>29</td>\n",
       "      <td>False</td>\n",
       "    </tr>\n",
       "    <tr>\n",
       "      <th>3</th>\n",
       "      <td>ppl_100</td>\n",
       "      <td>act2_3651215</td>\n",
       "      <td>type 2</td>\n",
       "      <td>missing</td>\n",
       "      <td>missing</td>\n",
       "      <td>missing</td>\n",
       "      <td>missing</td>\n",
       "      <td>missing</td>\n",
       "      <td>missing</td>\n",
       "      <td>missing</td>\n",
       "      <td>...</td>\n",
       "      <td>False</td>\n",
       "      <td>36</td>\n",
       "      <td>2023</td>\n",
       "      <td>8</td>\n",
       "      <td>4</td>\n",
       "      <td>False</td>\n",
       "      <td>2021</td>\n",
       "      <td>6</td>\n",
       "      <td>29</td>\n",
       "      <td>False</td>\n",
       "    </tr>\n",
       "    <tr>\n",
       "      <th>4</th>\n",
       "      <td>ppl_100</td>\n",
       "      <td>act2_4109017</td>\n",
       "      <td>type 2</td>\n",
       "      <td>missing</td>\n",
       "      <td>missing</td>\n",
       "      <td>missing</td>\n",
       "      <td>missing</td>\n",
       "      <td>missing</td>\n",
       "      <td>missing</td>\n",
       "      <td>missing</td>\n",
       "      <td>...</td>\n",
       "      <td>False</td>\n",
       "      <td>36</td>\n",
       "      <td>2023</td>\n",
       "      <td>8</td>\n",
       "      <td>26</td>\n",
       "      <td>True</td>\n",
       "      <td>2021</td>\n",
       "      <td>6</td>\n",
       "      <td>29</td>\n",
       "      <td>False</td>\n",
       "    </tr>\n",
       "  </tbody>\n",
       "</table>\n",
       "<p>5 rows × 59 columns</p>\n",
       "</div>"
      ],
      "text/plain": [
       "  people_id   activity_id activity_category char_1_x char_2_x char_3_x  \\\n",
       "0   ppl_100  act2_1734928            type 4  missing  missing  missing   \n",
       "1   ppl_100  act2_2434093            type 2  missing  missing  missing   \n",
       "2   ppl_100  act2_3404049            type 2  missing  missing  missing   \n",
       "3   ppl_100  act2_3651215            type 2  missing  missing  missing   \n",
       "4   ppl_100  act2_4109017            type 2  missing  missing  missing   \n",
       "\n",
       "  char_4_x char_5_x char_6_x char_7_x     ...     char_37 char_38 year_x  \\\n",
       "0  missing  missing  missing  missing     ...       False      36   2023   \n",
       "1  missing  missing  missing  missing     ...       False      36   2022   \n",
       "2  missing  missing  missing  missing     ...       False      36   2022   \n",
       "3  missing  missing  missing  missing     ...       False      36   2023   \n",
       "4  missing  missing  missing  missing     ...       False      36   2023   \n",
       "\n",
       "  month_x day_x isWeekend_x year_y month_y day_y isWeekend_y  \n",
       "0       8    26        True   2021       6    29       False  \n",
       "1       9    27       False   2021       6    29       False  \n",
       "2       9    27       False   2021       6    29       False  \n",
       "3       8     4       False   2021       6    29       False  \n",
       "4       8    26        True   2021       6    29       False  \n",
       "\n",
       "[5 rows x 59 columns]"
      ]
     },
     "execution_count": 19,
     "metadata": {},
     "output_type": "execute_result"
    }
   ],
   "source": [
    "data.head()"
   ]
  },
  {
   "cell_type": "code",
   "execution_count": 20,
   "metadata": {
    "collapsed": false
   },
   "outputs": [],
   "source": [
    "data = data.drop('activity_id', axis = 1)\n",
    "data = data.drop('people_id', axis = 1)"
   ]
  },
  {
   "cell_type": "code",
   "execution_count": 21,
   "metadata": {
    "collapsed": true
   },
   "outputs": [],
   "source": [
    "columns = data.columns.tolist()"
   ]
  },
  {
   "cell_type": "code",
   "execution_count": 22,
   "metadata": {
    "collapsed": false
   },
   "outputs": [],
   "source": [
    "columns.remove('char_38')"
   ]
  },
  {
   "cell_type": "code",
   "execution_count": 23,
   "metadata": {
    "collapsed": true
   },
   "outputs": [],
   "source": [
    "for c in columns:\n",
    "    data[c] = LabelEncoder().fit_transform(data[c].values)"
   ]
  },
  {
   "cell_type": "code",
   "execution_count": 24,
   "metadata": {
    "collapsed": false
   },
   "outputs": [
    {
     "data": {
      "text/html": [
       "<div>\n",
       "<table border=\"1\" class=\"dataframe\">\n",
       "  <thead>\n",
       "    <tr style=\"text-align: right;\">\n",
       "      <th></th>\n",
       "      <th>activity_category</th>\n",
       "      <th>char_1_x</th>\n",
       "      <th>char_2_x</th>\n",
       "      <th>char_3_x</th>\n",
       "      <th>char_4_x</th>\n",
       "      <th>char_5_x</th>\n",
       "      <th>char_6_x</th>\n",
       "      <th>char_7_x</th>\n",
       "      <th>char_8_x</th>\n",
       "      <th>char_9_x</th>\n",
       "      <th>...</th>\n",
       "      <th>char_37</th>\n",
       "      <th>char_38</th>\n",
       "      <th>year_x</th>\n",
       "      <th>month_x</th>\n",
       "      <th>day_x</th>\n",
       "      <th>isWeekend_x</th>\n",
       "      <th>year_y</th>\n",
       "      <th>month_y</th>\n",
       "      <th>day_y</th>\n",
       "      <th>isWeekend_y</th>\n",
       "    </tr>\n",
       "  </thead>\n",
       "  <tbody>\n",
       "    <tr>\n",
       "      <th>0</th>\n",
       "      <td>3</td>\n",
       "      <td>0</td>\n",
       "      <td>0</td>\n",
       "      <td>0</td>\n",
       "      <td>0</td>\n",
       "      <td>0</td>\n",
       "      <td>0</td>\n",
       "      <td>0</td>\n",
       "      <td>0</td>\n",
       "      <td>0</td>\n",
       "      <td>...</td>\n",
       "      <td>0</td>\n",
       "      <td>36</td>\n",
       "      <td>1</td>\n",
       "      <td>7</td>\n",
       "      <td>25</td>\n",
       "      <td>1</td>\n",
       "      <td>1</td>\n",
       "      <td>5</td>\n",
       "      <td>28</td>\n",
       "      <td>0</td>\n",
       "    </tr>\n",
       "    <tr>\n",
       "      <th>1</th>\n",
       "      <td>1</td>\n",
       "      <td>0</td>\n",
       "      <td>0</td>\n",
       "      <td>0</td>\n",
       "      <td>0</td>\n",
       "      <td>0</td>\n",
       "      <td>0</td>\n",
       "      <td>0</td>\n",
       "      <td>0</td>\n",
       "      <td>0</td>\n",
       "      <td>...</td>\n",
       "      <td>0</td>\n",
       "      <td>36</td>\n",
       "      <td>0</td>\n",
       "      <td>8</td>\n",
       "      <td>26</td>\n",
       "      <td>0</td>\n",
       "      <td>1</td>\n",
       "      <td>5</td>\n",
       "      <td>28</td>\n",
       "      <td>0</td>\n",
       "    </tr>\n",
       "    <tr>\n",
       "      <th>2</th>\n",
       "      <td>1</td>\n",
       "      <td>0</td>\n",
       "      <td>0</td>\n",
       "      <td>0</td>\n",
       "      <td>0</td>\n",
       "      <td>0</td>\n",
       "      <td>0</td>\n",
       "      <td>0</td>\n",
       "      <td>0</td>\n",
       "      <td>0</td>\n",
       "      <td>...</td>\n",
       "      <td>0</td>\n",
       "      <td>36</td>\n",
       "      <td>0</td>\n",
       "      <td>8</td>\n",
       "      <td>26</td>\n",
       "      <td>0</td>\n",
       "      <td>1</td>\n",
       "      <td>5</td>\n",
       "      <td>28</td>\n",
       "      <td>0</td>\n",
       "    </tr>\n",
       "    <tr>\n",
       "      <th>3</th>\n",
       "      <td>1</td>\n",
       "      <td>0</td>\n",
       "      <td>0</td>\n",
       "      <td>0</td>\n",
       "      <td>0</td>\n",
       "      <td>0</td>\n",
       "      <td>0</td>\n",
       "      <td>0</td>\n",
       "      <td>0</td>\n",
       "      <td>0</td>\n",
       "      <td>...</td>\n",
       "      <td>0</td>\n",
       "      <td>36</td>\n",
       "      <td>1</td>\n",
       "      <td>7</td>\n",
       "      <td>3</td>\n",
       "      <td>0</td>\n",
       "      <td>1</td>\n",
       "      <td>5</td>\n",
       "      <td>28</td>\n",
       "      <td>0</td>\n",
       "    </tr>\n",
       "    <tr>\n",
       "      <th>4</th>\n",
       "      <td>1</td>\n",
       "      <td>0</td>\n",
       "      <td>0</td>\n",
       "      <td>0</td>\n",
       "      <td>0</td>\n",
       "      <td>0</td>\n",
       "      <td>0</td>\n",
       "      <td>0</td>\n",
       "      <td>0</td>\n",
       "      <td>0</td>\n",
       "      <td>...</td>\n",
       "      <td>0</td>\n",
       "      <td>36</td>\n",
       "      <td>1</td>\n",
       "      <td>7</td>\n",
       "      <td>25</td>\n",
       "      <td>1</td>\n",
       "      <td>1</td>\n",
       "      <td>5</td>\n",
       "      <td>28</td>\n",
       "      <td>0</td>\n",
       "    </tr>\n",
       "  </tbody>\n",
       "</table>\n",
       "<p>5 rows × 57 columns</p>\n",
       "</div>"
      ],
      "text/plain": [
       "   activity_category  char_1_x  char_2_x  char_3_x  char_4_x  char_5_x  \\\n",
       "0                  3         0         0         0         0         0   \n",
       "1                  1         0         0         0         0         0   \n",
       "2                  1         0         0         0         0         0   \n",
       "3                  1         0         0         0         0         0   \n",
       "4                  1         0         0         0         0         0   \n",
       "\n",
       "   char_6_x  char_7_x  char_8_x  char_9_x     ...       char_37  char_38  \\\n",
       "0         0         0         0         0     ...             0       36   \n",
       "1         0         0         0         0     ...             0       36   \n",
       "2         0         0         0         0     ...             0       36   \n",
       "3         0         0         0         0     ...             0       36   \n",
       "4         0         0         0         0     ...             0       36   \n",
       "\n",
       "   year_x  month_x  day_x  isWeekend_x  year_y  month_y  day_y  isWeekend_y  \n",
       "0       1        7     25            1       1        5     28            0  \n",
       "1       0        8     26            0       1        5     28            0  \n",
       "2       0        8     26            0       1        5     28            0  \n",
       "3       1        7      3            0       1        5     28            0  \n",
       "4       1        7     25            1       1        5     28            0  \n",
       "\n",
       "[5 rows x 57 columns]"
      ]
     },
     "execution_count": 24,
     "metadata": {},
     "output_type": "execute_result"
    }
   ],
   "source": [
    "data.head()"
   ]
  },
  {
   "cell_type": "code",
   "execution_count": 25,
   "metadata": {
    "collapsed": true
   },
   "outputs": [],
   "source": [
    "categorical=['group_1','activity_category','char_1_x','char_2_x','char_3_x','char_4_x','char_5_x','char_6_x','char_7_x','char_8_x','char_9_x','char_2_y','char_3_y','char_4_y','char_5_y','char_6_y','char_7_y','char_8_y','char_9_y']\n",
    "not_categorical=[]\n",
    "for category in data.columns:\n",
    "    if category not in categorical:\n",
    "        not_categorical.append(category)"
   ]
  },
  {
   "cell_type": "code",
   "execution_count": 26,
   "metadata": {
    "collapsed": false
   },
   "outputs": [],
   "source": [
    "enc = OneHotEncoder(handle_unknown='ignore')\n",
    "enc = enc.fit(data[categorical])"
   ]
  },
  {
   "cell_type": "code",
   "execution_count": 27,
   "metadata": {
    "collapsed": true
   },
   "outputs": [],
   "source": [
    "train_cat_sparse = enc.transform(data[:train_num][categorical])\n",
    "test_cat_sparse = enc.transform(data[train_num :][categorical])"
   ]
  },
  {
   "cell_type": "code",
   "execution_count": 28,
   "metadata": {
    "collapsed": false
   },
   "outputs": [
    {
     "data": {
      "text/plain": [
       "(498687, 34527)"
      ]
     },
     "execution_count": 28,
     "metadata": {},
     "output_type": "execute_result"
    }
   ],
   "source": [
    "test_cat_sparse.shape"
   ]
  },
  {
   "cell_type": "code",
   "execution_count": 29,
   "metadata": {
    "collapsed": true
   },
   "outputs": [],
   "source": [
    "from scipy.sparse import hstack\n",
    "train_sparse = hstack((data[:train_num][not_categorical],  train_cat_sparse))\n",
    "test_sparse = hstack((data[train_num :][not_categorical], test_cat_sparse))"
   ]
  },
  {
   "cell_type": "code",
   "execution_count": 30,
   "metadata": {
    "collapsed": false
   },
   "outputs": [
    {
     "data": {
      "text/plain": [
       "(2197291, 34565)"
      ]
     },
     "execution_count": 30,
     "metadata": {},
     "output_type": "execute_result"
    }
   ],
   "source": [
    "train_sparse.shape"
   ]
  },
  {
   "cell_type": "code",
   "execution_count": 31,
   "metadata": {
    "collapsed": true
   },
   "outputs": [],
   "source": [
    "del data"
   ]
  },
  {
   "cell_type": "code",
   "execution_count": 32,
   "metadata": {
    "collapsed": false,
    "scrolled": true
   },
   "outputs": [
    {
     "data": {
      "text/plain": [
       "0          0\n",
       "1          0\n",
       "2          0\n",
       "3          0\n",
       "4          0\n",
       "5          0\n",
       "6          1\n",
       "7          1\n",
       "8          1\n",
       "9          1\n",
       "10         1\n",
       "11         1\n",
       "12         1\n",
       "13         1\n",
       "14         1\n",
       "15         1\n",
       "16         1\n",
       "17         1\n",
       "18         1\n",
       "19         1\n",
       "20         1\n",
       "21         1\n",
       "22         1\n",
       "23         1\n",
       "24         1\n",
       "25         1\n",
       "26         1\n",
       "27         1\n",
       "28         1\n",
       "29         1\n",
       "          ..\n",
       "2197261    1\n",
       "2197262    1\n",
       "2197263    1\n",
       "2197264    1\n",
       "2197265    1\n",
       "2197266    1\n",
       "2197267    1\n",
       "2197268    1\n",
       "2197269    1\n",
       "2197270    1\n",
       "2197271    1\n",
       "2197272    1\n",
       "2197273    1\n",
       "2197274    1\n",
       "2197275    1\n",
       "2197276    1\n",
       "2197277    1\n",
       "2197278    1\n",
       "2197279    1\n",
       "2197280    1\n",
       "2197281    1\n",
       "2197282    1\n",
       "2197283    1\n",
       "2197284    1\n",
       "2197285    1\n",
       "2197286    1\n",
       "2197287    1\n",
       "2197288    1\n",
       "2197289    1\n",
       "2197290    1\n",
       "Name: outcome, dtype: int8"
      ]
     },
     "execution_count": 32,
     "metadata": {},
     "output_type": "execute_result"
    }
   ],
   "source": [
    "y_train"
   ]
  },
  {
   "cell_type": "code",
   "execution_count": 33,
   "metadata": {
    "collapsed": true
   },
   "outputs": [],
   "source": [
    "dtrain = xgb.DMatrix(train_sparse, label=y_train)"
   ]
  },
  {
   "cell_type": "code",
   "execution_count": 34,
   "metadata": {
    "collapsed": true
   },
   "outputs": [],
   "source": [
    "dtest = xgb.DMatrix(test_sparse)"
   ]
  },
  {
   "cell_type": "code",
   "execution_count": 35,
   "metadata": {
    "collapsed": true
   },
   "outputs": [],
   "source": [
    "del train_sparse\n",
    "del test_sparse"
   ]
  },
  {
   "cell_type": "code",
   "execution_count": 36,
   "metadata": {
    "collapsed": true
   },
   "outputs": [],
   "source": [
    "param = {'max_depth':10, 'eta':0.02, 'silent':1, 'objective':'binary:logistic' }\n",
    "param['nthread'] = 4\n",
    "param['eval_metric'] = 'auc'\n",
    "param['subsample'] = 0.7\n",
    "param['colsample_bytree']= 0.7\n",
    "param['min_child_weight'] = 0\n",
    "param['booster'] = \"gblinear\""
   ]
  },
  {
   "cell_type": "code",
   "execution_count": 37,
   "metadata": {
    "collapsed": false
   },
   "outputs": [
    {
     "name": "stdout",
     "output_type": "stream",
     "text": [
      "[0]\ttrain-auc:0.887743\n",
      "Will train until train-auc hasn't improved in 10 rounds.\n",
      "[1]\ttrain-auc:0.895468\n",
      "[2]\ttrain-auc:0.903455\n",
      "[3]\ttrain-auc:0.911746\n",
      "[4]\ttrain-auc:0.91998\n",
      "[5]\ttrain-auc:0.927868\n",
      "[6]\ttrain-auc:0.935187\n",
      "[7]\ttrain-auc:0.941903\n",
      "[8]\ttrain-auc:0.948173\n",
      "[9]\ttrain-auc:0.953991\n",
      "[10]\ttrain-auc:0.959337\n",
      "[11]\ttrain-auc:0.964184\n",
      "[12]\ttrain-auc:0.968493\n",
      "[13]\ttrain-auc:0.972264\n",
      "[14]\ttrain-auc:0.975512\n",
      "[15]\ttrain-auc:0.978281\n",
      "[16]\ttrain-auc:0.980623\n",
      "[17]\ttrain-auc:0.982597\n",
      "[18]\ttrain-auc:0.984245\n",
      "[19]\ttrain-auc:0.985618\n",
      "[20]\ttrain-auc:0.98677\n",
      "[21]\ttrain-auc:0.987743\n",
      "[22]\ttrain-auc:0.988564\n",
      "[23]\ttrain-auc:0.989268\n",
      "[24]\ttrain-auc:0.989879\n",
      "[25]\ttrain-auc:0.990414\n",
      "[26]\ttrain-auc:0.990889\n",
      "[27]\ttrain-auc:0.991313\n",
      "[28]\ttrain-auc:0.991695\n",
      "[29]\ttrain-auc:0.992041\n",
      "[30]\ttrain-auc:0.992355\n",
      "[31]\ttrain-auc:0.992643\n",
      "[32]\ttrain-auc:0.992908\n",
      "[33]\ttrain-auc:0.993151\n",
      "[34]\ttrain-auc:0.993375\n",
      "[35]\ttrain-auc:0.993582\n",
      "[36]\ttrain-auc:0.993774\n",
      "[37]\ttrain-auc:0.993952\n",
      "[38]\ttrain-auc:0.994119\n",
      "[39]\ttrain-auc:0.994274\n",
      "[40]\ttrain-auc:0.99442\n",
      "[41]\ttrain-auc:0.994556\n",
      "[42]\ttrain-auc:0.994685\n",
      "[43]\ttrain-auc:0.994806\n",
      "[44]\ttrain-auc:0.99492\n",
      "[45]\ttrain-auc:0.995027\n",
      "[46]\ttrain-auc:0.995129\n",
      "[47]\ttrain-auc:0.995225\n",
      "[48]\ttrain-auc:0.995317\n",
      "[49]\ttrain-auc:0.995403\n",
      "[50]\ttrain-auc:0.995485\n",
      "[51]\ttrain-auc:0.995563\n",
      "[52]\ttrain-auc:0.995637\n",
      "[53]\ttrain-auc:0.995707\n",
      "[54]\ttrain-auc:0.995773\n",
      "[55]\ttrain-auc:0.995837\n",
      "[56]\ttrain-auc:0.995898\n",
      "[57]\ttrain-auc:0.995955\n",
      "[58]\ttrain-auc:0.99601\n",
      "[59]\ttrain-auc:0.996063\n",
      "[60]\ttrain-auc:0.996113\n",
      "[61]\ttrain-auc:0.996161\n",
      "[62]\ttrain-auc:0.996207\n",
      "[63]\ttrain-auc:0.996251\n",
      "[64]\ttrain-auc:0.996292\n",
      "[65]\ttrain-auc:0.996332\n",
      "[66]\ttrain-auc:0.996371\n",
      "[67]\ttrain-auc:0.996408\n",
      "[68]\ttrain-auc:0.996443\n",
      "[69]\ttrain-auc:0.996477\n",
      "[70]\ttrain-auc:0.996509\n",
      "[71]\ttrain-auc:0.99654\n",
      "[72]\ttrain-auc:0.99657\n",
      "[73]\ttrain-auc:0.996598\n",
      "[74]\ttrain-auc:0.996625\n",
      "[75]\ttrain-auc:0.996651\n",
      "[76]\ttrain-auc:0.996676\n",
      "[77]\ttrain-auc:0.9967\n",
      "[78]\ttrain-auc:0.996724\n",
      "[79]\ttrain-auc:0.996746\n",
      "[80]\ttrain-auc:0.996767\n",
      "[81]\ttrain-auc:0.996788\n",
      "[82]\ttrain-auc:0.996808\n",
      "[83]\ttrain-auc:0.996826\n",
      "[84]\ttrain-auc:0.996844\n",
      "[85]\ttrain-auc:0.996862\n",
      "[86]\ttrain-auc:0.996878\n",
      "[87]\ttrain-auc:0.996894\n",
      "[88]\ttrain-auc:0.99691\n",
      "[89]\ttrain-auc:0.996924\n",
      "[90]\ttrain-auc:0.996938\n",
      "[91]\ttrain-auc:0.996952\n",
      "[92]\ttrain-auc:0.996965\n",
      "[93]\ttrain-auc:0.996977\n",
      "[94]\ttrain-auc:0.996989\n",
      "[95]\ttrain-auc:0.997\n",
      "[96]\ttrain-auc:0.997011\n",
      "[97]\ttrain-auc:0.997021\n",
      "[98]\ttrain-auc:0.997031\n",
      "[99]\ttrain-auc:0.99704\n",
      "[100]\ttrain-auc:0.997049\n",
      "[101]\ttrain-auc:0.997058\n",
      "[102]\ttrain-auc:0.997066\n",
      "[103]\ttrain-auc:0.997075\n",
      "[104]\ttrain-auc:0.997082\n",
      "[105]\ttrain-auc:0.99709\n",
      "[106]\ttrain-auc:0.997097\n",
      "[107]\ttrain-auc:0.997104\n",
      "[108]\ttrain-auc:0.99711\n",
      "[109]\ttrain-auc:0.997117\n",
      "[110]\ttrain-auc:0.997123\n",
      "[111]\ttrain-auc:0.997129\n",
      "[112]\ttrain-auc:0.997135\n",
      "[113]\ttrain-auc:0.99714\n",
      "[114]\ttrain-auc:0.997146\n",
      "[115]\ttrain-auc:0.997151\n",
      "[116]\ttrain-auc:0.997156\n",
      "[117]\ttrain-auc:0.997161\n",
      "[118]\ttrain-auc:0.997165\n",
      "[119]\ttrain-auc:0.99717\n",
      "[120]\ttrain-auc:0.997174\n",
      "[121]\ttrain-auc:0.997178\n",
      "[122]\ttrain-auc:0.997182\n",
      "[123]\ttrain-auc:0.997186\n",
      "[124]\ttrain-auc:0.99719\n",
      "[125]\ttrain-auc:0.997194\n",
      "[126]\ttrain-auc:0.997197\n",
      "[127]\ttrain-auc:0.997201\n",
      "[128]\ttrain-auc:0.997204\n",
      "[129]\ttrain-auc:0.997207\n",
      "[130]\ttrain-auc:0.99721\n",
      "[131]\ttrain-auc:0.997213\n",
      "[132]\ttrain-auc:0.997216\n",
      "[133]\ttrain-auc:0.997219\n",
      "[134]\ttrain-auc:0.997222\n",
      "[135]\ttrain-auc:0.997225\n",
      "[136]\ttrain-auc:0.997227\n",
      "[137]\ttrain-auc:0.99723\n",
      "[138]\ttrain-auc:0.997232\n",
      "[139]\ttrain-auc:0.997235\n",
      "[140]\ttrain-auc:0.997237\n",
      "[141]\ttrain-auc:0.997239\n",
      "[142]\ttrain-auc:0.997241\n",
      "[143]\ttrain-auc:0.997243\n",
      "[144]\ttrain-auc:0.997245\n",
      "[145]\ttrain-auc:0.997247\n",
      "[146]\ttrain-auc:0.997249\n",
      "[147]\ttrain-auc:0.997251\n",
      "[148]\ttrain-auc:0.997253\n",
      "[149]\ttrain-auc:0.997255\n",
      "[150]\ttrain-auc:0.997256\n",
      "[151]\ttrain-auc:0.997258\n",
      "[152]\ttrain-auc:0.997259\n",
      "[153]\ttrain-auc:0.997261\n",
      "[154]\ttrain-auc:0.997262\n",
      "[155]\ttrain-auc:0.997264\n",
      "[156]\ttrain-auc:0.997265\n",
      "[157]\ttrain-auc:0.997267\n",
      "[158]\ttrain-auc:0.997268\n",
      "[159]\ttrain-auc:0.997269\n",
      "[160]\ttrain-auc:0.997271\n",
      "[161]\ttrain-auc:0.997272\n",
      "[162]\ttrain-auc:0.997273\n",
      "[163]\ttrain-auc:0.997274\n",
      "[164]\ttrain-auc:0.997275\n",
      "[165]\ttrain-auc:0.997276\n",
      "[166]\ttrain-auc:0.997277\n",
      "[167]\ttrain-auc:0.997278\n",
      "[168]\ttrain-auc:0.997279\n",
      "[169]\ttrain-auc:0.99728\n",
      "[170]\ttrain-auc:0.997281\n",
      "[171]\ttrain-auc:0.997282\n",
      "[172]\ttrain-auc:0.997283\n",
      "[173]\ttrain-auc:0.997284\n",
      "[174]\ttrain-auc:0.997284\n",
      "[175]\ttrain-auc:0.997285\n",
      "[176]\ttrain-auc:0.997286\n",
      "[177]\ttrain-auc:0.997287\n",
      "[178]\ttrain-auc:0.997287\n",
      "[179]\ttrain-auc:0.997288\n",
      "[180]\ttrain-auc:0.997289\n",
      "[181]\ttrain-auc:0.997289\n",
      "[182]\ttrain-auc:0.99729\n",
      "[183]\ttrain-auc:0.997291\n",
      "[184]\ttrain-auc:0.997291\n",
      "[185]\ttrain-auc:0.997292\n",
      "[186]\ttrain-auc:0.997292\n",
      "[187]\ttrain-auc:0.997293\n",
      "[188]\ttrain-auc:0.997293\n",
      "[189]\ttrain-auc:0.997294\n",
      "[190]\ttrain-auc:0.997294\n",
      "[191]\ttrain-auc:0.997295\n",
      "[192]\ttrain-auc:0.997295\n",
      "[193]\ttrain-auc:0.997296\n",
      "[194]\ttrain-auc:0.997296\n",
      "[195]\ttrain-auc:0.997297\n",
      "[196]\ttrain-auc:0.997297\n",
      "[197]\ttrain-auc:0.997298\n",
      "[198]\ttrain-auc:0.997298\n",
      "[199]\ttrain-auc:0.997298\n",
      "[200]\ttrain-auc:0.997299\n",
      "[201]\ttrain-auc:0.997299\n",
      "[202]\ttrain-auc:0.9973\n",
      "[203]\ttrain-auc:0.9973\n",
      "[204]\ttrain-auc:0.9973\n",
      "[205]\ttrain-auc:0.997301\n",
      "[206]\ttrain-auc:0.997301\n",
      "[207]\ttrain-auc:0.997301\n",
      "[208]\ttrain-auc:0.997302\n",
      "[209]\ttrain-auc:0.997302\n",
      "[210]\ttrain-auc:0.997302\n",
      "[211]\ttrain-auc:0.997303\n",
      "[212]\ttrain-auc:0.997303\n",
      "[213]\ttrain-auc:0.997303\n",
      "[214]\ttrain-auc:0.997303\n",
      "[215]\ttrain-auc:0.997304\n",
      "[216]\ttrain-auc:0.997304\n",
      "[217]\ttrain-auc:0.997304\n",
      "[218]\ttrain-auc:0.997305\n",
      "[219]\ttrain-auc:0.997305\n",
      "[220]\ttrain-auc:0.997305\n",
      "[221]\ttrain-auc:0.997305\n",
      "[222]\ttrain-auc:0.997306\n",
      "[223]\ttrain-auc:0.997306\n",
      "[224]\ttrain-auc:0.997306\n",
      "[225]\ttrain-auc:0.997306\n",
      "[226]\ttrain-auc:0.997307\n",
      "[227]\ttrain-auc:0.997307\n",
      "[228]\ttrain-auc:0.997307\n",
      "[229]\ttrain-auc:0.997307\n",
      "[230]\ttrain-auc:0.997307\n",
      "[231]\ttrain-auc:0.997308\n",
      "[232]\ttrain-auc:0.997308\n",
      "[233]\ttrain-auc:0.997308\n",
      "[234]\ttrain-auc:0.997308\n",
      "[235]\ttrain-auc:0.997308\n",
      "[236]\ttrain-auc:0.997309\n",
      "[237]\ttrain-auc:0.997309\n",
      "[238]\ttrain-auc:0.997309\n",
      "[239]\ttrain-auc:0.997309\n",
      "[240]\ttrain-auc:0.997309\n",
      "[241]\ttrain-auc:0.997309\n",
      "[242]\ttrain-auc:0.99731\n",
      "[243]\ttrain-auc:0.99731\n",
      "[244]\ttrain-auc:0.99731\n",
      "[245]\ttrain-auc:0.99731\n",
      "[246]\ttrain-auc:0.99731\n",
      "[247]\ttrain-auc:0.99731\n",
      "[248]\ttrain-auc:0.997311\n",
      "[249]\ttrain-auc:0.997311\n",
      "[250]\ttrain-auc:0.997311\n",
      "[251]\ttrain-auc:0.997311\n",
      "[252]\ttrain-auc:0.997311\n",
      "[253]\ttrain-auc:0.997311\n",
      "[254]\ttrain-auc:0.997312\n",
      "[255]\ttrain-auc:0.997312\n",
      "[256]\ttrain-auc:0.997312\n",
      "[257]\ttrain-auc:0.997312\n",
      "[258]\ttrain-auc:0.997312\n",
      "[259]\ttrain-auc:0.997312\n",
      "[260]\ttrain-auc:0.997312\n",
      "[261]\ttrain-auc:0.997313\n",
      "[262]\ttrain-auc:0.997313\n",
      "[263]\ttrain-auc:0.997313\n",
      "[264]\ttrain-auc:0.997313\n",
      "[265]\ttrain-auc:0.997313\n",
      "[266]\ttrain-auc:0.997313\n",
      "[267]\ttrain-auc:0.997313\n",
      "[268]\ttrain-auc:0.997313\n",
      "[269]\ttrain-auc:0.997314\n",
      "[270]\ttrain-auc:0.997314\n",
      "[271]\ttrain-auc:0.997314\n",
      "[272]\ttrain-auc:0.997314\n",
      "[273]\ttrain-auc:0.997314\n",
      "[274]\ttrain-auc:0.997314\n",
      "[275]\ttrain-auc:0.997314\n",
      "[276]\ttrain-auc:0.997315\n",
      "[277]\ttrain-auc:0.997315\n",
      "[278]\ttrain-auc:0.997315\n",
      "[279]\ttrain-auc:0.997315\n",
      "[280]\ttrain-auc:0.997315\n",
      "[281]\ttrain-auc:0.997315\n",
      "[282]\ttrain-auc:0.997315\n",
      "[283]\ttrain-auc:0.997315\n",
      "[284]\ttrain-auc:0.997316\n",
      "[285]\ttrain-auc:0.997316\n",
      "[286]\ttrain-auc:0.997316\n",
      "[287]\ttrain-auc:0.997316\n",
      "[288]\ttrain-auc:0.997316\n",
      "[289]\ttrain-auc:0.997316\n",
      "[290]\ttrain-auc:0.997316\n",
      "[291]\ttrain-auc:0.997316\n",
      "[292]\ttrain-auc:0.997316\n",
      "[293]\ttrain-auc:0.997317\n",
      "[294]\ttrain-auc:0.997317\n",
      "[295]\ttrain-auc:0.997317\n",
      "[296]\ttrain-auc:0.997317\n",
      "[297]\ttrain-auc:0.997317\n",
      "[298]\ttrain-auc:0.997317\n",
      "[299]\ttrain-auc:0.997317\n"
     ]
    }
   ],
   "source": [
    "watchlist  = [(dtrain,'train')]\n",
    "num_round = 300\n",
    "early_stopping_rounds=10\n",
    "bst = xgb.train(param, dtrain, num_round, watchlist,early_stopping_rounds=early_stopping_rounds)"
   ]
  },
  {
   "cell_type": "code",
   "execution_count": 42,
   "metadata": {
    "collapsed": false
   },
   "outputs": [
    {
     "data": {
      "text/html": [
       "<div>\n",
       "<table border=\"1\" class=\"dataframe\">\n",
       "  <thead>\n",
       "    <tr style=\"text-align: right;\">\n",
       "      <th></th>\n",
       "      <th>activity_id</th>\n",
       "      <th>outcome</th>\n",
       "    </tr>\n",
       "  </thead>\n",
       "  <tbody>\n",
       "    <tr>\n",
       "      <th>0</th>\n",
       "      <td>act1_249281</td>\n",
       "      <td>0.001425</td>\n",
       "    </tr>\n",
       "    <tr>\n",
       "      <th>1</th>\n",
       "      <td>act2_230855</td>\n",
       "      <td>0.001529</td>\n",
       "    </tr>\n",
       "    <tr>\n",
       "      <th>2</th>\n",
       "      <td>act1_240724</td>\n",
       "      <td>0.999439</td>\n",
       "    </tr>\n",
       "    <tr>\n",
       "      <th>3</th>\n",
       "      <td>act1_83552</td>\n",
       "      <td>0.999740</td>\n",
       "    </tr>\n",
       "    <tr>\n",
       "      <th>4</th>\n",
       "      <td>act2_1043301</td>\n",
       "      <td>0.999447</td>\n",
       "    </tr>\n",
       "  </tbody>\n",
       "</table>\n",
       "</div>"
      ],
      "text/plain": [
       "    activity_id   outcome\n",
       "0   act1_249281  0.001425\n",
       "1   act2_230855  0.001529\n",
       "2   act1_240724  0.999439\n",
       "3    act1_83552  0.999740\n",
       "4  act2_1043301  0.999447"
      ]
     },
     "execution_count": 42,
     "metadata": {},
     "output_type": "execute_result"
    }
   ],
   "source": [
    "ypred = bst.predict(dtest)\n",
    "output = pd.DataFrame({ 'activity_id' : test_activity_id, 'outcome': ypred })\n",
    "output.head()"
   ]
  },
  {
   "cell_type": "code",
   "execution_count": null,
   "metadata": {
    "collapsed": true
   },
   "outputs": [],
   "source": []
  }
 ],
 "metadata": {
  "kernelspec": {
   "display_name": "Python [Root]",
   "language": "python",
   "name": "Python [Root]"
  },
  "language_info": {
   "codemirror_mode": {
    "name": "ipython",
    "version": 2
   },
   "file_extension": ".py",
   "mimetype": "text/x-python",
   "name": "python",
   "nbconvert_exporter": "python",
   "pygments_lexer": "ipython2",
   "version": "2.7.12"
  }
 },
 "nbformat": 4,
 "nbformat_minor": 0
}
